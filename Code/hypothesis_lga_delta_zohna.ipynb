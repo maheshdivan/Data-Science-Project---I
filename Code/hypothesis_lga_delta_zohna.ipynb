{
 "cells": [
  {
   "cell_type": "code",
   "execution_count": 1,
   "metadata": {},
   "outputs": [],
   "source": [
    "import pandas as pd\n",
    "import scipy.stats as stats\n",
    "import matplotlib.pyplot as plt\n",
    "from scipy.stats import linregress"
   ]
  },
  {
   "cell_type": "code",
   "execution_count": 2,
   "metadata": {},
   "outputs": [],
   "source": [
    "df=pd.read_csv(\"LGA_delta_dest\")"
   ]
  },
  {
   "cell_type": "code",
   "execution_count": 3,
   "metadata": {},
   "outputs": [
    {
     "data": {
      "text/html": [
       "<div>\n",
       "<style scoped>\n",
       "    .dataframe tbody tr th:only-of-type {\n",
       "        vertical-align: middle;\n",
       "    }\n",
       "\n",
       "    .dataframe tbody tr th {\n",
       "        vertical-align: top;\n",
       "    }\n",
       "\n",
       "    .dataframe thead th {\n",
       "        text-align: right;\n",
       "    }\n",
       "</style>\n",
       "<table border=\"1\" class=\"dataframe\">\n",
       "  <thead>\n",
       "    <tr style=\"text-align: right;\">\n",
       "      <th></th>\n",
       "      <th>Date (MM/DD/YYYY)</th>\n",
       "      <th>Destination Airport</th>\n",
       "      <th>Scheduled elapsed time (Minutes)</th>\n",
       "      <th>Actual elapsed time (Minutes)</th>\n",
       "      <th>Departure delay (Minutes)</th>\n",
       "      <th>Delay Carrier (Minutes)</th>\n",
       "      <th>Delay Weather (Minutes)</th>\n",
       "      <th>Delay National Aviation System (Minutes)</th>\n",
       "      <th>Delay Security (Minutes)</th>\n",
       "      <th>Delay Late Aircraft Arrival (Minutes)</th>\n",
       "      <th>Date</th>\n",
       "    </tr>\n",
       "  </thead>\n",
       "  <tbody>\n",
       "    <tr>\n",
       "      <td>0</td>\n",
       "      <td>1/1/17</td>\n",
       "      <td>ATL</td>\n",
       "      <td>1605.0</td>\n",
       "      <td>1557.0</td>\n",
       "      <td>88.0</td>\n",
       "      <td>21.0</td>\n",
       "      <td>0.0</td>\n",
       "      <td>16.0</td>\n",
       "      <td>0.0</td>\n",
       "      <td>92.0</td>\n",
       "      <td>2017-01-01</td>\n",
       "    </tr>\n",
       "    <tr>\n",
       "      <td>1</td>\n",
       "      <td>1/1/17</td>\n",
       "      <td>BUF</td>\n",
       "      <td>87.0</td>\n",
       "      <td>75.0</td>\n",
       "      <td>-3.0</td>\n",
       "      <td>0.0</td>\n",
       "      <td>0.0</td>\n",
       "      <td>0.0</td>\n",
       "      <td>0.0</td>\n",
       "      <td>0.0</td>\n",
       "      <td>2017-01-01</td>\n",
       "    </tr>\n",
       "    <tr>\n",
       "      <td>2</td>\n",
       "      <td>1/1/17</td>\n",
       "      <td>DEN</td>\n",
       "      <td>551.0</td>\n",
       "      <td>526.0</td>\n",
       "      <td>16.0</td>\n",
       "      <td>0.0</td>\n",
       "      <td>0.0</td>\n",
       "      <td>0.0</td>\n",
       "      <td>0.0</td>\n",
       "      <td>0.0</td>\n",
       "      <td>2017-01-01</td>\n",
       "    </tr>\n",
       "    <tr>\n",
       "      <td>3</td>\n",
       "      <td>1/1/17</td>\n",
       "      <td>DTW</td>\n",
       "      <td>480.0</td>\n",
       "      <td>426.0</td>\n",
       "      <td>-13.0</td>\n",
       "      <td>0.0</td>\n",
       "      <td>0.0</td>\n",
       "      <td>0.0</td>\n",
       "      <td>0.0</td>\n",
       "      <td>0.0</td>\n",
       "      <td>2017-01-01</td>\n",
       "    </tr>\n",
       "    <tr>\n",
       "      <td>4</td>\n",
       "      <td>1/1/17</td>\n",
       "      <td>FLL</td>\n",
       "      <td>1549.0</td>\n",
       "      <td>1387.0</td>\n",
       "      <td>4.0</td>\n",
       "      <td>16.0</td>\n",
       "      <td>0.0</td>\n",
       "      <td>0.0</td>\n",
       "      <td>0.0</td>\n",
       "      <td>0.0</td>\n",
       "      <td>2017-01-01</td>\n",
       "    </tr>\n",
       "    <tr>\n",
       "      <td>...</td>\n",
       "      <td>...</td>\n",
       "      <td>...</td>\n",
       "      <td>...</td>\n",
       "      <td>...</td>\n",
       "      <td>...</td>\n",
       "      <td>...</td>\n",
       "      <td>...</td>\n",
       "      <td>...</td>\n",
       "      <td>...</td>\n",
       "      <td>...</td>\n",
       "      <td>...</td>\n",
       "    </tr>\n",
       "    <tr>\n",
       "      <td>13686</td>\n",
       "      <td>9/9/19</td>\n",
       "      <td>MSP</td>\n",
       "      <td>1275.0</td>\n",
       "      <td>1288.0</td>\n",
       "      <td>-26.0</td>\n",
       "      <td>0.0</td>\n",
       "      <td>0.0</td>\n",
       "      <td>0.0</td>\n",
       "      <td>0.0</td>\n",
       "      <td>0.0</td>\n",
       "      <td>2019-09-09</td>\n",
       "    </tr>\n",
       "    <tr>\n",
       "      <td>13687</td>\n",
       "      <td>9/9/19</td>\n",
       "      <td>MSY</td>\n",
       "      <td>190.0</td>\n",
       "      <td>199.0</td>\n",
       "      <td>-7.0</td>\n",
       "      <td>0.0</td>\n",
       "      <td>0.0</td>\n",
       "      <td>0.0</td>\n",
       "      <td>0.0</td>\n",
       "      <td>0.0</td>\n",
       "      <td>2019-09-09</td>\n",
       "    </tr>\n",
       "    <tr>\n",
       "      <td>13688</td>\n",
       "      <td>9/9/19</td>\n",
       "      <td>ORD</td>\n",
       "      <td>2093.0</td>\n",
       "      <td>2147.0</td>\n",
       "      <td>91.0</td>\n",
       "      <td>93.0</td>\n",
       "      <td>0.0</td>\n",
       "      <td>92.0</td>\n",
       "      <td>0.0</td>\n",
       "      <td>21.0</td>\n",
       "      <td>2019-09-09</td>\n",
       "    </tr>\n",
       "    <tr>\n",
       "      <td>13689</td>\n",
       "      <td>9/9/19</td>\n",
       "      <td>PBI</td>\n",
       "      <td>730.0</td>\n",
       "      <td>738.0</td>\n",
       "      <td>-2.0</td>\n",
       "      <td>0.0</td>\n",
       "      <td>0.0</td>\n",
       "      <td>0.0</td>\n",
       "      <td>0.0</td>\n",
       "      <td>0.0</td>\n",
       "      <td>2019-09-09</td>\n",
       "    </tr>\n",
       "    <tr>\n",
       "      <td>13690</td>\n",
       "      <td>9/9/19</td>\n",
       "      <td>TPA</td>\n",
       "      <td>731.0</td>\n",
       "      <td>708.0</td>\n",
       "      <td>6.0</td>\n",
       "      <td>21.0</td>\n",
       "      <td>0.0</td>\n",
       "      <td>6.0</td>\n",
       "      <td>0.0</td>\n",
       "      <td>0.0</td>\n",
       "      <td>2019-09-09</td>\n",
       "    </tr>\n",
       "  </tbody>\n",
       "</table>\n",
       "<p>13691 rows × 11 columns</p>\n",
       "</div>"
      ],
      "text/plain": [
       "      Date (MM/DD/YYYY) Destination Airport  Scheduled elapsed time (Minutes)  \\\n",
       "0                1/1/17                 ATL                            1605.0   \n",
       "1                1/1/17                 BUF                              87.0   \n",
       "2                1/1/17                 DEN                             551.0   \n",
       "3                1/1/17                 DTW                             480.0   \n",
       "4                1/1/17                 FLL                            1549.0   \n",
       "...                 ...                 ...                               ...   \n",
       "13686            9/9/19                 MSP                            1275.0   \n",
       "13687            9/9/19                 MSY                             190.0   \n",
       "13688            9/9/19                 ORD                            2093.0   \n",
       "13689            9/9/19                 PBI                             730.0   \n",
       "13690            9/9/19                 TPA                             731.0   \n",
       "\n",
       "       Actual elapsed time (Minutes)  Departure delay (Minutes)  \\\n",
       "0                             1557.0                       88.0   \n",
       "1                               75.0                       -3.0   \n",
       "2                              526.0                       16.0   \n",
       "3                              426.0                      -13.0   \n",
       "4                             1387.0                        4.0   \n",
       "...                              ...                        ...   \n",
       "13686                         1288.0                      -26.0   \n",
       "13687                          199.0                       -7.0   \n",
       "13688                         2147.0                       91.0   \n",
       "13689                          738.0                       -2.0   \n",
       "13690                          708.0                        6.0   \n",
       "\n",
       "       Delay Carrier (Minutes)  Delay Weather (Minutes)  \\\n",
       "0                         21.0                      0.0   \n",
       "1                          0.0                      0.0   \n",
       "2                          0.0                      0.0   \n",
       "3                          0.0                      0.0   \n",
       "4                         16.0                      0.0   \n",
       "...                        ...                      ...   \n",
       "13686                      0.0                      0.0   \n",
       "13687                      0.0                      0.0   \n",
       "13688                     93.0                      0.0   \n",
       "13689                      0.0                      0.0   \n",
       "13690                     21.0                      0.0   \n",
       "\n",
       "       Delay National Aviation System (Minutes)  Delay Security (Minutes)  \\\n",
       "0                                          16.0                       0.0   \n",
       "1                                           0.0                       0.0   \n",
       "2                                           0.0                       0.0   \n",
       "3                                           0.0                       0.0   \n",
       "4                                           0.0                       0.0   \n",
       "...                                         ...                       ...   \n",
       "13686                                       0.0                       0.0   \n",
       "13687                                       0.0                       0.0   \n",
       "13688                                      92.0                       0.0   \n",
       "13689                                       0.0                       0.0   \n",
       "13690                                       6.0                       0.0   \n",
       "\n",
       "       Delay Late Aircraft Arrival (Minutes)        Date  \n",
       "0                                       92.0  2017-01-01  \n",
       "1                                        0.0  2017-01-01  \n",
       "2                                        0.0  2017-01-01  \n",
       "3                                        0.0  2017-01-01  \n",
       "4                                        0.0  2017-01-01  \n",
       "...                                      ...         ...  \n",
       "13686                                    0.0  2019-09-09  \n",
       "13687                                    0.0  2019-09-09  \n",
       "13688                                   21.0  2019-09-09  \n",
       "13689                                    0.0  2019-09-09  \n",
       "13690                                    0.0  2019-09-09  \n",
       "\n",
       "[13691 rows x 11 columns]"
      ]
     },
     "execution_count": 3,
     "metadata": {},
     "output_type": "execute_result"
    }
   ],
   "source": [
    "df"
   ]
  },
  {
   "cell_type": "code",
   "execution_count": 4,
   "metadata": {},
   "outputs": [],
   "source": [
    "df1=df.groupby(['Date (MM/DD/YYYY)'],as_index=False).sum()"
   ]
  },
  {
   "cell_type": "code",
   "execution_count": 5,
   "metadata": {},
   "outputs": [
    {
     "data": {
      "text/html": [
       "<div>\n",
       "<style scoped>\n",
       "    .dataframe tbody tr th:only-of-type {\n",
       "        vertical-align: middle;\n",
       "    }\n",
       "\n",
       "    .dataframe tbody tr th {\n",
       "        vertical-align: top;\n",
       "    }\n",
       "\n",
       "    .dataframe thead th {\n",
       "        text-align: right;\n",
       "    }\n",
       "</style>\n",
       "<table border=\"1\" class=\"dataframe\">\n",
       "  <thead>\n",
       "    <tr style=\"text-align: right;\">\n",
       "      <th></th>\n",
       "      <th>Date (MM/DD/YYYY)</th>\n",
       "      <th>Scheduled elapsed time (Minutes)</th>\n",
       "      <th>Actual elapsed time (Minutes)</th>\n",
       "      <th>Departure delay (Minutes)</th>\n",
       "      <th>Delay Carrier (Minutes)</th>\n",
       "      <th>Delay Weather (Minutes)</th>\n",
       "      <th>Delay National Aviation System (Minutes)</th>\n",
       "      <th>Delay Security (Minutes)</th>\n",
       "      <th>Delay Late Aircraft Arrival (Minutes)</th>\n",
       "    </tr>\n",
       "  </thead>\n",
       "  <tbody>\n",
       "    <tr>\n",
       "      <td>0</td>\n",
       "      <td>1/1/17</td>\n",
       "      <td>12258.0</td>\n",
       "      <td>11273.0</td>\n",
       "      <td>214.0</td>\n",
       "      <td>138.0</td>\n",
       "      <td>0.0</td>\n",
       "      <td>16.0</td>\n",
       "      <td>0.0</td>\n",
       "      <td>92.0</td>\n",
       "    </tr>\n",
       "    <tr>\n",
       "      <td>1</td>\n",
       "      <td>1/1/18</td>\n",
       "      <td>12424.0</td>\n",
       "      <td>11680.0</td>\n",
       "      <td>594.0</td>\n",
       "      <td>278.0</td>\n",
       "      <td>0.0</td>\n",
       "      <td>82.0</td>\n",
       "      <td>0.0</td>\n",
       "      <td>184.0</td>\n",
       "    </tr>\n",
       "    <tr>\n",
       "      <td>2</td>\n",
       "      <td>1/1/19</td>\n",
       "      <td>10954.0</td>\n",
       "      <td>10084.0</td>\n",
       "      <td>-228.0</td>\n",
       "      <td>0.0</td>\n",
       "      <td>22.0</td>\n",
       "      <td>29.0</td>\n",
       "      <td>0.0</td>\n",
       "      <td>0.0</td>\n",
       "    </tr>\n",
       "    <tr>\n",
       "      <td>3</td>\n",
       "      <td>1/10/17</td>\n",
       "      <td>11735.0</td>\n",
       "      <td>10123.0</td>\n",
       "      <td>353.0</td>\n",
       "      <td>22.0</td>\n",
       "      <td>0.0</td>\n",
       "      <td>73.0</td>\n",
       "      <td>0.0</td>\n",
       "      <td>260.0</td>\n",
       "    </tr>\n",
       "    <tr>\n",
       "      <td>4</td>\n",
       "      <td>1/10/18</td>\n",
       "      <td>11725.0</td>\n",
       "      <td>10608.0</td>\n",
       "      <td>163.0</td>\n",
       "      <td>0.0</td>\n",
       "      <td>0.0</td>\n",
       "      <td>233.0</td>\n",
       "      <td>0.0</td>\n",
       "      <td>0.0</td>\n",
       "    </tr>\n",
       "    <tr>\n",
       "      <td>...</td>\n",
       "      <td>...</td>\n",
       "      <td>...</td>\n",
       "      <td>...</td>\n",
       "      <td>...</td>\n",
       "      <td>...</td>\n",
       "      <td>...</td>\n",
       "      <td>...</td>\n",
       "      <td>...</td>\n",
       "      <td>...</td>\n",
       "    </tr>\n",
       "    <tr>\n",
       "      <td>95</td>\n",
       "      <td>10/10/17</td>\n",
       "      <td>10171.0</td>\n",
       "      <td>9698.0</td>\n",
       "      <td>110.0</td>\n",
       "      <td>42.0</td>\n",
       "      <td>0.0</td>\n",
       "      <td>69.0</td>\n",
       "      <td>0.0</td>\n",
       "      <td>55.0</td>\n",
       "    </tr>\n",
       "    <tr>\n",
       "      <td>96</td>\n",
       "      <td>10/10/18</td>\n",
       "      <td>10567.0</td>\n",
       "      <td>9594.0</td>\n",
       "      <td>-103.0</td>\n",
       "      <td>58.0</td>\n",
       "      <td>0.0</td>\n",
       "      <td>16.0</td>\n",
       "      <td>0.0</td>\n",
       "      <td>18.0</td>\n",
       "    </tr>\n",
       "    <tr>\n",
       "      <td>97</td>\n",
       "      <td>10/11/17</td>\n",
       "      <td>10171.0</td>\n",
       "      <td>9766.0</td>\n",
       "      <td>-126.0</td>\n",
       "      <td>32.0</td>\n",
       "      <td>0.0</td>\n",
       "      <td>0.0</td>\n",
       "      <td>0.0</td>\n",
       "      <td>0.0</td>\n",
       "    </tr>\n",
       "    <tr>\n",
       "      <td>98</td>\n",
       "      <td>10/11/18</td>\n",
       "      <td>11267.0</td>\n",
       "      <td>11816.0</td>\n",
       "      <td>7507.0</td>\n",
       "      <td>1630.0</td>\n",
       "      <td>0.0</td>\n",
       "      <td>1547.0</td>\n",
       "      <td>0.0</td>\n",
       "      <td>5067.0</td>\n",
       "    </tr>\n",
       "    <tr>\n",
       "      <td>99</td>\n",
       "      <td>10/12/17</td>\n",
       "      <td>11265.0</td>\n",
       "      <td>10875.0</td>\n",
       "      <td>229.0</td>\n",
       "      <td>109.0</td>\n",
       "      <td>0.0</td>\n",
       "      <td>82.0</td>\n",
       "      <td>0.0</td>\n",
       "      <td>74.0</td>\n",
       "    </tr>\n",
       "  </tbody>\n",
       "</table>\n",
       "<p>100 rows × 9 columns</p>\n",
       "</div>"
      ],
      "text/plain": [
       "   Date (MM/DD/YYYY)  Scheduled elapsed time (Minutes)  \\\n",
       "0             1/1/17                           12258.0   \n",
       "1             1/1/18                           12424.0   \n",
       "2             1/1/19                           10954.0   \n",
       "3            1/10/17                           11735.0   \n",
       "4            1/10/18                           11725.0   \n",
       "..               ...                               ...   \n",
       "95          10/10/17                           10171.0   \n",
       "96          10/10/18                           10567.0   \n",
       "97          10/11/17                           10171.0   \n",
       "98          10/11/18                           11267.0   \n",
       "99          10/12/17                           11265.0   \n",
       "\n",
       "    Actual elapsed time (Minutes)  Departure delay (Minutes)  \\\n",
       "0                         11273.0                      214.0   \n",
       "1                         11680.0                      594.0   \n",
       "2                         10084.0                     -228.0   \n",
       "3                         10123.0                      353.0   \n",
       "4                         10608.0                      163.0   \n",
       "..                            ...                        ...   \n",
       "95                         9698.0                      110.0   \n",
       "96                         9594.0                     -103.0   \n",
       "97                         9766.0                     -126.0   \n",
       "98                        11816.0                     7507.0   \n",
       "99                        10875.0                      229.0   \n",
       "\n",
       "    Delay Carrier (Minutes)  Delay Weather (Minutes)  \\\n",
       "0                     138.0                      0.0   \n",
       "1                     278.0                      0.0   \n",
       "2                       0.0                     22.0   \n",
       "3                      22.0                      0.0   \n",
       "4                       0.0                      0.0   \n",
       "..                      ...                      ...   \n",
       "95                     42.0                      0.0   \n",
       "96                     58.0                      0.0   \n",
       "97                     32.0                      0.0   \n",
       "98                   1630.0                      0.0   \n",
       "99                    109.0                      0.0   \n",
       "\n",
       "    Delay National Aviation System (Minutes)  Delay Security (Minutes)  \\\n",
       "0                                       16.0                       0.0   \n",
       "1                                       82.0                       0.0   \n",
       "2                                       29.0                       0.0   \n",
       "3                                       73.0                       0.0   \n",
       "4                                      233.0                       0.0   \n",
       "..                                       ...                       ...   \n",
       "95                                      69.0                       0.0   \n",
       "96                                      16.0                       0.0   \n",
       "97                                       0.0                       0.0   \n",
       "98                                    1547.0                       0.0   \n",
       "99                                      82.0                       0.0   \n",
       "\n",
       "    Delay Late Aircraft Arrival (Minutes)  \n",
       "0                                    92.0  \n",
       "1                                   184.0  \n",
       "2                                     0.0  \n",
       "3                                   260.0  \n",
       "4                                     0.0  \n",
       "..                                    ...  \n",
       "95                                   55.0  \n",
       "96                                   18.0  \n",
       "97                                    0.0  \n",
       "98                                 5067.0  \n",
       "99                                   74.0  \n",
       "\n",
       "[100 rows x 9 columns]"
      ]
     },
     "execution_count": 5,
     "metadata": {},
     "output_type": "execute_result"
    }
   ],
   "source": [
    "df1.head(100)"
   ]
  },
  {
   "cell_type": "code",
   "execution_count": 6,
   "metadata": {},
   "outputs": [],
   "source": [
    "df1['Date'] = pd.to_datetime(df1['Date (MM/DD/YYYY)'])"
   ]
  },
  {
   "cell_type": "code",
   "execution_count": 7,
   "metadata": {},
   "outputs": [],
   "source": [
    "df1=df1.drop(['Date (MM/DD/YYYY)'],axis=1)"
   ]
  },
  {
   "cell_type": "code",
   "execution_count": 8,
   "metadata": {},
   "outputs": [],
   "source": [
    "df2=df1.sort_values(by=['Date'],ascending=False)"
   ]
  },
  {
   "cell_type": "code",
   "execution_count": 9,
   "metadata": {},
   "outputs": [
    {
     "data": {
      "text/html": [
       "<div>\n",
       "<style scoped>\n",
       "    .dataframe tbody tr th:only-of-type {\n",
       "        vertical-align: middle;\n",
       "    }\n",
       "\n",
       "    .dataframe tbody tr th {\n",
       "        vertical-align: top;\n",
       "    }\n",
       "\n",
       "    .dataframe thead th {\n",
       "        text-align: right;\n",
       "    }\n",
       "</style>\n",
       "<table border=\"1\" class=\"dataframe\">\n",
       "  <thead>\n",
       "    <tr style=\"text-align: right;\">\n",
       "      <th></th>\n",
       "      <th>Scheduled elapsed time (Minutes)</th>\n",
       "      <th>Actual elapsed time (Minutes)</th>\n",
       "      <th>Departure delay (Minutes)</th>\n",
       "      <th>Delay Carrier (Minutes)</th>\n",
       "      <th>Delay Weather (Minutes)</th>\n",
       "      <th>Delay National Aviation System (Minutes)</th>\n",
       "      <th>Delay Security (Minutes)</th>\n",
       "      <th>Delay Late Aircraft Arrival (Minutes)</th>\n",
       "      <th>Date</th>\n",
       "    </tr>\n",
       "  </thead>\n",
       "  <tbody>\n",
       "    <tr>\n",
       "      <td>984</td>\n",
       "      <td>15209.0</td>\n",
       "      <td>14225.0</td>\n",
       "      <td>704.0</td>\n",
       "      <td>385.0</td>\n",
       "      <td>0.0</td>\n",
       "      <td>65.0</td>\n",
       "      <td>0.0</td>\n",
       "      <td>265.0</td>\n",
       "      <td>2019-09-30</td>\n",
       "    </tr>\n",
       "    <tr>\n",
       "      <td>978</td>\n",
       "      <td>12866.0</td>\n",
       "      <td>11900.0</td>\n",
       "      <td>264.0</td>\n",
       "      <td>26.0</td>\n",
       "      <td>0.0</td>\n",
       "      <td>45.0</td>\n",
       "      <td>0.0</td>\n",
       "      <td>153.0</td>\n",
       "      <td>2019-09-29</td>\n",
       "    </tr>\n",
       "    <tr>\n",
       "      <td>975</td>\n",
       "      <td>7983.0</td>\n",
       "      <td>8257.0</td>\n",
       "      <td>783.0</td>\n",
       "      <td>591.0</td>\n",
       "      <td>0.0</td>\n",
       "      <td>375.0</td>\n",
       "      <td>0.0</td>\n",
       "      <td>217.0</td>\n",
       "      <td>2019-09-28</td>\n",
       "    </tr>\n",
       "    <tr>\n",
       "      <td>972</td>\n",
       "      <td>14744.0</td>\n",
       "      <td>13052.0</td>\n",
       "      <td>1600.0</td>\n",
       "      <td>443.0</td>\n",
       "      <td>0.0</td>\n",
       "      <td>760.0</td>\n",
       "      <td>0.0</td>\n",
       "      <td>411.0</td>\n",
       "      <td>2019-09-27</td>\n",
       "    </tr>\n",
       "    <tr>\n",
       "      <td>969</td>\n",
       "      <td>14744.0</td>\n",
       "      <td>14586.0</td>\n",
       "      <td>1900.0</td>\n",
       "      <td>617.0</td>\n",
       "      <td>184.0</td>\n",
       "      <td>822.0</td>\n",
       "      <td>0.0</td>\n",
       "      <td>643.0</td>\n",
       "      <td>2019-09-26</td>\n",
       "    </tr>\n",
       "    <tr>\n",
       "      <td>...</td>\n",
       "      <td>...</td>\n",
       "      <td>...</td>\n",
       "      <td>...</td>\n",
       "      <td>...</td>\n",
       "      <td>...</td>\n",
       "      <td>...</td>\n",
       "      <td>...</td>\n",
       "      <td>...</td>\n",
       "      <td>...</td>\n",
       "    </tr>\n",
       "    <tr>\n",
       "      <td>78</td>\n",
       "      <td>11411.0</td>\n",
       "      <td>10428.0</td>\n",
       "      <td>297.0</td>\n",
       "      <td>288.0</td>\n",
       "      <td>0.0</td>\n",
       "      <td>9.0</td>\n",
       "      <td>0.0</td>\n",
       "      <td>52.0</td>\n",
       "      <td>2017-01-05</td>\n",
       "    </tr>\n",
       "    <tr>\n",
       "      <td>75</td>\n",
       "      <td>11020.0</td>\n",
       "      <td>9941.0</td>\n",
       "      <td>213.0</td>\n",
       "      <td>193.0</td>\n",
       "      <td>0.0</td>\n",
       "      <td>41.0</td>\n",
       "      <td>0.0</td>\n",
       "      <td>29.0</td>\n",
       "      <td>2017-01-04</td>\n",
       "    </tr>\n",
       "    <tr>\n",
       "      <td>66</td>\n",
       "      <td>10757.0</td>\n",
       "      <td>10238.0</td>\n",
       "      <td>193.0</td>\n",
       "      <td>157.0</td>\n",
       "      <td>0.0</td>\n",
       "      <td>144.0</td>\n",
       "      <td>0.0</td>\n",
       "      <td>0.0</td>\n",
       "      <td>2017-01-03</td>\n",
       "    </tr>\n",
       "    <tr>\n",
       "      <td>33</td>\n",
       "      <td>13685.0</td>\n",
       "      <td>13016.0</td>\n",
       "      <td>406.0</td>\n",
       "      <td>233.0</td>\n",
       "      <td>40.0</td>\n",
       "      <td>187.0</td>\n",
       "      <td>0.0</td>\n",
       "      <td>83.0</td>\n",
       "      <td>2017-01-02</td>\n",
       "    </tr>\n",
       "    <tr>\n",
       "      <td>0</td>\n",
       "      <td>12258.0</td>\n",
       "      <td>11273.0</td>\n",
       "      <td>214.0</td>\n",
       "      <td>138.0</td>\n",
       "      <td>0.0</td>\n",
       "      <td>16.0</td>\n",
       "      <td>0.0</td>\n",
       "      <td>92.0</td>\n",
       "      <td>2017-01-01</td>\n",
       "    </tr>\n",
       "  </tbody>\n",
       "</table>\n",
       "<p>1003 rows × 9 columns</p>\n",
       "</div>"
      ],
      "text/plain": [
       "     Scheduled elapsed time (Minutes)  Actual elapsed time (Minutes)  \\\n",
       "984                           15209.0                        14225.0   \n",
       "978                           12866.0                        11900.0   \n",
       "975                            7983.0                         8257.0   \n",
       "972                           14744.0                        13052.0   \n",
       "969                           14744.0                        14586.0   \n",
       "..                                ...                            ...   \n",
       "78                            11411.0                        10428.0   \n",
       "75                            11020.0                         9941.0   \n",
       "66                            10757.0                        10238.0   \n",
       "33                            13685.0                        13016.0   \n",
       "0                             12258.0                        11273.0   \n",
       "\n",
       "     Departure delay (Minutes)  Delay Carrier (Minutes)  \\\n",
       "984                      704.0                    385.0   \n",
       "978                      264.0                     26.0   \n",
       "975                      783.0                    591.0   \n",
       "972                     1600.0                    443.0   \n",
       "969                     1900.0                    617.0   \n",
       "..                         ...                      ...   \n",
       "78                       297.0                    288.0   \n",
       "75                       213.0                    193.0   \n",
       "66                       193.0                    157.0   \n",
       "33                       406.0                    233.0   \n",
       "0                        214.0                    138.0   \n",
       "\n",
       "     Delay Weather (Minutes)  Delay National Aviation System (Minutes)  \\\n",
       "984                      0.0                                      65.0   \n",
       "978                      0.0                                      45.0   \n",
       "975                      0.0                                     375.0   \n",
       "972                      0.0                                     760.0   \n",
       "969                    184.0                                     822.0   \n",
       "..                       ...                                       ...   \n",
       "78                       0.0                                       9.0   \n",
       "75                       0.0                                      41.0   \n",
       "66                       0.0                                     144.0   \n",
       "33                      40.0                                     187.0   \n",
       "0                        0.0                                      16.0   \n",
       "\n",
       "     Delay Security (Minutes)  Delay Late Aircraft Arrival (Minutes)  \\\n",
       "984                       0.0                                  265.0   \n",
       "978                       0.0                                  153.0   \n",
       "975                       0.0                                  217.0   \n",
       "972                       0.0                                  411.0   \n",
       "969                       0.0                                  643.0   \n",
       "..                        ...                                    ...   \n",
       "78                        0.0                                   52.0   \n",
       "75                        0.0                                   29.0   \n",
       "66                        0.0                                    0.0   \n",
       "33                        0.0                                   83.0   \n",
       "0                         0.0                                   92.0   \n",
       "\n",
       "          Date  \n",
       "984 2019-09-30  \n",
       "978 2019-09-29  \n",
       "975 2019-09-28  \n",
       "972 2019-09-27  \n",
       "969 2019-09-26  \n",
       "..         ...  \n",
       "78  2017-01-05  \n",
       "75  2017-01-04  \n",
       "66  2017-01-03  \n",
       "33  2017-01-02  \n",
       "0   2017-01-01  \n",
       "\n",
       "[1003 rows x 9 columns]"
      ]
     },
     "execution_count": 9,
     "metadata": {},
     "output_type": "execute_result"
    }
   ],
   "source": [
    "df2"
   ]
  },
  {
   "cell_type": "code",
   "execution_count": 10,
   "metadata": {},
   "outputs": [],
   "source": [
    "df2['Half year']=pd.qcut(df2['Date'],q=12)"
   ]
  },
  {
   "cell_type": "code",
   "execution_count": 11,
   "metadata": {},
   "outputs": [],
   "source": [
    "df3=df2.groupby('Half year')"
   ]
  },
  {
   "cell_type": "code",
   "execution_count": 12,
   "metadata": {},
   "outputs": [],
   "source": [
    "df4=df3[['Departure delay (Minutes)','Delay Carrier (Minutes)','Delay Weather (Minutes)','Delay National Aviation System (Minutes)','Delay Security (Minutes)','Delay Late Aircraft Arrival (Minutes)']].sum()"
   ]
  },
  {
   "cell_type": "code",
   "execution_count": 13,
   "metadata": {},
   "outputs": [
    {
     "data": {
      "text/html": [
       "<div>\n",
       "<style scoped>\n",
       "    .dataframe tbody tr th:only-of-type {\n",
       "        vertical-align: middle;\n",
       "    }\n",
       "\n",
       "    .dataframe tbody tr th {\n",
       "        vertical-align: top;\n",
       "    }\n",
       "\n",
       "    .dataframe thead th {\n",
       "        text-align: right;\n",
       "    }\n",
       "</style>\n",
       "<table border=\"1\" class=\"dataframe\">\n",
       "  <thead>\n",
       "    <tr style=\"text-align: right;\">\n",
       "      <th></th>\n",
       "      <th>Departure delay (Minutes)</th>\n",
       "      <th>Delay Carrier (Minutes)</th>\n",
       "      <th>Delay Weather (Minutes)</th>\n",
       "      <th>Delay National Aviation System (Minutes)</th>\n",
       "      <th>Delay Security (Minutes)</th>\n",
       "      <th>Delay Late Aircraft Arrival (Minutes)</th>\n",
       "    </tr>\n",
       "    <tr>\n",
       "      <th>Half year</th>\n",
       "      <th></th>\n",
       "      <th></th>\n",
       "      <th></th>\n",
       "      <th></th>\n",
       "      <th></th>\n",
       "      <th></th>\n",
       "    </tr>\n",
       "  </thead>\n",
       "  <tbody>\n",
       "    <tr>\n",
       "      <td>(2019-07-08 12:00:00, 2019-09-30]</td>\n",
       "      <td>157859.0</td>\n",
       "      <td>56864.0</td>\n",
       "      <td>4601.0</td>\n",
       "      <td>62379.0</td>\n",
       "      <td>111.0</td>\n",
       "      <td>56745.0</td>\n",
       "    </tr>\n",
       "    <tr>\n",
       "      <td>(2019-04-16, 2019-07-08 12:00:00]</td>\n",
       "      <td>146628.0</td>\n",
       "      <td>48132.0</td>\n",
       "      <td>3316.0</td>\n",
       "      <td>48940.0</td>\n",
       "      <td>0.0</td>\n",
       "      <td>64173.0</td>\n",
       "    </tr>\n",
       "    <tr>\n",
       "      <td>(2017-03-25 12:00:00, 2017-06-17]</td>\n",
       "      <td>137279.0</td>\n",
       "      <td>39424.0</td>\n",
       "      <td>3131.0</td>\n",
       "      <td>27048.0</td>\n",
       "      <td>32.0</td>\n",
       "      <td>62576.0</td>\n",
       "    </tr>\n",
       "    <tr>\n",
       "      <td>(2019-01-22 12:00:00, 2019-04-16]</td>\n",
       "      <td>93031.0</td>\n",
       "      <td>29123.0</td>\n",
       "      <td>2576.0</td>\n",
       "      <td>27371.0</td>\n",
       "      <td>77.0</td>\n",
       "      <td>46871.0</td>\n",
       "    </tr>\n",
       "    <tr>\n",
       "      <td>(2018-05-17, 2018-08-08 12:00:00]</td>\n",
       "      <td>90180.0</td>\n",
       "      <td>19627.0</td>\n",
       "      <td>2362.0</td>\n",
       "      <td>30467.0</td>\n",
       "      <td>25.0</td>\n",
       "      <td>44948.0</td>\n",
       "    </tr>\n",
       "    <tr>\n",
       "      <td>(2017-06-17, 2017-09-08 12:00:00]</td>\n",
       "      <td>88189.0</td>\n",
       "      <td>22592.0</td>\n",
       "      <td>1587.0</td>\n",
       "      <td>24682.0</td>\n",
       "      <td>159.0</td>\n",
       "      <td>39745.0</td>\n",
       "    </tr>\n",
       "    <tr>\n",
       "      <td>(2016-12-31 23:59:59.999999999, 2017-03-25 12:00:00]</td>\n",
       "      <td>86076.0</td>\n",
       "      <td>27695.0</td>\n",
       "      <td>6647.0</td>\n",
       "      <td>11126.0</td>\n",
       "      <td>0.0</td>\n",
       "      <td>34088.0</td>\n",
       "    </tr>\n",
       "    <tr>\n",
       "      <td>(2018-08-08 12:00:00, 2018-10-31]</td>\n",
       "      <td>66557.0</td>\n",
       "      <td>21010.0</td>\n",
       "      <td>2943.0</td>\n",
       "      <td>18400.0</td>\n",
       "      <td>84.0</td>\n",
       "      <td>32491.0</td>\n",
       "    </tr>\n",
       "    <tr>\n",
       "      <td>(2017-12-01, 2018-02-22 12:00:00]</td>\n",
       "      <td>58529.0</td>\n",
       "      <td>18329.0</td>\n",
       "      <td>2623.0</td>\n",
       "      <td>17588.0</td>\n",
       "      <td>55.0</td>\n",
       "      <td>22848.0</td>\n",
       "    </tr>\n",
       "    <tr>\n",
       "      <td>(2018-02-22 12:00:00, 2018-05-17]</td>\n",
       "      <td>55549.0</td>\n",
       "      <td>15118.0</td>\n",
       "      <td>4638.0</td>\n",
       "      <td>14025.0</td>\n",
       "      <td>60.0</td>\n",
       "      <td>26412.0</td>\n",
       "    </tr>\n",
       "    <tr>\n",
       "      <td>(2018-10-31, 2019-01-22 12:00:00]</td>\n",
       "      <td>45487.0</td>\n",
       "      <td>13922.0</td>\n",
       "      <td>5098.0</td>\n",
       "      <td>15395.0</td>\n",
       "      <td>47.0</td>\n",
       "      <td>19581.0</td>\n",
       "    </tr>\n",
       "    <tr>\n",
       "      <td>(2017-09-08 12:00:00, 2017-12-01]</td>\n",
       "      <td>32118.0</td>\n",
       "      <td>14527.0</td>\n",
       "      <td>252.0</td>\n",
       "      <td>9032.0</td>\n",
       "      <td>0.0</td>\n",
       "      <td>14005.0</td>\n",
       "    </tr>\n",
       "  </tbody>\n",
       "</table>\n",
       "</div>"
      ],
      "text/plain": [
       "                                                    Departure delay (Minutes)  \\\n",
       "Half year                                                                       \n",
       "(2019-07-08 12:00:00, 2019-09-30]                                    157859.0   \n",
       "(2019-04-16, 2019-07-08 12:00:00]                                    146628.0   \n",
       "(2017-03-25 12:00:00, 2017-06-17]                                    137279.0   \n",
       "(2019-01-22 12:00:00, 2019-04-16]                                     93031.0   \n",
       "(2018-05-17, 2018-08-08 12:00:00]                                     90180.0   \n",
       "(2017-06-17, 2017-09-08 12:00:00]                                     88189.0   \n",
       "(2016-12-31 23:59:59.999999999, 2017-03-25 12:0...                    86076.0   \n",
       "(2018-08-08 12:00:00, 2018-10-31]                                     66557.0   \n",
       "(2017-12-01, 2018-02-22 12:00:00]                                     58529.0   \n",
       "(2018-02-22 12:00:00, 2018-05-17]                                     55549.0   \n",
       "(2018-10-31, 2019-01-22 12:00:00]                                     45487.0   \n",
       "(2017-09-08 12:00:00, 2017-12-01]                                     32118.0   \n",
       "\n",
       "                                                    Delay Carrier (Minutes)  \\\n",
       "Half year                                                                     \n",
       "(2019-07-08 12:00:00, 2019-09-30]                                   56864.0   \n",
       "(2019-04-16, 2019-07-08 12:00:00]                                   48132.0   \n",
       "(2017-03-25 12:00:00, 2017-06-17]                                   39424.0   \n",
       "(2019-01-22 12:00:00, 2019-04-16]                                   29123.0   \n",
       "(2018-05-17, 2018-08-08 12:00:00]                                   19627.0   \n",
       "(2017-06-17, 2017-09-08 12:00:00]                                   22592.0   \n",
       "(2016-12-31 23:59:59.999999999, 2017-03-25 12:0...                  27695.0   \n",
       "(2018-08-08 12:00:00, 2018-10-31]                                   21010.0   \n",
       "(2017-12-01, 2018-02-22 12:00:00]                                   18329.0   \n",
       "(2018-02-22 12:00:00, 2018-05-17]                                   15118.0   \n",
       "(2018-10-31, 2019-01-22 12:00:00]                                   13922.0   \n",
       "(2017-09-08 12:00:00, 2017-12-01]                                   14527.0   \n",
       "\n",
       "                                                    Delay Weather (Minutes)  \\\n",
       "Half year                                                                     \n",
       "(2019-07-08 12:00:00, 2019-09-30]                                    4601.0   \n",
       "(2019-04-16, 2019-07-08 12:00:00]                                    3316.0   \n",
       "(2017-03-25 12:00:00, 2017-06-17]                                    3131.0   \n",
       "(2019-01-22 12:00:00, 2019-04-16]                                    2576.0   \n",
       "(2018-05-17, 2018-08-08 12:00:00]                                    2362.0   \n",
       "(2017-06-17, 2017-09-08 12:00:00]                                    1587.0   \n",
       "(2016-12-31 23:59:59.999999999, 2017-03-25 12:0...                   6647.0   \n",
       "(2018-08-08 12:00:00, 2018-10-31]                                    2943.0   \n",
       "(2017-12-01, 2018-02-22 12:00:00]                                    2623.0   \n",
       "(2018-02-22 12:00:00, 2018-05-17]                                    4638.0   \n",
       "(2018-10-31, 2019-01-22 12:00:00]                                    5098.0   \n",
       "(2017-09-08 12:00:00, 2017-12-01]                                     252.0   \n",
       "\n",
       "                                                    Delay National Aviation System (Minutes)  \\\n",
       "Half year                                                                                      \n",
       "(2019-07-08 12:00:00, 2019-09-30]                                                    62379.0   \n",
       "(2019-04-16, 2019-07-08 12:00:00]                                                    48940.0   \n",
       "(2017-03-25 12:00:00, 2017-06-17]                                                    27048.0   \n",
       "(2019-01-22 12:00:00, 2019-04-16]                                                    27371.0   \n",
       "(2018-05-17, 2018-08-08 12:00:00]                                                    30467.0   \n",
       "(2017-06-17, 2017-09-08 12:00:00]                                                    24682.0   \n",
       "(2016-12-31 23:59:59.999999999, 2017-03-25 12:0...                                   11126.0   \n",
       "(2018-08-08 12:00:00, 2018-10-31]                                                    18400.0   \n",
       "(2017-12-01, 2018-02-22 12:00:00]                                                    17588.0   \n",
       "(2018-02-22 12:00:00, 2018-05-17]                                                    14025.0   \n",
       "(2018-10-31, 2019-01-22 12:00:00]                                                    15395.0   \n",
       "(2017-09-08 12:00:00, 2017-12-01]                                                     9032.0   \n",
       "\n",
       "                                                    Delay Security (Minutes)  \\\n",
       "Half year                                                                      \n",
       "(2019-07-08 12:00:00, 2019-09-30]                                      111.0   \n",
       "(2019-04-16, 2019-07-08 12:00:00]                                        0.0   \n",
       "(2017-03-25 12:00:00, 2017-06-17]                                       32.0   \n",
       "(2019-01-22 12:00:00, 2019-04-16]                                       77.0   \n",
       "(2018-05-17, 2018-08-08 12:00:00]                                       25.0   \n",
       "(2017-06-17, 2017-09-08 12:00:00]                                      159.0   \n",
       "(2016-12-31 23:59:59.999999999, 2017-03-25 12:0...                       0.0   \n",
       "(2018-08-08 12:00:00, 2018-10-31]                                       84.0   \n",
       "(2017-12-01, 2018-02-22 12:00:00]                                       55.0   \n",
       "(2018-02-22 12:00:00, 2018-05-17]                                       60.0   \n",
       "(2018-10-31, 2019-01-22 12:00:00]                                       47.0   \n",
       "(2017-09-08 12:00:00, 2017-12-01]                                        0.0   \n",
       "\n",
       "                                                    Delay Late Aircraft Arrival (Minutes)  \n",
       "Half year                                                                                  \n",
       "(2019-07-08 12:00:00, 2019-09-30]                                                 56745.0  \n",
       "(2019-04-16, 2019-07-08 12:00:00]                                                 64173.0  \n",
       "(2017-03-25 12:00:00, 2017-06-17]                                                 62576.0  \n",
       "(2019-01-22 12:00:00, 2019-04-16]                                                 46871.0  \n",
       "(2018-05-17, 2018-08-08 12:00:00]                                                 44948.0  \n",
       "(2017-06-17, 2017-09-08 12:00:00]                                                 39745.0  \n",
       "(2016-12-31 23:59:59.999999999, 2017-03-25 12:0...                                34088.0  \n",
       "(2018-08-08 12:00:00, 2018-10-31]                                                 32491.0  \n",
       "(2017-12-01, 2018-02-22 12:00:00]                                                 22848.0  \n",
       "(2018-02-22 12:00:00, 2018-05-17]                                                 26412.0  \n",
       "(2018-10-31, 2019-01-22 12:00:00]                                                 19581.0  \n",
       "(2017-09-08 12:00:00, 2017-12-01]                                                 14005.0  "
      ]
     },
     "execution_count": 13,
     "metadata": {},
     "output_type": "execute_result"
    }
   ],
   "source": [
    "df4.sort_values(by=['Departure delay (Minutes)'],ascending=False)"
   ]
  },
  {
   "cell_type": "code",
   "execution_count": 14,
   "metadata": {},
   "outputs": [],
   "source": [
    "y_axis=[]"
   ]
  },
  {
   "cell_type": "code",
   "execution_count": 15,
   "metadata": {},
   "outputs": [],
   "source": [
    "a=df1['Delay Carrier (Minutes)'].sum()\n",
    "b=df1['Delay Weather (Minutes)'].sum()\n",
    "c=df1['Delay National Aviation System (Minutes)'].sum()\n",
    "d=df1['Delay Security (Minutes)'].sum()\n",
    "e=df1['Delay Late Aircraft Arrival (Minutes)'].sum()\n",
    "x_axis=['Delay Carrier (Minutes)','Delay Weather (Minutes)','Delay National Aviation System (Minutes)','Delay Security (Minutes)','Delay Late Aircraft Arrival (Minutes)']\n",
    "y_axis=[a,b,c,d,e]"
   ]
  },
  {
   "cell_type": "code",
   "execution_count": 16,
   "metadata": {},
   "outputs": [
    {
     "data": {
      "image/png": "[encoded data removed]",
      "text/plain": [
       "<Figure size 1440x720 with 1 Axes>"
      ]
     },
     "metadata": {
      "needs_background": "light"
     },
     "output_type": "display_data"
    }
   ],
   "source": [
    "plt.figure(figsize=(20,10))\n",
    "plt.plot(x_axis,y_axis)\n",
    "\n",
    "plt.savefig(\"delay_reason.png\")"
   ]
  },
  {
   "cell_type": "markdown",
   "metadata": {},
   "source": [
    "Is there any relationship between delay carrier and delay weather?"
   ]
  },
  {
   "cell_type": "code",
   "execution_count": 17,
   "metadata": {},
   "outputs": [],
   "source": [
    "population1 = df1['Departure delay (Minutes)']"
   ]
  },
  {
   "cell_type": "code",
   "execution_count": 18,
   "metadata": {},
   "outputs": [],
   "source": [
    "population2 = df1['Delay Weather (Minutes)']"
   ]
  },
  {
   "cell_type": "code",
   "execution_count": 19,
   "metadata": {},
   "outputs": [
    {
     "data": {
      "text/plain": [
       "39774.0"
      ]
     },
     "execution_count": 19,
     "metadata": {},
     "output_type": "execute_result"
    }
   ],
   "source": [
    "df['Delay Weather (Minutes)'].sum()"
   ]
  },
  {
   "cell_type": "code",
   "execution_count": 20,
   "metadata": {},
   "outputs": [
    {
     "data": {
      "text/plain": [
       "Ttest_indResult(statistic=18.17733154547888, pvalue=3.1150556283413563e-64)"
      ]
     },
     "execution_count": 20,
     "metadata": {},
     "output_type": "execute_result"
    }
   ],
   "source": [
    "stats.ttest_ind(population1, population2, equal_var=False)"
   ]
  },
  {
   "cell_type": "code",
   "execution_count": 21,
   "metadata": {},
   "outputs": [],
   "source": [
    "population3= df1['Delay Carrier (Minutes)']"
   ]
  },
  {
   "cell_type": "code",
   "execution_count": 22,
   "metadata": {},
   "outputs": [
    {
     "data": {
      "text/plain": [
       "326363.0"
      ]
     },
     "execution_count": 22,
     "metadata": {},
     "output_type": "execute_result"
    }
   ],
   "source": [
    "df1['Delay Carrier (Minutes)'].sum()"
   ]
  },
  {
   "cell_type": "code",
   "execution_count": 23,
   "metadata": {},
   "outputs": [
    {
     "data": {
      "text/plain": [
       "Ttest_indResult(statistic=12.6409572650841, pvalue=2.0570452392999057e-34)"
      ]
     },
     "execution_count": 23,
     "metadata": {},
     "output_type": "execute_result"
    }
   ],
   "source": [
    "stats.ttest_ind(population1, population3, equal_var=False)"
   ]
  },
  {
   "cell_type": "code",
   "execution_count": 24,
   "metadata": {},
   "outputs": [],
   "source": [
    "population4= df1['Delay National Aviation System (Minutes)']"
   ]
  },
  {
   "cell_type": "code",
   "execution_count": 25,
   "metadata": {},
   "outputs": [
    {
     "data": {
      "text/plain": [
       "306453.0"
      ]
     },
     "execution_count": 25,
     "metadata": {},
     "output_type": "execute_result"
    }
   ],
   "source": [
    "df['Delay National Aviation System (Minutes)'].sum()"
   ]
  },
  {
   "cell_type": "code",
   "execution_count": 26,
   "metadata": {},
   "outputs": [
    {
     "data": {
      "text/plain": [
       "Ttest_indResult(statistic=12.924761024133371, pvalue=7.69980398239751e-36)"
      ]
     },
     "execution_count": 26,
     "metadata": {},
     "output_type": "execute_result"
    }
   ],
   "source": [
    "stats.ttest_ind(population1, population4, equal_var=False)"
   ]
  },
  {
   "cell_type": "code",
   "execution_count": 27,
   "metadata": {},
   "outputs": [],
   "source": [
    "population5= df1['Delay Late Aircraft Arrival (Minutes)']"
   ]
  },
  {
   "cell_type": "code",
   "execution_count": 28,
   "metadata": {},
   "outputs": [
    {
     "data": {
      "text/plain": [
       "464483.0"
      ]
     },
     "execution_count": 28,
     "metadata": {},
     "output_type": "execute_result"
    }
   ],
   "source": [
    "df1['Delay Late Aircraft Arrival (Minutes)'].sum()"
   ]
  },
  {
   "cell_type": "code",
   "execution_count": 29,
   "metadata": {},
   "outputs": [
    {
     "data": {
      "text/plain": [
       "Ttest_indResult(statistic=9.416429145510033, pvalue=1.6616238816787453e-20)"
      ]
     },
     "execution_count": 29,
     "metadata": {},
     "output_type": "execute_result"
    }
   ],
   "source": [
    "stats.ttest_ind(population1, population5, equal_var=False)"
   ]
  },
  {
   "cell_type": "code",
   "execution_count": 30,
   "metadata": {},
   "outputs": [
    {
     "data": {
      "text/plain": [
       "650.0"
      ]
     },
     "execution_count": 30,
     "metadata": {},
     "output_type": "execute_result"
    }
   ],
   "source": [
    "df1['Delay Security (Minutes)'].sum()"
   ]
  },
  {
   "cell_type": "code",
   "execution_count": 31,
   "metadata": {},
   "outputs": [
    {
     "data": {
      "text/plain": [
       "F_onewayResult(statistic=87.55781788857392, pvalue=7.11227407940007e-55)"
      ]
     },
     "execution_count": 31,
     "metadata": {},
     "output_type": "execute_result"
    }
   ],
   "source": [
    "stats.f_oneway(population2,population3,population4,population5)"
   ]
  },
  {
   "cell_type": "code",
   "execution_count": 32,
   "metadata": {},
   "outputs": [
    {
     "data": {
      "text/plain": [
       "Date (MM/DD/YYYY)                           13691\n",
       "Destination Airport                         13691\n",
       "Scheduled elapsed time (Minutes)            13691\n",
       "Actual elapsed time (Minutes)               13691\n",
       "Departure delay (Minutes)                   13691\n",
       "Delay Carrier (Minutes)                     13691\n",
       "Delay Weather (Minutes)                     13691\n",
       "Delay National Aviation System (Minutes)    13691\n",
       "Delay Security (Minutes)                    13691\n",
       "Delay Late Aircraft Arrival (Minutes)       13691\n",
       "Date                                        13691\n",
       "dtype: int64"
      ]
     },
     "execution_count": 32,
     "metadata": {},
     "output_type": "execute_result"
    }
   ],
   "source": [
    "df.count()"
   ]
  },
  {
   "cell_type": "code",
   "execution_count": 33,
   "metadata": {},
   "outputs": [],
   "source": [
    "y=df['Departure delay (Minutes)']"
   ]
  },
  {
   "cell_type": "code",
   "execution_count": 34,
   "metadata": {},
   "outputs": [],
   "source": [
    "x=df['Delay Weather (Minutes)']"
   ]
  },
  {
   "cell_type": "code",
   "execution_count": 35,
   "metadata": {},
   "outputs": [],
   "source": [
    "(slope, intercept, _, _, _) = linregress(x, y)\n",
    "fit = slope * x + intercept"
   ]
  },
  {
   "cell_type": "code",
   "execution_count": 36,
   "metadata": {},
   "outputs": [
    {
     "data": {
      "image/png": "[encoded data removed]",
      "text/plain": [
       "<Figure size 432x288 with 1 Axes>"
      ]
     },
     "metadata": {
      "needs_background": "light"
     },
     "output_type": "display_data"
    }
   ],
   "source": [
    "fig, ax = plt.subplots()\n",
    "\n",
    "fig.suptitle(\"Weather delay vs Departure delay\", fontsize=16, fontweight=\"bold\")\n",
    "ax.set_xlim(0, 600)\n",
    "\n",
    "ax.set_xlabel(\"Weather Delay\")\n",
    "ax.set_ylabel(\"Departure Delay\")\n",
    "\n",
    "ax.plot(x, y, linewidth=0, marker='o')\n",
    "ax.plot(x, fit, 'b--')\n",
    "\n",
    "plt.show()"
   ]
  },
  {
   "cell_type": "code",
   "execution_count": 37,
   "metadata": {},
   "outputs": [
    {
     "data": {
      "text/plain": [
       "Ttest_indResult(statistic=-41.84226708826851, pvalue=0.0)"
      ]
     },
     "execution_count": 37,
     "metadata": {},
     "output_type": "execute_result"
    }
   ],
   "source": [
    "stats.ttest_ind(x, y, equal_var=False)"
   ]
  },
  {
   "cell_type": "code",
   "execution_count": 38,
   "metadata": {},
   "outputs": [],
   "source": [
    "x1=df['Delay Carrier (Minutes)']"
   ]
  },
  {
   "cell_type": "code",
   "execution_count": 39,
   "metadata": {},
   "outputs": [],
   "source": [
    "(slope, intercept, _, _, _) = linregress(x1, y)\n",
    "fit1 = slope * x1 + intercept"
   ]
  },
  {
   "cell_type": "code",
   "execution_count": 40,
   "metadata": {},
   "outputs": [
    {
     "data": {
      "image/png": "[encoded data removed]",
      "text/plain": [
       "<Figure size 432x288 with 1 Axes>"
      ]
     },
     "metadata": {
      "needs_background": "light"
     },
     "output_type": "display_data"
    }
   ],
   "source": [
    "fig, ax = plt.subplots()\n",
    "\n",
    "fig.suptitle(\"Carrier Delay vs Departure delay\", fontsize=16, fontweight=\"bold\")\n",
    "\n",
    "ax.set_xlim(0, 1000)\n",
    "\n",
    "ax.set_xlabel(\"Carrier Delay\")\n",
    "ax.set_ylabel(\"Departure Delay\")\n",
    "\n",
    "ax.plot(x1, y, linewidth=0, marker='o')\n",
    "ax.plot(x1, fit1, 'b--')\n",
    "\n",
    "plt.show()"
   ]
  },
  {
   "cell_type": "code",
   "execution_count": 41,
   "metadata": {},
   "outputs": [
    {
     "data": {
      "text/plain": [
       "Ttest_indResult(statistic=-28.343525231127497, pvalue=6.3958450282219035e-173)"
      ]
     },
     "execution_count": 41,
     "metadata": {},
     "output_type": "execute_result"
    }
   ],
   "source": [
    "stats.ttest_ind(x1, y, equal_var=False)"
   ]
  },
  {
   "cell_type": "code",
   "execution_count": 42,
   "metadata": {},
   "outputs": [],
   "source": [
    "x2=df['Delay National Aviation System (Minutes)']"
   ]
  },
  {
   "cell_type": "code",
   "execution_count": 43,
   "metadata": {},
   "outputs": [],
   "source": [
    "(slope, intercept, _, _, _) = linregress(x2, y)\n",
    "fit2 = slope * x2 + intercept"
   ]
  },
  {
   "cell_type": "code",
   "execution_count": 44,
   "metadata": {},
   "outputs": [
    {
     "data": {
      "image/png": "[encoded data removed]",
      "text/plain": [
       "<Figure size 432x288 with 1 Axes>"
      ]
     },
     "metadata": {
      "needs_background": "light"
     },
     "output_type": "display_data"
    }
   ],
   "source": [
    "fig, ax = plt.subplots()\n",
    "\n",
    "fig.suptitle(\"National aviation delay vs Departure delay\", fontsize=16, fontweight=\"bold\")\n",
    "\n",
    "ax.set_xlim(0, 400)\n",
    "ax.set_ylim(0, 400)\n",
    "\n",
    "ax.set_xlabel(\"National aviation Delay\")\n",
    "ax.set_ylabel(\"Departure Delay\")\n",
    "\n",
    "ax.plot(x2, y, linewidth=0, marker='o')\n",
    "ax.plot(x2, fit2, 'b--')\n",
    "\n",
    "plt.show()"
   ]
  },
  {
   "cell_type": "code",
   "execution_count": 45,
   "metadata": {},
   "outputs": [
    {
     "data": {
      "text/plain": [
       "Ttest_indResult(statistic=-28.80167887199054, pvalue=1.6855804455710752e-178)"
      ]
     },
     "execution_count": 45,
     "metadata": {},
     "output_type": "execute_result"
    }
   ],
   "source": [
    "stats.ttest_ind(x2, y, equal_var=False)"
   ]
  },
  {
   "cell_type": "code",
   "execution_count": 46,
   "metadata": {},
   "outputs": [],
   "source": [
    "x3=df['Delay Late Aircraft Arrival (Minutes)']"
   ]
  },
  {
   "cell_type": "code",
   "execution_count": 47,
   "metadata": {},
   "outputs": [],
   "source": [
    "(slope, intercept, _, _, _) = linregress(x3, y)\n",
    "fit3 = slope * x3 + intercept"
   ]
  },
  {
   "cell_type": "code",
   "execution_count": 48,
   "metadata": {},
   "outputs": [
    {
     "data": {
      "image/png": "[encoded data removed]",
      "text/plain": [
       "<Figure size 432x288 with 1 Axes>"
      ]
     },
     "metadata": {
      "needs_background": "light"
     },
     "output_type": "display_data"
    }
   ],
   "source": [
    "fig, ax = plt.subplots()\n",
    "\n",
    "fig.suptitle(\"Aircraft arrival delay vs Departure delay\", fontsize=16, fontweight=\"bold\")\n",
    "\n",
    "ax.set_xlim(0, 400)\n",
    "ax.set_ylim(0, 600)\n",
    "\n",
    "ax.set_xlabel(\"Late aircraft arrival Delay\")\n",
    "ax.set_ylabel(\"Departure Delay\")\n",
    "\n",
    "ax.plot(x3, y, linewidth=0, marker='o')\n",
    "ax.plot(x3, fit3, 'b--')\n",
    "\n",
    "plt.show()"
   ]
  },
  {
   "cell_type": "code",
   "execution_count": 49,
   "metadata": {},
   "outputs": [
    {
     "data": {
      "text/plain": [
       "Ttest_indResult(statistic=-22.130974036183705, pvalue=3.013824088613758e-107)"
      ]
     },
     "execution_count": 49,
     "metadata": {},
     "output_type": "execute_result"
    }
   ],
   "source": [
    "stats.ttest_ind(x3, y, equal_var=False)"
   ]
  },
  {
   "cell_type": "code",
   "execution_count": 50,
   "metadata": {},
   "outputs": [],
   "source": [
    "x4=df['Delay Security (Minutes)']"
   ]
  },
  {
   "cell_type": "code",
   "execution_count": 51,
   "metadata": {},
   "outputs": [],
   "source": [
    "(slope, intercept, _, _, _) = linregress(x4, y)\n",
    "fit4 = slope * x4 + intercept"
   ]
  },
  {
   "cell_type": "code",
   "execution_count": 52,
   "metadata": {},
   "outputs": [
    {
     "data": {
      "image/png": "[encoded data removed]",
      "text/plain": [
       "<Figure size 432x288 with 1 Axes>"
      ]
     },
     "metadata": {
      "needs_background": "light"
     },
     "output_type": "display_data"
    }
   ],
   "source": [
    "fig, ax = plt.subplots()\n",
    "\n",
    "fig.suptitle(\"Security delay vs Departure delay\", fontsize=16, fontweight=\"bold\")\n",
    "\n",
    "ax.set_xlim(0, 100)\n",
    "\n",
    "ax.set_xlabel(\"Security Delay\")\n",
    "ax.set_ylabel(\"Departure Delay\")\n",
    "\n",
    "ax.plot(x4, y, linewidth=0, marker='o')\n",
    "ax.plot(x4, fit4, 'b--')\n",
    "\n",
    "plt.show()"
   ]
  },
  {
   "cell_type": "code",
   "execution_count": null,
   "metadata": {},
   "outputs": [],
   "source": []
  },
  {
   "cell_type": "code",
   "execution_count": null,
   "metadata": {},
   "outputs": [],
   "source": []
  },
  {
   "cell_type": "code",
   "execution_count": null,
   "metadata": {},
   "outputs": [],
   "source": []
  }
 ],
 "metadata": {
  "kernelspec": {
   "display_name": "Python 3",
   "language": "python",
   "name": "python3"
  },
  "language_info": {
   "codemirror_mode": {
    "name": "ipython",
    "version": 3
   },
   "file_extension": ".py",
   "mimetype": "text/x-python",
   "name": "python",
   "nbconvert_exporter": "python",
   "pygments_lexer": "ipython3",
   "version": "3.7.4"
  }
 },
 "nbformat": 4,
 "nbformat_minor": 2
}
