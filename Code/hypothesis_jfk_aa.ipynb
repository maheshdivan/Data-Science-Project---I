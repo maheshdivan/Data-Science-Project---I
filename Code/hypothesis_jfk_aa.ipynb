{
 "cells": [
  {
   "cell_type": "code",
   "execution_count": 1,
   "metadata": {},
   "outputs": [],
   "source": [
    "import pandas as pd\n",
    "import scipy.stats as stats\n",
    "import matplotlib.pyplot as plt\n",
    "from scipy.stats import linregress"
   ]
  },
  {
   "cell_type": "code",
   "execution_count": 2,
   "metadata": {},
   "outputs": [],
   "source": [
    "df=pd.read_csv(\"JFK_AA\")"
   ]
  },
  {
   "cell_type": "code",
   "execution_count": 3,
   "metadata": {},
   "outputs": [
    {
     "data": {
      "text/html": [
       "<div>\n",
       "<style scoped>\n",
       "    .dataframe tbody tr th:only-of-type {\n",
       "        vertical-align: middle;\n",
       "    }\n",
       "\n",
       "    .dataframe tbody tr th {\n",
       "        vertical-align: top;\n",
       "    }\n",
       "\n",
       "    .dataframe thead th {\n",
       "        text-align: right;\n",
       "    }\n",
       "</style>\n",
       "<table border=\"1\" class=\"dataframe\">\n",
       "  <thead>\n",
       "    <tr style=\"text-align: right;\">\n",
       "      <th></th>\n",
       "      <th>Carrier Code</th>\n",
       "      <th>Date (MM/DD/YYYY)</th>\n",
       "      <th>Destination Airport</th>\n",
       "      <th>Scheduled departure time</th>\n",
       "      <th>Actual departure time</th>\n",
       "      <th>Scheduled elapsed time (Minutes)</th>\n",
       "      <th>Actual elapsed time (Minutes)</th>\n",
       "      <th>Departure delay (Minutes)</th>\n",
       "      <th>Delay Carrier (Minutes)</th>\n",
       "      <th>Delay Weather (Minutes)</th>\n",
       "      <th>Delay National Aviation System (Minutes)</th>\n",
       "      <th>Delay Security (Minutes)</th>\n",
       "      <th>Delay Late Aircraft Arrival (Minutes)</th>\n",
       "    </tr>\n",
       "  </thead>\n",
       "  <tbody>\n",
       "    <tr>\n",
       "      <td>0</td>\n",
       "      <td>AA</td>\n",
       "      <td>01/01/2017</td>\n",
       "      <td>LAX</td>\n",
       "      <td>08:00</td>\n",
       "      <td>08:31</td>\n",
       "      <td>402.0</td>\n",
       "      <td>398.0</td>\n",
       "      <td>31.0</td>\n",
       "      <td>27.0</td>\n",
       "      <td>0.0</td>\n",
       "      <td>0.0</td>\n",
       "      <td>0.0</td>\n",
       "      <td>0.0</td>\n",
       "    </tr>\n",
       "    <tr>\n",
       "      <td>1</td>\n",
       "      <td>AA</td>\n",
       "      <td>01/01/2017</td>\n",
       "      <td>SFO</td>\n",
       "      <td>07:00</td>\n",
       "      <td>06:56</td>\n",
       "      <td>405.0</td>\n",
       "      <td>387.0</td>\n",
       "      <td>-4.0</td>\n",
       "      <td>0.0</td>\n",
       "      <td>0.0</td>\n",
       "      <td>0.0</td>\n",
       "      <td>0.0</td>\n",
       "      <td>0.0</td>\n",
       "    </tr>\n",
       "    <tr>\n",
       "      <td>2</td>\n",
       "      <td>AA</td>\n",
       "      <td>01/01/2017</td>\n",
       "      <td>SFO</td>\n",
       "      <td>08:25</td>\n",
       "      <td>08:24</td>\n",
       "      <td>407.0</td>\n",
       "      <td>388.0</td>\n",
       "      <td>-1.0</td>\n",
       "      <td>0.0</td>\n",
       "      <td>0.0</td>\n",
       "      <td>0.0</td>\n",
       "      <td>0.0</td>\n",
       "      <td>0.0</td>\n",
       "    </tr>\n",
       "    <tr>\n",
       "      <td>3</td>\n",
       "      <td>AA</td>\n",
       "      <td>01/01/2017</td>\n",
       "      <td>LAX</td>\n",
       "      <td>09:00</td>\n",
       "      <td>08:56</td>\n",
       "      <td>406.0</td>\n",
       "      <td>397.0</td>\n",
       "      <td>-4.0</td>\n",
       "      <td>0.0</td>\n",
       "      <td>0.0</td>\n",
       "      <td>0.0</td>\n",
       "      <td>0.0</td>\n",
       "      <td>0.0</td>\n",
       "    </tr>\n",
       "    <tr>\n",
       "      <td>4</td>\n",
       "      <td>AA</td>\n",
       "      <td>01/01/2017</td>\n",
       "      <td>LAX</td>\n",
       "      <td>19:00</td>\n",
       "      <td>19:22</td>\n",
       "      <td>407.0</td>\n",
       "      <td>416.0</td>\n",
       "      <td>22.0</td>\n",
       "      <td>22.0</td>\n",
       "      <td>0.0</td>\n",
       "      <td>9.0</td>\n",
       "      <td>0.0</td>\n",
       "      <td>0.0</td>\n",
       "    </tr>\n",
       "    <tr>\n",
       "      <td>...</td>\n",
       "      <td>...</td>\n",
       "      <td>...</td>\n",
       "      <td>...</td>\n",
       "      <td>...</td>\n",
       "      <td>...</td>\n",
       "      <td>...</td>\n",
       "      <td>...</td>\n",
       "      <td>...</td>\n",
       "      <td>...</td>\n",
       "      <td>...</td>\n",
       "      <td>...</td>\n",
       "      <td>...</td>\n",
       "      <td>...</td>\n",
       "    </tr>\n",
       "    <tr>\n",
       "      <td>46289</td>\n",
       "      <td>AA</td>\n",
       "      <td>12/31/2018</td>\n",
       "      <td>AUS</td>\n",
       "      <td>19:29</td>\n",
       "      <td>19:34</td>\n",
       "      <td>264.0</td>\n",
       "      <td>264.0</td>\n",
       "      <td>5.0</td>\n",
       "      <td>0.0</td>\n",
       "      <td>0.0</td>\n",
       "      <td>0.0</td>\n",
       "      <td>0.0</td>\n",
       "      <td>0.0</td>\n",
       "    </tr>\n",
       "    <tr>\n",
       "      <td>46290</td>\n",
       "      <td>AA</td>\n",
       "      <td>12/31/2018</td>\n",
       "      <td>DCA</td>\n",
       "      <td>15:43</td>\n",
       "      <td>15:43</td>\n",
       "      <td>92.0</td>\n",
       "      <td>84.0</td>\n",
       "      <td>0.0</td>\n",
       "      <td>0.0</td>\n",
       "      <td>0.0</td>\n",
       "      <td>0.0</td>\n",
       "      <td>0.0</td>\n",
       "      <td>0.0</td>\n",
       "    </tr>\n",
       "    <tr>\n",
       "      <td>46291</td>\n",
       "      <td>AA</td>\n",
       "      <td>12/31/2018</td>\n",
       "      <td>EGE</td>\n",
       "      <td>10:40</td>\n",
       "      <td>10:36</td>\n",
       "      <td>292.0</td>\n",
       "      <td>0.0</td>\n",
       "      <td>-4.0</td>\n",
       "      <td>0.0</td>\n",
       "      <td>0.0</td>\n",
       "      <td>0.0</td>\n",
       "      <td>0.0</td>\n",
       "      <td>0.0</td>\n",
       "    </tr>\n",
       "    <tr>\n",
       "      <td>46292</td>\n",
       "      <td>AA</td>\n",
       "      <td>12/31/2018</td>\n",
       "      <td>SAN</td>\n",
       "      <td>17:45</td>\n",
       "      <td>17:46</td>\n",
       "      <td>383.0</td>\n",
       "      <td>420.0</td>\n",
       "      <td>1.0</td>\n",
       "      <td>0.0</td>\n",
       "      <td>0.0</td>\n",
       "      <td>37.0</td>\n",
       "      <td>0.0</td>\n",
       "      <td>1.0</td>\n",
       "    </tr>\n",
       "    <tr>\n",
       "      <td>46293</td>\n",
       "      <td>AA</td>\n",
       "      <td>12/31/2018</td>\n",
       "      <td>DFW</td>\n",
       "      <td>07:50</td>\n",
       "      <td>07:50</td>\n",
       "      <td>260.0</td>\n",
       "      <td>251.0</td>\n",
       "      <td>0.0</td>\n",
       "      <td>0.0</td>\n",
       "      <td>0.0</td>\n",
       "      <td>0.0</td>\n",
       "      <td>0.0</td>\n",
       "      <td>0.0</td>\n",
       "    </tr>\n",
       "  </tbody>\n",
       "</table>\n",
       "<p>46294 rows × 13 columns</p>\n",
       "</div>"
      ],
      "text/plain": [
       "      Carrier Code Date (MM/DD/YYYY) Destination Airport  \\\n",
       "0               AA        01/01/2017                 LAX   \n",
       "1               AA        01/01/2017                 SFO   \n",
       "2               AA        01/01/2017                 SFO   \n",
       "3               AA        01/01/2017                 LAX   \n",
       "4               AA        01/01/2017                 LAX   \n",
       "...            ...               ...                 ...   \n",
       "46289           AA        12/31/2018                 AUS   \n",
       "46290           AA        12/31/2018                 DCA   \n",
       "46291           AA        12/31/2018                 EGE   \n",
       "46292           AA        12/31/2018                 SAN   \n",
       "46293           AA        12/31/2018                 DFW   \n",
       "\n",
       "      Scheduled departure time Actual departure time  \\\n",
       "0                        08:00                 08:31   \n",
       "1                        07:00                 06:56   \n",
       "2                        08:25                 08:24   \n",
       "3                        09:00                 08:56   \n",
       "4                        19:00                 19:22   \n",
       "...                        ...                   ...   \n",
       "46289                    19:29                 19:34   \n",
       "46290                    15:43                 15:43   \n",
       "46291                    10:40                 10:36   \n",
       "46292                    17:45                 17:46   \n",
       "46293                    07:50                 07:50   \n",
       "\n",
       "       Scheduled elapsed time (Minutes)  Actual elapsed time (Minutes)  \\\n",
       "0                                 402.0                          398.0   \n",
       "1                                 405.0                          387.0   \n",
       "2                                 407.0                          388.0   \n",
       "3                                 406.0                          397.0   \n",
       "4                                 407.0                          416.0   \n",
       "...                                 ...                            ...   \n",
       "46289                             264.0                          264.0   \n",
       "46290                              92.0                           84.0   \n",
       "46291                             292.0                            0.0   \n",
       "46292                             383.0                          420.0   \n",
       "46293                             260.0                          251.0   \n",
       "\n",
       "       Departure delay (Minutes)  Delay Carrier (Minutes)  \\\n",
       "0                           31.0                     27.0   \n",
       "1                           -4.0                      0.0   \n",
       "2                           -1.0                      0.0   \n",
       "3                           -4.0                      0.0   \n",
       "4                           22.0                     22.0   \n",
       "...                          ...                      ...   \n",
       "46289                        5.0                      0.0   \n",
       "46290                        0.0                      0.0   \n",
       "46291                       -4.0                      0.0   \n",
       "46292                        1.0                      0.0   \n",
       "46293                        0.0                      0.0   \n",
       "\n",
       "       Delay Weather (Minutes)  Delay National Aviation System (Minutes)  \\\n",
       "0                          0.0                                       0.0   \n",
       "1                          0.0                                       0.0   \n",
       "2                          0.0                                       0.0   \n",
       "3                          0.0                                       0.0   \n",
       "4                          0.0                                       9.0   \n",
       "...                        ...                                       ...   \n",
       "46289                      0.0                                       0.0   \n",
       "46290                      0.0                                       0.0   \n",
       "46291                      0.0                                       0.0   \n",
       "46292                      0.0                                      37.0   \n",
       "46293                      0.0                                       0.0   \n",
       "\n",
       "       Delay Security (Minutes)  Delay Late Aircraft Arrival (Minutes)  \n",
       "0                           0.0                                    0.0  \n",
       "1                           0.0                                    0.0  \n",
       "2                           0.0                                    0.0  \n",
       "3                           0.0                                    0.0  \n",
       "4                           0.0                                    0.0  \n",
       "...                         ...                                    ...  \n",
       "46289                       0.0                                    0.0  \n",
       "46290                       0.0                                    0.0  \n",
       "46291                       0.0                                    0.0  \n",
       "46292                       0.0                                    1.0  \n",
       "46293                       0.0                                    0.0  \n",
       "\n",
       "[46294 rows x 13 columns]"
      ]
     },
     "execution_count": 3,
     "metadata": {},
     "output_type": "execute_result"
    }
   ],
   "source": [
    "df"
   ]
  },
  {
   "cell_type": "code",
   "execution_count": 4,
   "metadata": {},
   "outputs": [],
   "source": [
    "df1=df.groupby(['Date (MM/DD/YYYY)'],as_index=False).sum()"
   ]
  },
  {
   "cell_type": "code",
   "execution_count": 5,
   "metadata": {},
   "outputs": [
    {
     "data": {
      "text/html": [
       "<div>\n",
       "<style scoped>\n",
       "    .dataframe tbody tr th:only-of-type {\n",
       "        vertical-align: middle;\n",
       "    }\n",
       "\n",
       "    .dataframe tbody tr th {\n",
       "        vertical-align: top;\n",
       "    }\n",
       "\n",
       "    .dataframe thead th {\n",
       "        text-align: right;\n",
       "    }\n",
       "</style>\n",
       "<table border=\"1\" class=\"dataframe\">\n",
       "  <thead>\n",
       "    <tr style=\"text-align: right;\">\n",
       "      <th></th>\n",
       "      <th>Date (MM/DD/YYYY)</th>\n",
       "      <th>Scheduled elapsed time (Minutes)</th>\n",
       "      <th>Actual elapsed time (Minutes)</th>\n",
       "      <th>Departure delay (Minutes)</th>\n",
       "      <th>Delay Carrier (Minutes)</th>\n",
       "      <th>Delay Weather (Minutes)</th>\n",
       "      <th>Delay National Aviation System (Minutes)</th>\n",
       "      <th>Delay Security (Minutes)</th>\n",
       "      <th>Delay Late Aircraft Arrival (Minutes)</th>\n",
       "    </tr>\n",
       "  </thead>\n",
       "  <tbody>\n",
       "    <tr>\n",
       "      <td>0</td>\n",
       "      <td>01/01/2017</td>\n",
       "      <td>16021.0</td>\n",
       "      <td>15485.0</td>\n",
       "      <td>1324.0</td>\n",
       "      <td>1243.0</td>\n",
       "      <td>0.0</td>\n",
       "      <td>198.0</td>\n",
       "      <td>0.0</td>\n",
       "      <td>71.0</td>\n",
       "    </tr>\n",
       "    <tr>\n",
       "      <td>1</td>\n",
       "      <td>01/01/2018</td>\n",
       "      <td>13304.0</td>\n",
       "      <td>12787.0</td>\n",
       "      <td>1032.0</td>\n",
       "      <td>817.0</td>\n",
       "      <td>5.0</td>\n",
       "      <td>88.0</td>\n",
       "      <td>0.0</td>\n",
       "      <td>25.0</td>\n",
       "    </tr>\n",
       "    <tr>\n",
       "      <td>2</td>\n",
       "      <td>01/01/2019</td>\n",
       "      <td>12652.0</td>\n",
       "      <td>12354.0</td>\n",
       "      <td>58.0</td>\n",
       "      <td>109.0</td>\n",
       "      <td>0.0</td>\n",
       "      <td>226.0</td>\n",
       "      <td>0.0</td>\n",
       "      <td>19.0</td>\n",
       "    </tr>\n",
       "    <tr>\n",
       "      <td>3</td>\n",
       "      <td>01/02/2017</td>\n",
       "      <td>16023.0</td>\n",
       "      <td>16175.0</td>\n",
       "      <td>800.0</td>\n",
       "      <td>181.0</td>\n",
       "      <td>0.0</td>\n",
       "      <td>597.0</td>\n",
       "      <td>0.0</td>\n",
       "      <td>280.0</td>\n",
       "    </tr>\n",
       "    <tr>\n",
       "      <td>4</td>\n",
       "      <td>01/02/2018</td>\n",
       "      <td>13592.0</td>\n",
       "      <td>12441.0</td>\n",
       "      <td>157.0</td>\n",
       "      <td>50.0</td>\n",
       "      <td>0.0</td>\n",
       "      <td>24.0</td>\n",
       "      <td>0.0</td>\n",
       "      <td>0.0</td>\n",
       "    </tr>\n",
       "    <tr>\n",
       "      <td>...</td>\n",
       "      <td>...</td>\n",
       "      <td>...</td>\n",
       "      <td>...</td>\n",
       "      <td>...</td>\n",
       "      <td>...</td>\n",
       "      <td>...</td>\n",
       "      <td>...</td>\n",
       "      <td>...</td>\n",
       "      <td>...</td>\n",
       "    </tr>\n",
       "    <tr>\n",
       "      <td>95</td>\n",
       "      <td>02/01/2019</td>\n",
       "      <td>14265.0</td>\n",
       "      <td>13434.0</td>\n",
       "      <td>389.0</td>\n",
       "      <td>170.0</td>\n",
       "      <td>7.0</td>\n",
       "      <td>179.0</td>\n",
       "      <td>0.0</td>\n",
       "      <td>41.0</td>\n",
       "    </tr>\n",
       "    <tr>\n",
       "      <td>96</td>\n",
       "      <td>02/02/2017</td>\n",
       "      <td>14280.0</td>\n",
       "      <td>14794.0</td>\n",
       "      <td>143.0</td>\n",
       "      <td>99.0</td>\n",
       "      <td>0.0</td>\n",
       "      <td>743.0</td>\n",
       "      <td>0.0</td>\n",
       "      <td>27.0</td>\n",
       "    </tr>\n",
       "    <tr>\n",
       "      <td>97</td>\n",
       "      <td>02/02/2018</td>\n",
       "      <td>13471.0</td>\n",
       "      <td>13761.0</td>\n",
       "      <td>312.0</td>\n",
       "      <td>37.0</td>\n",
       "      <td>0.0</td>\n",
       "      <td>353.0</td>\n",
       "      <td>0.0</td>\n",
       "      <td>351.0</td>\n",
       "    </tr>\n",
       "    <tr>\n",
       "      <td>98</td>\n",
       "      <td>02/02/2019</td>\n",
       "      <td>9877.0</td>\n",
       "      <td>9245.0</td>\n",
       "      <td>30.0</td>\n",
       "      <td>62.0</td>\n",
       "      <td>0.0</td>\n",
       "      <td>16.0</td>\n",
       "      <td>0.0</td>\n",
       "      <td>0.0</td>\n",
       "    </tr>\n",
       "    <tr>\n",
       "      <td>99</td>\n",
       "      <td>02/03/2017</td>\n",
       "      <td>12667.0</td>\n",
       "      <td>13099.0</td>\n",
       "      <td>148.0</td>\n",
       "      <td>209.0</td>\n",
       "      <td>0.0</td>\n",
       "      <td>483.0</td>\n",
       "      <td>0.0</td>\n",
       "      <td>0.0</td>\n",
       "    </tr>\n",
       "  </tbody>\n",
       "</table>\n",
       "<p>100 rows × 9 columns</p>\n",
       "</div>"
      ],
      "text/plain": [
       "   Date (MM/DD/YYYY)  Scheduled elapsed time (Minutes)  \\\n",
       "0         01/01/2017                           16021.0   \n",
       "1         01/01/2018                           13304.0   \n",
       "2         01/01/2019                           12652.0   \n",
       "3         01/02/2017                           16023.0   \n",
       "4         01/02/2018                           13592.0   \n",
       "..               ...                               ...   \n",
       "95        02/01/2019                           14265.0   \n",
       "96        02/02/2017                           14280.0   \n",
       "97        02/02/2018                           13471.0   \n",
       "98        02/02/2019                            9877.0   \n",
       "99        02/03/2017                           12667.0   \n",
       "\n",
       "    Actual elapsed time (Minutes)  Departure delay (Minutes)  \\\n",
       "0                         15485.0                     1324.0   \n",
       "1                         12787.0                     1032.0   \n",
       "2                         12354.0                       58.0   \n",
       "3                         16175.0                      800.0   \n",
       "4                         12441.0                      157.0   \n",
       "..                            ...                        ...   \n",
       "95                        13434.0                      389.0   \n",
       "96                        14794.0                      143.0   \n",
       "97                        13761.0                      312.0   \n",
       "98                         9245.0                       30.0   \n",
       "99                        13099.0                      148.0   \n",
       "\n",
       "    Delay Carrier (Minutes)  Delay Weather (Minutes)  \\\n",
       "0                    1243.0                      0.0   \n",
       "1                     817.0                      5.0   \n",
       "2                     109.0                      0.0   \n",
       "3                     181.0                      0.0   \n",
       "4                      50.0                      0.0   \n",
       "..                      ...                      ...   \n",
       "95                    170.0                      7.0   \n",
       "96                     99.0                      0.0   \n",
       "97                     37.0                      0.0   \n",
       "98                     62.0                      0.0   \n",
       "99                    209.0                      0.0   \n",
       "\n",
       "    Delay National Aviation System (Minutes)  Delay Security (Minutes)  \\\n",
       "0                                      198.0                       0.0   \n",
       "1                                       88.0                       0.0   \n",
       "2                                      226.0                       0.0   \n",
       "3                                      597.0                       0.0   \n",
       "4                                       24.0                       0.0   \n",
       "..                                       ...                       ...   \n",
       "95                                     179.0                       0.0   \n",
       "96                                     743.0                       0.0   \n",
       "97                                     353.0                       0.0   \n",
       "98                                      16.0                       0.0   \n",
       "99                                     483.0                       0.0   \n",
       "\n",
       "    Delay Late Aircraft Arrival (Minutes)  \n",
       "0                                    71.0  \n",
       "1                                    25.0  \n",
       "2                                    19.0  \n",
       "3                                   280.0  \n",
       "4                                     0.0  \n",
       "..                                    ...  \n",
       "95                                   41.0  \n",
       "96                                   27.0  \n",
       "97                                  351.0  \n",
       "98                                    0.0  \n",
       "99                                    0.0  \n",
       "\n",
       "[100 rows x 9 columns]"
      ]
     },
     "execution_count": 5,
     "metadata": {},
     "output_type": "execute_result"
    }
   ],
   "source": [
    "df1.head(100)"
   ]
  },
  {
   "cell_type": "code",
   "execution_count": 6,
   "metadata": {},
   "outputs": [],
   "source": [
    "df1['Date'] = pd.to_datetime(df1['Date (MM/DD/YYYY)'])"
   ]
  },
  {
   "cell_type": "code",
   "execution_count": 7,
   "metadata": {},
   "outputs": [],
   "source": [
    "df1=df1.drop(['Date (MM/DD/YYYY)'],axis=1)"
   ]
  },
  {
   "cell_type": "code",
   "execution_count": 8,
   "metadata": {},
   "outputs": [],
   "source": [
    "df2=df1.sort_values(by=['Date'],ascending=False)"
   ]
  },
  {
   "cell_type": "code",
   "execution_count": 9,
   "metadata": {},
   "outputs": [
    {
     "data": {
      "text/html": [
       "<div>\n",
       "<style scoped>\n",
       "    .dataframe tbody tr th:only-of-type {\n",
       "        vertical-align: middle;\n",
       "    }\n",
       "\n",
       "    .dataframe tbody tr th {\n",
       "        vertical-align: top;\n",
       "    }\n",
       "\n",
       "    .dataframe thead th {\n",
       "        text-align: right;\n",
       "    }\n",
       "</style>\n",
       "<table border=\"1\" class=\"dataframe\">\n",
       "  <thead>\n",
       "    <tr style=\"text-align: right;\">\n",
       "      <th></th>\n",
       "      <th>Scheduled elapsed time (Minutes)</th>\n",
       "      <th>Actual elapsed time (Minutes)</th>\n",
       "      <th>Departure delay (Minutes)</th>\n",
       "      <th>Delay Carrier (Minutes)</th>\n",
       "      <th>Delay Weather (Minutes)</th>\n",
       "      <th>Delay National Aviation System (Minutes)</th>\n",
       "      <th>Delay Security (Minutes)</th>\n",
       "      <th>Delay Late Aircraft Arrival (Minutes)</th>\n",
       "      <th>Date</th>\n",
       "    </tr>\n",
       "  </thead>\n",
       "  <tbody>\n",
       "    <tr>\n",
       "      <td>818</td>\n",
       "      <td>11611.0</td>\n",
       "      <td>11087.0</td>\n",
       "      <td>-40.0</td>\n",
       "      <td>4.0</td>\n",
       "      <td>0.0</td>\n",
       "      <td>11.0</td>\n",
       "      <td>0.0</td>\n",
       "      <td>112.0</td>\n",
       "      <td>2019-09-30</td>\n",
       "    </tr>\n",
       "    <tr>\n",
       "      <td>815</td>\n",
       "      <td>11833.0</td>\n",
       "      <td>11222.0</td>\n",
       "      <td>106.0</td>\n",
       "      <td>191.0</td>\n",
       "      <td>0.0</td>\n",
       "      <td>17.0</td>\n",
       "      <td>0.0</td>\n",
       "      <td>0.0</td>\n",
       "      <td>2019-09-29</td>\n",
       "    </tr>\n",
       "    <tr>\n",
       "      <td>812</td>\n",
       "      <td>10496.0</td>\n",
       "      <td>10328.0</td>\n",
       "      <td>416.0</td>\n",
       "      <td>127.0</td>\n",
       "      <td>0.0</td>\n",
       "      <td>88.0</td>\n",
       "      <td>0.0</td>\n",
       "      <td>264.0</td>\n",
       "      <td>2019-09-28</td>\n",
       "    </tr>\n",
       "    <tr>\n",
       "      <td>809</td>\n",
       "      <td>11281.0</td>\n",
       "      <td>10059.0</td>\n",
       "      <td>373.0</td>\n",
       "      <td>170.0</td>\n",
       "      <td>0.0</td>\n",
       "      <td>62.0</td>\n",
       "      <td>0.0</td>\n",
       "      <td>129.0</td>\n",
       "      <td>2019-09-27</td>\n",
       "    </tr>\n",
       "    <tr>\n",
       "      <td>806</td>\n",
       "      <td>11611.0</td>\n",
       "      <td>11524.0</td>\n",
       "      <td>112.0</td>\n",
       "      <td>56.0</td>\n",
       "      <td>0.0</td>\n",
       "      <td>266.0</td>\n",
       "      <td>0.0</td>\n",
       "      <td>86.0</td>\n",
       "      <td>2019-09-26</td>\n",
       "    </tr>\n",
       "    <tr>\n",
       "      <td>...</td>\n",
       "      <td>...</td>\n",
       "      <td>...</td>\n",
       "      <td>...</td>\n",
       "      <td>...</td>\n",
       "      <td>...</td>\n",
       "      <td>...</td>\n",
       "      <td>...</td>\n",
       "      <td>...</td>\n",
       "      <td>...</td>\n",
       "    </tr>\n",
       "    <tr>\n",
       "      <td>12</td>\n",
       "      <td>14785.0</td>\n",
       "      <td>15169.0</td>\n",
       "      <td>286.0</td>\n",
       "      <td>318.0</td>\n",
       "      <td>0.0</td>\n",
       "      <td>424.0</td>\n",
       "      <td>11.0</td>\n",
       "      <td>15.0</td>\n",
       "      <td>2017-01-05</td>\n",
       "    </tr>\n",
       "    <tr>\n",
       "      <td>9</td>\n",
       "      <td>13572.0</td>\n",
       "      <td>13261.0</td>\n",
       "      <td>223.0</td>\n",
       "      <td>299.0</td>\n",
       "      <td>0.0</td>\n",
       "      <td>40.0</td>\n",
       "      <td>0.0</td>\n",
       "      <td>0.0</td>\n",
       "      <td>2017-01-04</td>\n",
       "    </tr>\n",
       "    <tr>\n",
       "      <td>6</td>\n",
       "      <td>14273.0</td>\n",
       "      <td>14015.0</td>\n",
       "      <td>1779.0</td>\n",
       "      <td>847.0</td>\n",
       "      <td>0.0</td>\n",
       "      <td>451.0</td>\n",
       "      <td>24.0</td>\n",
       "      <td>734.0</td>\n",
       "      <td>2017-01-03</td>\n",
       "    </tr>\n",
       "    <tr>\n",
       "      <td>3</td>\n",
       "      <td>16023.0</td>\n",
       "      <td>16175.0</td>\n",
       "      <td>800.0</td>\n",
       "      <td>181.0</td>\n",
       "      <td>0.0</td>\n",
       "      <td>597.0</td>\n",
       "      <td>0.0</td>\n",
       "      <td>280.0</td>\n",
       "      <td>2017-01-02</td>\n",
       "    </tr>\n",
       "    <tr>\n",
       "      <td>0</td>\n",
       "      <td>16021.0</td>\n",
       "      <td>15485.0</td>\n",
       "      <td>1324.0</td>\n",
       "      <td>1243.0</td>\n",
       "      <td>0.0</td>\n",
       "      <td>198.0</td>\n",
       "      <td>0.0</td>\n",
       "      <td>71.0</td>\n",
       "      <td>2017-01-01</td>\n",
       "    </tr>\n",
       "  </tbody>\n",
       "</table>\n",
       "<p>1003 rows × 9 columns</p>\n",
       "</div>"
      ],
      "text/plain": [
       "     Scheduled elapsed time (Minutes)  Actual elapsed time (Minutes)  \\\n",
       "818                           11611.0                        11087.0   \n",
       "815                           11833.0                        11222.0   \n",
       "812                           10496.0                        10328.0   \n",
       "809                           11281.0                        10059.0   \n",
       "806                           11611.0                        11524.0   \n",
       "..                                ...                            ...   \n",
       "12                            14785.0                        15169.0   \n",
       "9                             13572.0                        13261.0   \n",
       "6                             14273.0                        14015.0   \n",
       "3                             16023.0                        16175.0   \n",
       "0                             16021.0                        15485.0   \n",
       "\n",
       "     Departure delay (Minutes)  Delay Carrier (Minutes)  \\\n",
       "818                      -40.0                      4.0   \n",
       "815                      106.0                    191.0   \n",
       "812                      416.0                    127.0   \n",
       "809                      373.0                    170.0   \n",
       "806                      112.0                     56.0   \n",
       "..                         ...                      ...   \n",
       "12                       286.0                    318.0   \n",
       "9                        223.0                    299.0   \n",
       "6                       1779.0                    847.0   \n",
       "3                        800.0                    181.0   \n",
       "0                       1324.0                   1243.0   \n",
       "\n",
       "     Delay Weather (Minutes)  Delay National Aviation System (Minutes)  \\\n",
       "818                      0.0                                      11.0   \n",
       "815                      0.0                                      17.0   \n",
       "812                      0.0                                      88.0   \n",
       "809                      0.0                                      62.0   \n",
       "806                      0.0                                     266.0   \n",
       "..                       ...                                       ...   \n",
       "12                       0.0                                     424.0   \n",
       "9                        0.0                                      40.0   \n",
       "6                        0.0                                     451.0   \n",
       "3                        0.0                                     597.0   \n",
       "0                        0.0                                     198.0   \n",
       "\n",
       "     Delay Security (Minutes)  Delay Late Aircraft Arrival (Minutes)  \\\n",
       "818                       0.0                                  112.0   \n",
       "815                       0.0                                    0.0   \n",
       "812                       0.0                                  264.0   \n",
       "809                       0.0                                  129.0   \n",
       "806                       0.0                                   86.0   \n",
       "..                        ...                                    ...   \n",
       "12                       11.0                                   15.0   \n",
       "9                         0.0                                    0.0   \n",
       "6                        24.0                                  734.0   \n",
       "3                         0.0                                  280.0   \n",
       "0                         0.0                                   71.0   \n",
       "\n",
       "          Date  \n",
       "818 2019-09-30  \n",
       "815 2019-09-29  \n",
       "812 2019-09-28  \n",
       "809 2019-09-27  \n",
       "806 2019-09-26  \n",
       "..         ...  \n",
       "12  2017-01-05  \n",
       "9   2017-01-04  \n",
       "6   2017-01-03  \n",
       "3   2017-01-02  \n",
       "0   2017-01-01  \n",
       "\n",
       "[1003 rows x 9 columns]"
      ]
     },
     "execution_count": 9,
     "metadata": {},
     "output_type": "execute_result"
    }
   ],
   "source": [
    "df2"
   ]
  },
  {
   "cell_type": "code",
   "execution_count": 10,
   "metadata": {},
   "outputs": [],
   "source": [
    "df2['Half year']=pd.qcut(df2['Date'],q=12)"
   ]
  },
  {
   "cell_type": "code",
   "execution_count": 11,
   "metadata": {},
   "outputs": [],
   "source": [
    "df3=df2.groupby('Half year')"
   ]
  },
  {
   "cell_type": "code",
   "execution_count": 12,
   "metadata": {},
   "outputs": [],
   "source": [
    "df4=df3[['Departure delay (Minutes)','Delay Carrier (Minutes)','Delay Weather (Minutes)','Delay National Aviation System (Minutes)','Delay Security (Minutes)','Delay Late Aircraft Arrival (Minutes)']].sum()"
   ]
  },
  {
   "cell_type": "code",
   "execution_count": 13,
   "metadata": {},
   "outputs": [
    {
     "data": {
      "text/html": [
       "<div>\n",
       "<style scoped>\n",
       "    .dataframe tbody tr th:only-of-type {\n",
       "        vertical-align: middle;\n",
       "    }\n",
       "\n",
       "    .dataframe tbody tr th {\n",
       "        vertical-align: top;\n",
       "    }\n",
       "\n",
       "    .dataframe thead th {\n",
       "        text-align: right;\n",
       "    }\n",
       "</style>\n",
       "<table border=\"1\" class=\"dataframe\">\n",
       "  <thead>\n",
       "    <tr style=\"text-align: right;\">\n",
       "      <th></th>\n",
       "      <th>Departure delay (Minutes)</th>\n",
       "      <th>Delay Carrier (Minutes)</th>\n",
       "      <th>Delay Weather (Minutes)</th>\n",
       "      <th>Delay National Aviation System (Minutes)</th>\n",
       "      <th>Delay Security (Minutes)</th>\n",
       "      <th>Delay Late Aircraft Arrival (Minutes)</th>\n",
       "    </tr>\n",
       "    <tr>\n",
       "      <th>Half year</th>\n",
       "      <th></th>\n",
       "      <th></th>\n",
       "      <th></th>\n",
       "      <th></th>\n",
       "      <th></th>\n",
       "      <th></th>\n",
       "    </tr>\n",
       "  </thead>\n",
       "  <tbody>\n",
       "    <tr>\n",
       "      <td>(2017-03-25 12:00:00, 2017-06-17]</td>\n",
       "      <td>73823.0</td>\n",
       "      <td>25057.0</td>\n",
       "      <td>508.0</td>\n",
       "      <td>29325.0</td>\n",
       "      <td>408.0</td>\n",
       "      <td>31175.0</td>\n",
       "    </tr>\n",
       "    <tr>\n",
       "      <td>(2017-06-17, 2017-09-08 12:00:00]</td>\n",
       "      <td>68977.0</td>\n",
       "      <td>26420.0</td>\n",
       "      <td>646.0</td>\n",
       "      <td>36261.0</td>\n",
       "      <td>205.0</td>\n",
       "      <td>24142.0</td>\n",
       "    </tr>\n",
       "    <tr>\n",
       "      <td>(2018-05-17, 2018-08-08 12:00:00]</td>\n",
       "      <td>52131.0</td>\n",
       "      <td>16234.0</td>\n",
       "      <td>1958.0</td>\n",
       "      <td>26061.0</td>\n",
       "      <td>71.0</td>\n",
       "      <td>18803.0</td>\n",
       "    </tr>\n",
       "    <tr>\n",
       "      <td>(2016-12-31 23:59:59.999999999, 2017-03-25 12:00:00]</td>\n",
       "      <td>44233.0</td>\n",
       "      <td>21273.0</td>\n",
       "      <td>4428.0</td>\n",
       "      <td>25842.0</td>\n",
       "      <td>122.0</td>\n",
       "      <td>11596.0</td>\n",
       "    </tr>\n",
       "    <tr>\n",
       "      <td>(2019-07-08 12:00:00, 2019-09-30]</td>\n",
       "      <td>42970.0</td>\n",
       "      <td>14554.0</td>\n",
       "      <td>1971.0</td>\n",
       "      <td>20187.0</td>\n",
       "      <td>0.0</td>\n",
       "      <td>16185.0</td>\n",
       "    </tr>\n",
       "    <tr>\n",
       "      <td>(2019-04-16, 2019-07-08 12:00:00]</td>\n",
       "      <td>37743.0</td>\n",
       "      <td>13796.0</td>\n",
       "      <td>1839.0</td>\n",
       "      <td>17768.0</td>\n",
       "      <td>91.0</td>\n",
       "      <td>16209.0</td>\n",
       "    </tr>\n",
       "    <tr>\n",
       "      <td>(2017-12-01, 2018-02-22 12:00:00]</td>\n",
       "      <td>29751.0</td>\n",
       "      <td>12821.0</td>\n",
       "      <td>7161.0</td>\n",
       "      <td>10222.0</td>\n",
       "      <td>130.0</td>\n",
       "      <td>8791.0</td>\n",
       "    </tr>\n",
       "    <tr>\n",
       "      <td>(2019-01-22 12:00:00, 2019-04-16]</td>\n",
       "      <td>28107.0</td>\n",
       "      <td>13789.0</td>\n",
       "      <td>2152.0</td>\n",
       "      <td>23507.0</td>\n",
       "      <td>35.0</td>\n",
       "      <td>11561.0</td>\n",
       "    </tr>\n",
       "    <tr>\n",
       "      <td>(2018-10-31, 2019-01-22 12:00:00]</td>\n",
       "      <td>27419.0</td>\n",
       "      <td>11042.0</td>\n",
       "      <td>4047.0</td>\n",
       "      <td>13672.0</td>\n",
       "      <td>16.0</td>\n",
       "      <td>10150.0</td>\n",
       "    </tr>\n",
       "    <tr>\n",
       "      <td>(2018-08-08 12:00:00, 2018-10-31]</td>\n",
       "      <td>25419.0</td>\n",
       "      <td>15399.0</td>\n",
       "      <td>1052.0</td>\n",
       "      <td>21859.0</td>\n",
       "      <td>27.0</td>\n",
       "      <td>8573.0</td>\n",
       "    </tr>\n",
       "    <tr>\n",
       "      <td>(2018-02-22 12:00:00, 2018-05-17]</td>\n",
       "      <td>24094.0</td>\n",
       "      <td>9832.0</td>\n",
       "      <td>2192.0</td>\n",
       "      <td>12678.0</td>\n",
       "      <td>107.0</td>\n",
       "      <td>10556.0</td>\n",
       "    </tr>\n",
       "    <tr>\n",
       "      <td>(2017-09-08 12:00:00, 2017-12-01]</td>\n",
       "      <td>20191.0</td>\n",
       "      <td>8458.0</td>\n",
       "      <td>188.0</td>\n",
       "      <td>8996.0</td>\n",
       "      <td>85.0</td>\n",
       "      <td>10704.0</td>\n",
       "    </tr>\n",
       "  </tbody>\n",
       "</table>\n",
       "</div>"
      ],
      "text/plain": [
       "                                                    Departure delay (Minutes)  \\\n",
       "Half year                                                                       \n",
       "(2017-03-25 12:00:00, 2017-06-17]                                     73823.0   \n",
       "(2017-06-17, 2017-09-08 12:00:00]                                     68977.0   \n",
       "(2018-05-17, 2018-08-08 12:00:00]                                     52131.0   \n",
       "(2016-12-31 23:59:59.999999999, 2017-03-25 12:0...                    44233.0   \n",
       "(2019-07-08 12:00:00, 2019-09-30]                                     42970.0   \n",
       "(2019-04-16, 2019-07-08 12:00:00]                                     37743.0   \n",
       "(2017-12-01, 2018-02-22 12:00:00]                                     29751.0   \n",
       "(2019-01-22 12:00:00, 2019-04-16]                                     28107.0   \n",
       "(2018-10-31, 2019-01-22 12:00:00]                                     27419.0   \n",
       "(2018-08-08 12:00:00, 2018-10-31]                                     25419.0   \n",
       "(2018-02-22 12:00:00, 2018-05-17]                                     24094.0   \n",
       "(2017-09-08 12:00:00, 2017-12-01]                                     20191.0   \n",
       "\n",
       "                                                    Delay Carrier (Minutes)  \\\n",
       "Half year                                                                     \n",
       "(2017-03-25 12:00:00, 2017-06-17]                                   25057.0   \n",
       "(2017-06-17, 2017-09-08 12:00:00]                                   26420.0   \n",
       "(2018-05-17, 2018-08-08 12:00:00]                                   16234.0   \n",
       "(2016-12-31 23:59:59.999999999, 2017-03-25 12:0...                  21273.0   \n",
       "(2019-07-08 12:00:00, 2019-09-30]                                   14554.0   \n",
       "(2019-04-16, 2019-07-08 12:00:00]                                   13796.0   \n",
       "(2017-12-01, 2018-02-22 12:00:00]                                   12821.0   \n",
       "(2019-01-22 12:00:00, 2019-04-16]                                   13789.0   \n",
       "(2018-10-31, 2019-01-22 12:00:00]                                   11042.0   \n",
       "(2018-08-08 12:00:00, 2018-10-31]                                   15399.0   \n",
       "(2018-02-22 12:00:00, 2018-05-17]                                    9832.0   \n",
       "(2017-09-08 12:00:00, 2017-12-01]                                    8458.0   \n",
       "\n",
       "                                                    Delay Weather (Minutes)  \\\n",
       "Half year                                                                     \n",
       "(2017-03-25 12:00:00, 2017-06-17]                                     508.0   \n",
       "(2017-06-17, 2017-09-08 12:00:00]                                     646.0   \n",
       "(2018-05-17, 2018-08-08 12:00:00]                                    1958.0   \n",
       "(2016-12-31 23:59:59.999999999, 2017-03-25 12:0...                   4428.0   \n",
       "(2019-07-08 12:00:00, 2019-09-30]                                    1971.0   \n",
       "(2019-04-16, 2019-07-08 12:00:00]                                    1839.0   \n",
       "(2017-12-01, 2018-02-22 12:00:00]                                    7161.0   \n",
       "(2019-01-22 12:00:00, 2019-04-16]                                    2152.0   \n",
       "(2018-10-31, 2019-01-22 12:00:00]                                    4047.0   \n",
       "(2018-08-08 12:00:00, 2018-10-31]                                    1052.0   \n",
       "(2018-02-22 12:00:00, 2018-05-17]                                    2192.0   \n",
       "(2017-09-08 12:00:00, 2017-12-01]                                     188.0   \n",
       "\n",
       "                                                    Delay National Aviation System (Minutes)  \\\n",
       "Half year                                                                                      \n",
       "(2017-03-25 12:00:00, 2017-06-17]                                                    29325.0   \n",
       "(2017-06-17, 2017-09-08 12:00:00]                                                    36261.0   \n",
       "(2018-05-17, 2018-08-08 12:00:00]                                                    26061.0   \n",
       "(2016-12-31 23:59:59.999999999, 2017-03-25 12:0...                                   25842.0   \n",
       "(2019-07-08 12:00:00, 2019-09-30]                                                    20187.0   \n",
       "(2019-04-16, 2019-07-08 12:00:00]                                                    17768.0   \n",
       "(2017-12-01, 2018-02-22 12:00:00]                                                    10222.0   \n",
       "(2019-01-22 12:00:00, 2019-04-16]                                                    23507.0   \n",
       "(2018-10-31, 2019-01-22 12:00:00]                                                    13672.0   \n",
       "(2018-08-08 12:00:00, 2018-10-31]                                                    21859.0   \n",
       "(2018-02-22 12:00:00, 2018-05-17]                                                    12678.0   \n",
       "(2017-09-08 12:00:00, 2017-12-01]                                                     8996.0   \n",
       "\n",
       "                                                    Delay Security (Minutes)  \\\n",
       "Half year                                                                      \n",
       "(2017-03-25 12:00:00, 2017-06-17]                                      408.0   \n",
       "(2017-06-17, 2017-09-08 12:00:00]                                      205.0   \n",
       "(2018-05-17, 2018-08-08 12:00:00]                                       71.0   \n",
       "(2016-12-31 23:59:59.999999999, 2017-03-25 12:0...                     122.0   \n",
       "(2019-07-08 12:00:00, 2019-09-30]                                        0.0   \n",
       "(2019-04-16, 2019-07-08 12:00:00]                                       91.0   \n",
       "(2017-12-01, 2018-02-22 12:00:00]                                      130.0   \n",
       "(2019-01-22 12:00:00, 2019-04-16]                                       35.0   \n",
       "(2018-10-31, 2019-01-22 12:00:00]                                       16.0   \n",
       "(2018-08-08 12:00:00, 2018-10-31]                                       27.0   \n",
       "(2018-02-22 12:00:00, 2018-05-17]                                      107.0   \n",
       "(2017-09-08 12:00:00, 2017-12-01]                                       85.0   \n",
       "\n",
       "                                                    Delay Late Aircraft Arrival (Minutes)  \n",
       "Half year                                                                                  \n",
       "(2017-03-25 12:00:00, 2017-06-17]                                                 31175.0  \n",
       "(2017-06-17, 2017-09-08 12:00:00]                                                 24142.0  \n",
       "(2018-05-17, 2018-08-08 12:00:00]                                                 18803.0  \n",
       "(2016-12-31 23:59:59.999999999, 2017-03-25 12:0...                                11596.0  \n",
       "(2019-07-08 12:00:00, 2019-09-30]                                                 16185.0  \n",
       "(2019-04-16, 2019-07-08 12:00:00]                                                 16209.0  \n",
       "(2017-12-01, 2018-02-22 12:00:00]                                                  8791.0  \n",
       "(2019-01-22 12:00:00, 2019-04-16]                                                 11561.0  \n",
       "(2018-10-31, 2019-01-22 12:00:00]                                                 10150.0  \n",
       "(2018-08-08 12:00:00, 2018-10-31]                                                  8573.0  \n",
       "(2018-02-22 12:00:00, 2018-05-17]                                                 10556.0  \n",
       "(2017-09-08 12:00:00, 2017-12-01]                                                 10704.0  "
      ]
     },
     "execution_count": 13,
     "metadata": {},
     "output_type": "execute_result"
    }
   ],
   "source": [
    "df4.sort_values(by=['Departure delay (Minutes)'],ascending=False)"
   ]
  },
  {
   "cell_type": "code",
   "execution_count": 14,
   "metadata": {},
   "outputs": [],
   "source": [
    "y_axis=[]"
   ]
  },
  {
   "cell_type": "code",
   "execution_count": 15,
   "metadata": {},
   "outputs": [],
   "source": [
    "a=df1['Delay Carrier (Minutes)'].sum()\n",
    "b=df1['Delay Weather (Minutes)'].sum()\n",
    "c=df1['Delay National Aviation System (Minutes)'].sum()\n",
    "d=df1['Delay Security (Minutes)'].sum()\n",
    "e=df1['Delay Late Aircraft Arrival (Minutes)'].sum()\n",
    "x_axis=['Delay Carrier (Minutes)','Delay Weather (Minutes)','Delay National Aviation System (Minutes)','Delay Security (Minutes)','Delay Late Aircraft Arrival (Minutes)']\n",
    "y_axis=[a,b,c,d,e]"
   ]
  },
  {
   "cell_type": "code",
   "execution_count": 16,
   "metadata": {},
   "outputs": [
    {
     "data": {
      "image/png": "[encoded data removed]",
      "text/plain": [
       "<Figure size 1440x720 with 1 Axes>"
      ]
     },
     "metadata": {
      "needs_background": "light"
     },
     "output_type": "display_data"
    }
   ],
   "source": [
    "plt.figure(figsize=(20,10))\n",
    "plt.plot(x_axis,y_axis)\n",
    "\n",
    "plt.savefig(\"delay_reason.png\")"
   ]
  },
  {
   "cell_type": "markdown",
   "metadata": {},
   "source": [
    "Is there any relationship between delay carrier and delay weather?"
   ]
  },
  {
   "cell_type": "code",
   "execution_count": 17,
   "metadata": {},
   "outputs": [],
   "source": [
    "population1 = df1['Departure delay (Minutes)']"
   ]
  },
  {
   "cell_type": "code",
   "execution_count": 18,
   "metadata": {},
   "outputs": [],
   "source": [
    "population2 = df1['Delay Weather (Minutes)']"
   ]
  },
  {
   "cell_type": "code",
   "execution_count": 19,
   "metadata": {},
   "outputs": [
    {
     "data": {
      "text/plain": [
       "28142.0"
      ]
     },
     "execution_count": 19,
     "metadata": {},
     "output_type": "execute_result"
    }
   ],
   "source": [
    "df['Delay Weather (Minutes)'].sum()"
   ]
  },
  {
   "cell_type": "code",
   "execution_count": 20,
   "metadata": {},
   "outputs": [
    {
     "data": {
      "text/plain": [
       "Ttest_indResult(statistic=21.178781939923592, pvalue=1.762912694802822e-84)"
      ]
     },
     "execution_count": 20,
     "metadata": {},
     "output_type": "execute_result"
    }
   ],
   "source": [
    "stats.ttest_ind(population1, population2, equal_var=False)"
   ]
  },
  {
   "cell_type": "code",
   "execution_count": 21,
   "metadata": {},
   "outputs": [],
   "source": [
    "population3= df1['Delay Carrier (Minutes)']"
   ]
  },
  {
   "cell_type": "code",
   "execution_count": 22,
   "metadata": {},
   "outputs": [
    {
     "data": {
      "text/plain": [
       "188675.0"
      ]
     },
     "execution_count": 22,
     "metadata": {},
     "output_type": "execute_result"
    }
   ],
   "source": [
    "df1['Delay Carrier (Minutes)'].sum()"
   ]
  },
  {
   "cell_type": "code",
   "execution_count": 23,
   "metadata": {},
   "outputs": [
    {
     "data": {
      "text/plain": [
       "Ttest_indResult(statistic=13.052738053454416, pvalue=9.913830201273679e-37)"
      ]
     },
     "execution_count": 23,
     "metadata": {},
     "output_type": "execute_result"
    }
   ],
   "source": [
    "stats.ttest_ind(population1, population3, equal_var=False)"
   ]
  },
  {
   "cell_type": "code",
   "execution_count": 24,
   "metadata": {},
   "outputs": [],
   "source": [
    "population4= df1['Delay National Aviation System (Minutes)']"
   ]
  },
  {
   "cell_type": "code",
   "execution_count": 25,
   "metadata": {},
   "outputs": [
    {
     "data": {
      "text/plain": [
       "246378.0"
      ]
     },
     "execution_count": 25,
     "metadata": {},
     "output_type": "execute_result"
    }
   ],
   "source": [
    "df['Delay National Aviation System (Minutes)'].sum()"
   ]
  },
  {
   "cell_type": "code",
   "execution_count": 26,
   "metadata": {},
   "outputs": [
    {
     "data": {
      "text/plain": [
       "Ttest_indResult(statistic=10.10336263255484, pvalue=3.0270543778845754e-23)"
      ]
     },
     "execution_count": 26,
     "metadata": {},
     "output_type": "execute_result"
    }
   ],
   "source": [
    "stats.ttest_ind(population1, population4, equal_var=False)"
   ]
  },
  {
   "cell_type": "code",
   "execution_count": 27,
   "metadata": {},
   "outputs": [],
   "source": [
    "population5= df1['Delay Late Aircraft Arrival (Minutes)']"
   ]
  },
  {
   "cell_type": "code",
   "execution_count": 28,
   "metadata": {},
   "outputs": [
    {
     "data": {
      "text/plain": [
       "178445.0"
      ]
     },
     "execution_count": 28,
     "metadata": {},
     "output_type": "execute_result"
    }
   ],
   "source": [
    "df1['Delay Late Aircraft Arrival (Minutes)'].sum()"
   ]
  },
  {
   "cell_type": "code",
   "execution_count": 29,
   "metadata": {},
   "outputs": [
    {
     "data": {
      "text/plain": [
       "Ttest_indResult(statistic=13.506027421686067, pvalue=4.651561001103754e-39)"
      ]
     },
     "execution_count": 29,
     "metadata": {},
     "output_type": "execute_result"
    }
   ],
   "source": [
    "stats.ttest_ind(population1, population5, equal_var=False)"
   ]
  },
  {
   "cell_type": "code",
   "execution_count": 30,
   "metadata": {},
   "outputs": [
    {
     "data": {
      "text/plain": [
       "1297.0"
      ]
     },
     "execution_count": 30,
     "metadata": {},
     "output_type": "execute_result"
    }
   ],
   "source": [
    "df1['Delay Security (Minutes)'].sum()"
   ]
  },
  {
   "cell_type": "code",
   "execution_count": 31,
   "metadata": {},
   "outputs": [
    {
     "data": {
      "text/plain": [
       "F_onewayResult(statistic=126.58798675082315, pvalue=2.4261027053765914e-78)"
      ]
     },
     "execution_count": 31,
     "metadata": {},
     "output_type": "execute_result"
    }
   ],
   "source": [
    "stats.f_oneway(population2,population3,population4,population5)"
   ]
  },
  {
   "cell_type": "code",
   "execution_count": 32,
   "metadata": {},
   "outputs": [
    {
     "data": {
      "text/plain": [
       "Carrier Code                                46294\n",
       "Date (MM/DD/YYYY)                           46294\n",
       "Destination Airport                         46294\n",
       "Scheduled departure time                    46294\n",
       "Actual departure time                       46294\n",
       "Scheduled elapsed time (Minutes)            46294\n",
       "Actual elapsed time (Minutes)               46294\n",
       "Departure delay (Minutes)                   46294\n",
       "Delay Carrier (Minutes)                     46294\n",
       "Delay Weather (Minutes)                     46294\n",
       "Delay National Aviation System (Minutes)    46294\n",
       "Delay Security (Minutes)                    46294\n",
       "Delay Late Aircraft Arrival (Minutes)       46294\n",
       "dtype: int64"
      ]
     },
     "execution_count": 32,
     "metadata": {},
     "output_type": "execute_result"
    }
   ],
   "source": [
    "df.count()"
   ]
  },
  {
   "cell_type": "code",
   "execution_count": 56,
   "metadata": {},
   "outputs": [],
   "source": [
    "df_1=df[df['Departure delay (Minutes)']>0]"
   ]
  },
  {
   "cell_type": "code",
   "execution_count": 76,
   "metadata": {},
   "outputs": [
    {
     "data": {
      "text/plain": [
       "Carrier Code                                14364\n",
       "Date (MM/DD/YYYY)                           14364\n",
       "Destination Airport                         14364\n",
       "Scheduled departure time                    14364\n",
       "Actual departure time                       14364\n",
       "Scheduled elapsed time (Minutes)            14364\n",
       "Actual elapsed time (Minutes)               14364\n",
       "Departure delay (Minutes)                   14364\n",
       "Delay Carrier (Minutes)                     14364\n",
       "Delay Weather (Minutes)                     14364\n",
       "Delay National Aviation System (Minutes)    14364\n",
       "Delay Security (Minutes)                    14364\n",
       "Delay Late Aircraft Arrival (Minutes)       14364\n",
       "dtype: int64"
      ]
     },
     "execution_count": 76,
     "metadata": {},
     "output_type": "execute_result"
    }
   ],
   "source": [
    "df_1.count()"
   ]
  },
  {
   "cell_type": "code",
   "execution_count": 57,
   "metadata": {},
   "outputs": [],
   "source": [
    "y=df_1['Departure delay (Minutes)']"
   ]
  },
  {
   "cell_type": "code",
   "execution_count": 58,
   "metadata": {},
   "outputs": [],
   "source": [
    "x=df_1['Delay Weather (Minutes)']"
   ]
  },
  {
   "cell_type": "code",
   "execution_count": 59,
   "metadata": {},
   "outputs": [],
   "source": [
    "(slope, intercept, _, _, _) = linregress(x, y)\n",
    "fit = slope * x + intercept"
   ]
  },
  {
   "cell_type": "code",
   "execution_count": 60,
   "metadata": {},
   "outputs": [
    {
     "data": {
      "image/png": "[encoded data removed]",
      "text/plain": [
       "<Figure size 432x288 with 1 Axes>"
      ]
     },
     "metadata": {
      "needs_background": "light"
     },
     "output_type": "display_data"
    }
   ],
   "source": [
    "fig, ax = plt.subplots()\n",
    "\n",
    "fig.suptitle(\"Weather delay vs Departure delay\", fontsize=16, fontweight=\"bold\")\n",
    "ax.set_xlim(0, 600)\n",
    "\n",
    "ax.set_xlabel(\"Weather Delay\")\n",
    "ax.set_ylabel(\"Departure Delay\")\n",
    "\n",
    "ax.plot(x, y, linewidth=0, marker='o')\n",
    "ax.plot(x, fit, 'b--')\n",
    "\n",
    "plt.show()"
   ]
  },
  {
   "cell_type": "code",
   "execution_count": 61,
   "metadata": {},
   "outputs": [
    {
     "data": {
      "text/plain": [
       "Ttest_indResult(statistic=-58.85771504607275, pvalue=0.0)"
      ]
     },
     "execution_count": 61,
     "metadata": {},
     "output_type": "execute_result"
    }
   ],
   "source": [
    "stats.ttest_ind(x, y, equal_var=False)"
   ]
  },
  {
   "cell_type": "code",
   "execution_count": 62,
   "metadata": {},
   "outputs": [],
   "source": [
    "x1=df_1['Delay Carrier (Minutes)']"
   ]
  },
  {
   "cell_type": "code",
   "execution_count": 63,
   "metadata": {},
   "outputs": [],
   "source": [
    "(slope, intercept, _, _, _) = linregress(x1, y)\n",
    "fit1 = slope * x1 + intercept"
   ]
  },
  {
   "cell_type": "code",
   "execution_count": 64,
   "metadata": {},
   "outputs": [
    {
     "data": {
      "image/png": "[encoded data removed]",
      "text/plain": [
       "<Figure size 432x288 with 1 Axes>"
      ]
     },
     "metadata": {
      "needs_background": "light"
     },
     "output_type": "display_data"
    }
   ],
   "source": [
    "fig, ax = plt.subplots()\n",
    "\n",
    "fig.suptitle(\"Carrier Delay vs Departure delay\", fontsize=16, fontweight=\"bold\")\n",
    "\n",
    "ax.set_xlim(0, 1000)\n",
    "\n",
    "ax.set_xlabel(\"Carrier Delay\")\n",
    "ax.set_ylabel(\"Departure Delay\")\n",
    "\n",
    "ax.plot(x1, y, linewidth=0, marker='o')\n",
    "ax.plot(x1, fit1, 'b--')\n",
    "\n",
    "plt.show()"
   ]
  },
  {
   "cell_type": "code",
   "execution_count": 41,
   "metadata": {},
   "outputs": [
    {
     "data": {
      "text/plain": [
       "Ttest_indResult(statistic=-23.081661365246884, pvalue=1.763528026403261e-117)"
      ]
     },
     "execution_count": 41,
     "metadata": {},
     "output_type": "execute_result"
    }
   ],
   "source": [
    "stats.ttest_ind(x1, y, equal_var=False)"
   ]
  },
  {
   "cell_type": "code",
   "execution_count": 65,
   "metadata": {},
   "outputs": [],
   "source": [
    "x2=df_1['Delay National Aviation System (Minutes)']"
   ]
  },
  {
   "cell_type": "code",
   "execution_count": 66,
   "metadata": {},
   "outputs": [],
   "source": [
    "(slope, intercept, _, _, _) = linregress(x2, y)\n",
    "fit2 = slope * x2 + intercept"
   ]
  },
  {
   "cell_type": "code",
   "execution_count": 67,
   "metadata": {},
   "outputs": [
    {
     "data": {
      "image/png": "[encoded data removed]",
      "text/plain": [
       "<Figure size 432x288 with 1 Axes>"
      ]
     },
     "metadata": {
      "needs_background": "light"
     },
     "output_type": "display_data"
    }
   ],
   "source": [
    "fig, ax = plt.subplots()\n",
    "\n",
    "fig.suptitle(\"National aviation delay vs Departure delay\", fontsize=16, fontweight=\"bold\")\n",
    "\n",
    "ax.set_xlim(0, 400)\n",
    "ax.set_ylim(0, 400)\n",
    "\n",
    "ax.set_xlabel(\"National aviation Delay\")\n",
    "ax.set_ylabel(\"Departure Delay\")\n",
    "\n",
    "ax.plot(x2, y, linewidth=0, marker='o')\n",
    "ax.plot(x2, fit2, 'b--')\n",
    "\n",
    "plt.show()"
   ]
  },
  {
   "cell_type": "code",
   "execution_count": 68,
   "metadata": {},
   "outputs": [
    {
     "data": {
      "text/plain": [
       "Ttest_indResult(statistic=-42.83977251382835, pvalue=0.0)"
      ]
     },
     "execution_count": 68,
     "metadata": {},
     "output_type": "execute_result"
    }
   ],
   "source": [
    "stats.ttest_ind(x2, y, equal_var=False)"
   ]
  },
  {
   "cell_type": "code",
   "execution_count": 69,
   "metadata": {},
   "outputs": [],
   "source": [
    "x3=df_1['Delay Late Aircraft Arrival (Minutes)']"
   ]
  },
  {
   "cell_type": "code",
   "execution_count": 70,
   "metadata": {},
   "outputs": [],
   "source": [
    "(slope, intercept, _, _, _) = linregress(x3, y)\n",
    "fit3 = slope * x3 + intercept"
   ]
  },
  {
   "cell_type": "code",
   "execution_count": 71,
   "metadata": {},
   "outputs": [
    {
     "data": {
      "image/png": "[encoded data removed]",
      "text/plain": [
       "<Figure size 432x288 with 1 Axes>"
      ]
     },
     "metadata": {
      "needs_background": "light"
     },
     "output_type": "display_data"
    }
   ],
   "source": [
    "fig, ax = plt.subplots()\n",
    "\n",
    "fig.suptitle(\"Aircraft arrival delay vs Departure delay\", fontsize=16, fontweight=\"bold\")\n",
    "\n",
    "ax.set_xlim(0, 400)\n",
    "ax.set_ylim(0, 600)\n",
    "\n",
    "ax.set_xlabel(\"Late aircraft arrival Delay\")\n",
    "ax.set_ylabel(\"Departure Delay\")\n",
    "\n",
    "ax.plot(x3, y, linewidth=0, marker='o')\n",
    "ax.plot(x3, fit3, 'b--')\n",
    "\n",
    "plt.show()"
   ]
  },
  {
   "cell_type": "code",
   "execution_count": 72,
   "metadata": {},
   "outputs": [
    {
     "data": {
      "text/plain": [
       "Ttest_indResult(statistic=-40.35554646920461, pvalue=0.0)"
      ]
     },
     "execution_count": 72,
     "metadata": {},
     "output_type": "execute_result"
    }
   ],
   "source": [
    "stats.ttest_ind(x3, y, equal_var=False)"
   ]
  },
  {
   "cell_type": "code",
   "execution_count": 73,
   "metadata": {},
   "outputs": [],
   "source": [
    "x4=df_1['Delay Security (Minutes)']"
   ]
  },
  {
   "cell_type": "code",
   "execution_count": 74,
   "metadata": {},
   "outputs": [],
   "source": [
    "(slope, intercept, _, _, _) = linregress(x4, y)\n",
    "fit4 = slope * x4 + intercept"
   ]
  },
  {
   "cell_type": "code",
   "execution_count": 75,
   "metadata": {},
   "outputs": [
    {
     "data": {
      "image/png": "[encoded data removed]",
      "text/plain": [
       "<Figure size 432x288 with 1 Axes>"
      ]
     },
     "metadata": {
      "needs_background": "light"
     },
     "output_type": "display_data"
    }
   ],
   "source": [
    "fig, ax = plt.subplots()\n",
    "\n",
    "fig.suptitle(\"Security delay vs Departure delay\", fontsize=16, fontweight=\"bold\")\n",
    "\n",
    "ax.set_xlim(0, 100)\n",
    "\n",
    "ax.set_xlabel(\"Security Delay\")\n",
    "ax.set_ylabel(\"Departure Delay\")\n",
    "\n",
    "ax.plot(x4, y, linewidth=0, marker='o')\n",
    "ax.plot(x4, fit4, 'b--')\n",
    "\n",
    "plt.show()"
   ]
  },
  {
   "cell_type": "code",
   "execution_count": null,
   "metadata": {},
   "outputs": [],
   "source": []
  },
  {
   "cell_type": "code",
   "execution_count": null,
   "metadata": {},
   "outputs": [],
   "source": []
  },
  {
   "cell_type": "code",
   "execution_count": null,
   "metadata": {},
   "outputs": [],
   "source": []
  }
 ],
 "metadata": {
  "kernelspec": {
   "display_name": "Python 3",
   "language": "python",
   "name": "python3"
  },
  "language_info": {
   "codemirror_mode": {
    "name": "ipython",
    "version": 3
   },
   "file_extension": ".py",
   "mimetype": "text/x-python",
   "name": "python",
   "nbconvert_exporter": "python",
   "pygments_lexer": "ipython3",
   "version": "3.7.4"
  }
 },
 "nbformat": 4,
 "nbformat_minor": 2
}
