{
 "cells": [
  {
   "cell_type": "code",
   "execution_count": 1,
   "metadata": {},
   "outputs": [],
   "source": [
    "import pandas as pd\n",
    "import scipy.stats as stats\n",
    "import matplotlib.pyplot as plt\n",
    "from scipy.stats import linregress"
   ]
  },
  {
   "cell_type": "code",
   "execution_count": 2,
   "metadata": {},
   "outputs": [],
   "source": [
    "df=pd.read_csv(\"JFK_DA_delay_des_reason.csv\")"
   ]
  },
  {
   "cell_type": "code",
   "execution_count": 3,
   "metadata": {},
   "outputs": [
    {
     "data": {
      "text/html": [
       "<div>\n",
       "<style scoped>\n",
       "    .dataframe tbody tr th:only-of-type {\n",
       "        vertical-align: middle;\n",
       "    }\n",
       "\n",
       "    .dataframe tbody tr th {\n",
       "        vertical-align: top;\n",
       "    }\n",
       "\n",
       "    .dataframe thead th {\n",
       "        text-align: right;\n",
       "    }\n",
       "</style>\n",
       "<table border=\"1\" class=\"dataframe\">\n",
       "  <thead>\n",
       "    <tr style=\"text-align: right;\">\n",
       "      <th></th>\n",
       "      <th>Date (MM/DD/YYYY)</th>\n",
       "      <th>Destination Airport</th>\n",
       "      <th>Departure delay (Minutes)</th>\n",
       "      <th>Delay Carrier (Minutes)</th>\n",
       "      <th>Delay Weather (Minutes)</th>\n",
       "      <th>Delay National Aviation System (Minutes)</th>\n",
       "      <th>Delay Security (Minutes)</th>\n",
       "      <th>Delay Late Aircraft Arrival (Minutes)</th>\n",
       "      <th>Date</th>\n",
       "    </tr>\n",
       "  </thead>\n",
       "  <tbody>\n",
       "    <tr>\n",
       "      <td>0</td>\n",
       "      <td>01/01/2017</td>\n",
       "      <td>ATL</td>\n",
       "      <td>88.0</td>\n",
       "      <td>10.0</td>\n",
       "      <td>0.0</td>\n",
       "      <td>1.0</td>\n",
       "      <td>0.0</td>\n",
       "      <td>68.0</td>\n",
       "      <td>2017-01-01</td>\n",
       "    </tr>\n",
       "    <tr>\n",
       "      <td>1</td>\n",
       "      <td>01/01/2017</td>\n",
       "      <td>AUS</td>\n",
       "      <td>-2.0</td>\n",
       "      <td>0.0</td>\n",
       "      <td>0.0</td>\n",
       "      <td>0.0</td>\n",
       "      <td>0.0</td>\n",
       "      <td>0.0</td>\n",
       "      <td>2017-01-01</td>\n",
       "    </tr>\n",
       "    <tr>\n",
       "      <td>2</td>\n",
       "      <td>01/01/2017</td>\n",
       "      <td>BOS</td>\n",
       "      <td>-22.0</td>\n",
       "      <td>0.0</td>\n",
       "      <td>0.0</td>\n",
       "      <td>0.0</td>\n",
       "      <td>0.0</td>\n",
       "      <td>0.0</td>\n",
       "      <td>2017-01-01</td>\n",
       "    </tr>\n",
       "    <tr>\n",
       "      <td>3</td>\n",
       "      <td>01/01/2017</td>\n",
       "      <td>DEN</td>\n",
       "      <td>-8.0</td>\n",
       "      <td>0.0</td>\n",
       "      <td>0.0</td>\n",
       "      <td>0.0</td>\n",
       "      <td>0.0</td>\n",
       "      <td>0.0</td>\n",
       "      <td>2017-01-01</td>\n",
       "    </tr>\n",
       "    <tr>\n",
       "      <td>4</td>\n",
       "      <td>01/01/2017</td>\n",
       "      <td>DTW</td>\n",
       "      <td>-5.0</td>\n",
       "      <td>0.0</td>\n",
       "      <td>0.0</td>\n",
       "      <td>0.0</td>\n",
       "      <td>0.0</td>\n",
       "      <td>0.0</td>\n",
       "      <td>2017-01-01</td>\n",
       "    </tr>\n",
       "    <tr>\n",
       "      <td>...</td>\n",
       "      <td>...</td>\n",
       "      <td>...</td>\n",
       "      <td>...</td>\n",
       "      <td>...</td>\n",
       "      <td>...</td>\n",
       "      <td>...</td>\n",
       "      <td>...</td>\n",
       "      <td>...</td>\n",
       "      <td>...</td>\n",
       "    </tr>\n",
       "    <tr>\n",
       "      <td>25869</td>\n",
       "      <td>12/31/2018</td>\n",
       "      <td>SJU</td>\n",
       "      <td>-3.0</td>\n",
       "      <td>0.0</td>\n",
       "      <td>0.0</td>\n",
       "      <td>15.0</td>\n",
       "      <td>0.0</td>\n",
       "      <td>0.0</td>\n",
       "      <td>2018-12-31</td>\n",
       "    </tr>\n",
       "    <tr>\n",
       "      <td>25870</td>\n",
       "      <td>12/31/2018</td>\n",
       "      <td>SLC</td>\n",
       "      <td>-9.0</td>\n",
       "      <td>0.0</td>\n",
       "      <td>0.0</td>\n",
       "      <td>0.0</td>\n",
       "      <td>0.0</td>\n",
       "      <td>0.0</td>\n",
       "      <td>2018-12-31</td>\n",
       "    </tr>\n",
       "    <tr>\n",
       "      <td>25871</td>\n",
       "      <td>12/31/2018</td>\n",
       "      <td>SNA</td>\n",
       "      <td>-8.0</td>\n",
       "      <td>0.0</td>\n",
       "      <td>0.0</td>\n",
       "      <td>0.0</td>\n",
       "      <td>0.0</td>\n",
       "      <td>0.0</td>\n",
       "      <td>2018-12-31</td>\n",
       "    </tr>\n",
       "    <tr>\n",
       "      <td>25872</td>\n",
       "      <td>12/31/2018</td>\n",
       "      <td>STT</td>\n",
       "      <td>-3.0</td>\n",
       "      <td>0.0</td>\n",
       "      <td>0.0</td>\n",
       "      <td>0.0</td>\n",
       "      <td>0.0</td>\n",
       "      <td>0.0</td>\n",
       "      <td>2018-12-31</td>\n",
       "    </tr>\n",
       "    <tr>\n",
       "      <td>25873</td>\n",
       "      <td>12/31/2018</td>\n",
       "      <td>TPA</td>\n",
       "      <td>-19.0</td>\n",
       "      <td>0.0</td>\n",
       "      <td>0.0</td>\n",
       "      <td>0.0</td>\n",
       "      <td>0.0</td>\n",
       "      <td>0.0</td>\n",
       "      <td>2018-12-31</td>\n",
       "    </tr>\n",
       "  </tbody>\n",
       "</table>\n",
       "<p>25874 rows × 9 columns</p>\n",
       "</div>"
      ],
      "text/plain": [
       "      Date (MM/DD/YYYY) Destination Airport  Departure delay (Minutes)  \\\n",
       "0            01/01/2017                 ATL                       88.0   \n",
       "1            01/01/2017                 AUS                       -2.0   \n",
       "2            01/01/2017                 BOS                      -22.0   \n",
       "3            01/01/2017                 DEN                       -8.0   \n",
       "4            01/01/2017                 DTW                       -5.0   \n",
       "...                 ...                 ...                        ...   \n",
       "25869        12/31/2018                 SJU                       -3.0   \n",
       "25870        12/31/2018                 SLC                       -9.0   \n",
       "25871        12/31/2018                 SNA                       -8.0   \n",
       "25872        12/31/2018                 STT                       -3.0   \n",
       "25873        12/31/2018                 TPA                      -19.0   \n",
       "\n",
       "       Delay Carrier (Minutes)  Delay Weather (Minutes)  \\\n",
       "0                         10.0                      0.0   \n",
       "1                          0.0                      0.0   \n",
       "2                          0.0                      0.0   \n",
       "3                          0.0                      0.0   \n",
       "4                          0.0                      0.0   \n",
       "...                        ...                      ...   \n",
       "25869                      0.0                      0.0   \n",
       "25870                      0.0                      0.0   \n",
       "25871                      0.0                      0.0   \n",
       "25872                      0.0                      0.0   \n",
       "25873                      0.0                      0.0   \n",
       "\n",
       "       Delay National Aviation System (Minutes)  Delay Security (Minutes)  \\\n",
       "0                                           1.0                       0.0   \n",
       "1                                           0.0                       0.0   \n",
       "2                                           0.0                       0.0   \n",
       "3                                           0.0                       0.0   \n",
       "4                                           0.0                       0.0   \n",
       "...                                         ...                       ...   \n",
       "25869                                      15.0                       0.0   \n",
       "25870                                       0.0                       0.0   \n",
       "25871                                       0.0                       0.0   \n",
       "25872                                       0.0                       0.0   \n",
       "25873                                       0.0                       0.0   \n",
       "\n",
       "       Delay Late Aircraft Arrival (Minutes)        Date  \n",
       "0                                       68.0  2017-01-01  \n",
       "1                                        0.0  2017-01-01  \n",
       "2                                        0.0  2017-01-01  \n",
       "3                                        0.0  2017-01-01  \n",
       "4                                        0.0  2017-01-01  \n",
       "...                                      ...         ...  \n",
       "25869                                    0.0  2018-12-31  \n",
       "25870                                    0.0  2018-12-31  \n",
       "25871                                    0.0  2018-12-31  \n",
       "25872                                    0.0  2018-12-31  \n",
       "25873                                    0.0  2018-12-31  \n",
       "\n",
       "[25874 rows x 9 columns]"
      ]
     },
     "execution_count": 3,
     "metadata": {},
     "output_type": "execute_result"
    }
   ],
   "source": [
    "df"
   ]
  },
  {
   "cell_type": "code",
   "execution_count": 4,
   "metadata": {},
   "outputs": [],
   "source": [
    "df1=df.groupby(['Date (MM/DD/YYYY)'],as_index=False).sum()"
   ]
  },
  {
   "cell_type": "code",
   "execution_count": 5,
   "metadata": {},
   "outputs": [
    {
     "data": {
      "text/html": [
       "<div>\n",
       "<style scoped>\n",
       "    .dataframe tbody tr th:only-of-type {\n",
       "        vertical-align: middle;\n",
       "    }\n",
       "\n",
       "    .dataframe tbody tr th {\n",
       "        vertical-align: top;\n",
       "    }\n",
       "\n",
       "    .dataframe thead th {\n",
       "        text-align: right;\n",
       "    }\n",
       "</style>\n",
       "<table border=\"1\" class=\"dataframe\">\n",
       "  <thead>\n",
       "    <tr style=\"text-align: right;\">\n",
       "      <th></th>\n",
       "      <th>Date (MM/DD/YYYY)</th>\n",
       "      <th>Departure delay (Minutes)</th>\n",
       "      <th>Delay Carrier (Minutes)</th>\n",
       "      <th>Delay Weather (Minutes)</th>\n",
       "      <th>Delay National Aviation System (Minutes)</th>\n",
       "      <th>Delay Security (Minutes)</th>\n",
       "      <th>Delay Late Aircraft Arrival (Minutes)</th>\n",
       "    </tr>\n",
       "  </thead>\n",
       "  <tbody>\n",
       "    <tr>\n",
       "      <td>0</td>\n",
       "      <td>01/01/2017</td>\n",
       "      <td>4.0</td>\n",
       "      <td>69.0</td>\n",
       "      <td>0.0</td>\n",
       "      <td>116.0</td>\n",
       "      <td>0.0</td>\n",
       "      <td>80.0</td>\n",
       "    </tr>\n",
       "    <tr>\n",
       "      <td>1</td>\n",
       "      <td>01/01/2018</td>\n",
       "      <td>940.0</td>\n",
       "      <td>279.0</td>\n",
       "      <td>104.0</td>\n",
       "      <td>81.0</td>\n",
       "      <td>0.0</td>\n",
       "      <td>159.0</td>\n",
       "    </tr>\n",
       "    <tr>\n",
       "      <td>2</td>\n",
       "      <td>01/01/2019</td>\n",
       "      <td>28.0</td>\n",
       "      <td>83.0</td>\n",
       "      <td>0.0</td>\n",
       "      <td>55.0</td>\n",
       "      <td>0.0</td>\n",
       "      <td>29.0</td>\n",
       "    </tr>\n",
       "    <tr>\n",
       "      <td>3</td>\n",
       "      <td>01/02/2017</td>\n",
       "      <td>999.0</td>\n",
       "      <td>345.0</td>\n",
       "      <td>0.0</td>\n",
       "      <td>688.0</td>\n",
       "      <td>0.0</td>\n",
       "      <td>176.0</td>\n",
       "    </tr>\n",
       "    <tr>\n",
       "      <td>4</td>\n",
       "      <td>01/02/2018</td>\n",
       "      <td>1452.0</td>\n",
       "      <td>433.0</td>\n",
       "      <td>145.0</td>\n",
       "      <td>124.0</td>\n",
       "      <td>0.0</td>\n",
       "      <td>21.0</td>\n",
       "    </tr>\n",
       "    <tr>\n",
       "      <td>...</td>\n",
       "      <td>...</td>\n",
       "      <td>...</td>\n",
       "      <td>...</td>\n",
       "      <td>...</td>\n",
       "      <td>...</td>\n",
       "      <td>...</td>\n",
       "      <td>...</td>\n",
       "    </tr>\n",
       "    <tr>\n",
       "      <td>95</td>\n",
       "      <td>02/01/2019</td>\n",
       "      <td>1870.0</td>\n",
       "      <td>967.0</td>\n",
       "      <td>0.0</td>\n",
       "      <td>258.0</td>\n",
       "      <td>0.0</td>\n",
       "      <td>45.0</td>\n",
       "    </tr>\n",
       "    <tr>\n",
       "      <td>96</td>\n",
       "      <td>02/02/2017</td>\n",
       "      <td>325.0</td>\n",
       "      <td>89.0</td>\n",
       "      <td>0.0</td>\n",
       "      <td>652.0</td>\n",
       "      <td>0.0</td>\n",
       "      <td>69.0</td>\n",
       "    </tr>\n",
       "    <tr>\n",
       "      <td>97</td>\n",
       "      <td>02/02/2018</td>\n",
       "      <td>271.0</td>\n",
       "      <td>211.0</td>\n",
       "      <td>0.0</td>\n",
       "      <td>646.0</td>\n",
       "      <td>0.0</td>\n",
       "      <td>42.0</td>\n",
       "    </tr>\n",
       "    <tr>\n",
       "      <td>98</td>\n",
       "      <td>02/02/2019</td>\n",
       "      <td>204.0</td>\n",
       "      <td>22.0</td>\n",
       "      <td>0.0</td>\n",
       "      <td>52.0</td>\n",
       "      <td>0.0</td>\n",
       "      <td>94.0</td>\n",
       "    </tr>\n",
       "    <tr>\n",
       "      <td>99</td>\n",
       "      <td>02/03/2017</td>\n",
       "      <td>887.0</td>\n",
       "      <td>111.0</td>\n",
       "      <td>29.0</td>\n",
       "      <td>1293.0</td>\n",
       "      <td>0.0</td>\n",
       "      <td>21.0</td>\n",
       "    </tr>\n",
       "  </tbody>\n",
       "</table>\n",
       "<p>100 rows × 7 columns</p>\n",
       "</div>"
      ],
      "text/plain": [
       "   Date (MM/DD/YYYY)  Departure delay (Minutes)  Delay Carrier (Minutes)  \\\n",
       "0         01/01/2017                        4.0                     69.0   \n",
       "1         01/01/2018                      940.0                    279.0   \n",
       "2         01/01/2019                       28.0                     83.0   \n",
       "3         01/02/2017                      999.0                    345.0   \n",
       "4         01/02/2018                     1452.0                    433.0   \n",
       "..               ...                        ...                      ...   \n",
       "95        02/01/2019                     1870.0                    967.0   \n",
       "96        02/02/2017                      325.0                     89.0   \n",
       "97        02/02/2018                      271.0                    211.0   \n",
       "98        02/02/2019                      204.0                     22.0   \n",
       "99        02/03/2017                      887.0                    111.0   \n",
       "\n",
       "    Delay Weather (Minutes)  Delay National Aviation System (Minutes)  \\\n",
       "0                       0.0                                     116.0   \n",
       "1                     104.0                                      81.0   \n",
       "2                       0.0                                      55.0   \n",
       "3                       0.0                                     688.0   \n",
       "4                     145.0                                     124.0   \n",
       "..                      ...                                       ...   \n",
       "95                      0.0                                     258.0   \n",
       "96                      0.0                                     652.0   \n",
       "97                      0.0                                     646.0   \n",
       "98                      0.0                                      52.0   \n",
       "99                     29.0                                    1293.0   \n",
       "\n",
       "    Delay Security (Minutes)  Delay Late Aircraft Arrival (Minutes)  \n",
       "0                        0.0                                   80.0  \n",
       "1                        0.0                                  159.0  \n",
       "2                        0.0                                   29.0  \n",
       "3                        0.0                                  176.0  \n",
       "4                        0.0                                   21.0  \n",
       "..                       ...                                    ...  \n",
       "95                       0.0                                   45.0  \n",
       "96                       0.0                                   69.0  \n",
       "97                       0.0                                   42.0  \n",
       "98                       0.0                                   94.0  \n",
       "99                       0.0                                   21.0  \n",
       "\n",
       "[100 rows x 7 columns]"
      ]
     },
     "execution_count": 5,
     "metadata": {},
     "output_type": "execute_result"
    }
   ],
   "source": [
    "df1.head(100)"
   ]
  },
  {
   "cell_type": "code",
   "execution_count": 6,
   "metadata": {},
   "outputs": [],
   "source": [
    "df1['Date'] = pd.to_datetime(df1['Date (MM/DD/YYYY)'])"
   ]
  },
  {
   "cell_type": "code",
   "execution_count": 7,
   "metadata": {},
   "outputs": [],
   "source": [
    "df1=df1.drop(['Date (MM/DD/YYYY)'],axis=1)"
   ]
  },
  {
   "cell_type": "code",
   "execution_count": 8,
   "metadata": {},
   "outputs": [],
   "source": [
    "df2=df1.sort_values(by=['Date'],ascending=False)"
   ]
  },
  {
   "cell_type": "code",
   "execution_count": 9,
   "metadata": {},
   "outputs": [
    {
     "data": {
      "text/html": [
       "<div>\n",
       "<style scoped>\n",
       "    .dataframe tbody tr th:only-of-type {\n",
       "        vertical-align: middle;\n",
       "    }\n",
       "\n",
       "    .dataframe tbody tr th {\n",
       "        vertical-align: top;\n",
       "    }\n",
       "\n",
       "    .dataframe thead th {\n",
       "        text-align: right;\n",
       "    }\n",
       "</style>\n",
       "<table border=\"1\" class=\"dataframe\">\n",
       "  <thead>\n",
       "    <tr style=\"text-align: right;\">\n",
       "      <th></th>\n",
       "      <th>Departure delay (Minutes)</th>\n",
       "      <th>Delay Carrier (Minutes)</th>\n",
       "      <th>Delay Weather (Minutes)</th>\n",
       "      <th>Delay National Aviation System (Minutes)</th>\n",
       "      <th>Delay Security (Minutes)</th>\n",
       "      <th>Delay Late Aircraft Arrival (Minutes)</th>\n",
       "      <th>Date</th>\n",
       "    </tr>\n",
       "  </thead>\n",
       "  <tbody>\n",
       "    <tr>\n",
       "      <td>818</td>\n",
       "      <td>127.0</td>\n",
       "      <td>138.0</td>\n",
       "      <td>0.0</td>\n",
       "      <td>44.0</td>\n",
       "      <td>0.0</td>\n",
       "      <td>54.0</td>\n",
       "      <td>2019-09-30</td>\n",
       "    </tr>\n",
       "    <tr>\n",
       "      <td>815</td>\n",
       "      <td>235.0</td>\n",
       "      <td>200.0</td>\n",
       "      <td>0.0</td>\n",
       "      <td>66.0</td>\n",
       "      <td>0.0</td>\n",
       "      <td>43.0</td>\n",
       "      <td>2019-09-29</td>\n",
       "    </tr>\n",
       "    <tr>\n",
       "      <td>812</td>\n",
       "      <td>-124.0</td>\n",
       "      <td>24.0</td>\n",
       "      <td>0.0</td>\n",
       "      <td>176.0</td>\n",
       "      <td>0.0</td>\n",
       "      <td>16.0</td>\n",
       "      <td>2019-09-28</td>\n",
       "    </tr>\n",
       "    <tr>\n",
       "      <td>809</td>\n",
       "      <td>43.0</td>\n",
       "      <td>56.0</td>\n",
       "      <td>0.0</td>\n",
       "      <td>219.0</td>\n",
       "      <td>0.0</td>\n",
       "      <td>78.0</td>\n",
       "      <td>2019-09-27</td>\n",
       "    </tr>\n",
       "    <tr>\n",
       "      <td>806</td>\n",
       "      <td>1056.0</td>\n",
       "      <td>180.0</td>\n",
       "      <td>0.0</td>\n",
       "      <td>1129.0</td>\n",
       "      <td>69.0</td>\n",
       "      <td>308.0</td>\n",
       "      <td>2019-09-26</td>\n",
       "    </tr>\n",
       "    <tr>\n",
       "      <td>...</td>\n",
       "      <td>...</td>\n",
       "      <td>...</td>\n",
       "      <td>...</td>\n",
       "      <td>...</td>\n",
       "      <td>...</td>\n",
       "      <td>...</td>\n",
       "      <td>...</td>\n",
       "    </tr>\n",
       "    <tr>\n",
       "      <td>12</td>\n",
       "      <td>400.0</td>\n",
       "      <td>318.0</td>\n",
       "      <td>0.0</td>\n",
       "      <td>477.0</td>\n",
       "      <td>0.0</td>\n",
       "      <td>60.0</td>\n",
       "      <td>2017-01-05</td>\n",
       "    </tr>\n",
       "    <tr>\n",
       "      <td>9</td>\n",
       "      <td>625.0</td>\n",
       "      <td>454.0</td>\n",
       "      <td>0.0</td>\n",
       "      <td>181.0</td>\n",
       "      <td>0.0</td>\n",
       "      <td>23.0</td>\n",
       "      <td>2017-01-04</td>\n",
       "    </tr>\n",
       "    <tr>\n",
       "      <td>6</td>\n",
       "      <td>631.0</td>\n",
       "      <td>230.0</td>\n",
       "      <td>0.0</td>\n",
       "      <td>531.0</td>\n",
       "      <td>0.0</td>\n",
       "      <td>50.0</td>\n",
       "      <td>2017-01-03</td>\n",
       "    </tr>\n",
       "    <tr>\n",
       "      <td>3</td>\n",
       "      <td>999.0</td>\n",
       "      <td>345.0</td>\n",
       "      <td>0.0</td>\n",
       "      <td>688.0</td>\n",
       "      <td>0.0</td>\n",
       "      <td>176.0</td>\n",
       "      <td>2017-01-02</td>\n",
       "    </tr>\n",
       "    <tr>\n",
       "      <td>0</td>\n",
       "      <td>4.0</td>\n",
       "      <td>69.0</td>\n",
       "      <td>0.0</td>\n",
       "      <td>116.0</td>\n",
       "      <td>0.0</td>\n",
       "      <td>80.0</td>\n",
       "      <td>2017-01-01</td>\n",
       "    </tr>\n",
       "  </tbody>\n",
       "</table>\n",
       "<p>1003 rows × 7 columns</p>\n",
       "</div>"
      ],
      "text/plain": [
       "     Departure delay (Minutes)  Delay Carrier (Minutes)  \\\n",
       "818                      127.0                    138.0   \n",
       "815                      235.0                    200.0   \n",
       "812                     -124.0                     24.0   \n",
       "809                       43.0                     56.0   \n",
       "806                     1056.0                    180.0   \n",
       "..                         ...                      ...   \n",
       "12                       400.0                    318.0   \n",
       "9                        625.0                    454.0   \n",
       "6                        631.0                    230.0   \n",
       "3                        999.0                    345.0   \n",
       "0                          4.0                     69.0   \n",
       "\n",
       "     Delay Weather (Minutes)  Delay National Aviation System (Minutes)  \\\n",
       "818                      0.0                                      44.0   \n",
       "815                      0.0                                      66.0   \n",
       "812                      0.0                                     176.0   \n",
       "809                      0.0                                     219.0   \n",
       "806                      0.0                                    1129.0   \n",
       "..                       ...                                       ...   \n",
       "12                       0.0                                     477.0   \n",
       "9                        0.0                                     181.0   \n",
       "6                        0.0                                     531.0   \n",
       "3                        0.0                                     688.0   \n",
       "0                        0.0                                     116.0   \n",
       "\n",
       "     Delay Security (Minutes)  Delay Late Aircraft Arrival (Minutes)  \\\n",
       "818                       0.0                                   54.0   \n",
       "815                       0.0                                   43.0   \n",
       "812                       0.0                                   16.0   \n",
       "809                       0.0                                   78.0   \n",
       "806                      69.0                                  308.0   \n",
       "..                        ...                                    ...   \n",
       "12                        0.0                                   60.0   \n",
       "9                         0.0                                   23.0   \n",
       "6                         0.0                                   50.0   \n",
       "3                         0.0                                  176.0   \n",
       "0                         0.0                                   80.0   \n",
       "\n",
       "          Date  \n",
       "818 2019-09-30  \n",
       "815 2019-09-29  \n",
       "812 2019-09-28  \n",
       "809 2019-09-27  \n",
       "806 2019-09-26  \n",
       "..         ...  \n",
       "12  2017-01-05  \n",
       "9   2017-01-04  \n",
       "6   2017-01-03  \n",
       "3   2017-01-02  \n",
       "0   2017-01-01  \n",
       "\n",
       "[1003 rows x 7 columns]"
      ]
     },
     "execution_count": 9,
     "metadata": {},
     "output_type": "execute_result"
    }
   ],
   "source": [
    "df2"
   ]
  },
  {
   "cell_type": "code",
   "execution_count": 10,
   "metadata": {},
   "outputs": [],
   "source": [
    "df2['Half year']=pd.qcut(df2['Date'],q=12)"
   ]
  },
  {
   "cell_type": "code",
   "execution_count": 11,
   "metadata": {},
   "outputs": [],
   "source": [
    "df3=df2.groupby('Half year')"
   ]
  },
  {
   "cell_type": "code",
   "execution_count": 12,
   "metadata": {},
   "outputs": [],
   "source": [
    "df4=df3[['Departure delay (Minutes)','Delay Carrier (Minutes)','Delay Weather (Minutes)','Delay National Aviation System (Minutes)','Delay Security (Minutes)','Delay Late Aircraft Arrival (Minutes)']].sum()"
   ]
  },
  {
   "cell_type": "code",
   "execution_count": 13,
   "metadata": {},
   "outputs": [
    {
     "data": {
      "text/html": [
       "<div>\n",
       "<style scoped>\n",
       "    .dataframe tbody tr th:only-of-type {\n",
       "        vertical-align: middle;\n",
       "    }\n",
       "\n",
       "    .dataframe tbody tr th {\n",
       "        vertical-align: top;\n",
       "    }\n",
       "\n",
       "    .dataframe thead th {\n",
       "        text-align: right;\n",
       "    }\n",
       "</style>\n",
       "<table border=\"1\" class=\"dataframe\">\n",
       "  <thead>\n",
       "    <tr style=\"text-align: right;\">\n",
       "      <th></th>\n",
       "      <th>Departure delay (Minutes)</th>\n",
       "      <th>Delay Carrier (Minutes)</th>\n",
       "      <th>Delay Weather (Minutes)</th>\n",
       "      <th>Delay National Aviation System (Minutes)</th>\n",
       "      <th>Delay Security (Minutes)</th>\n",
       "      <th>Delay Late Aircraft Arrival (Minutes)</th>\n",
       "    </tr>\n",
       "    <tr>\n",
       "      <th>Half year</th>\n",
       "      <th></th>\n",
       "      <th></th>\n",
       "      <th></th>\n",
       "      <th></th>\n",
       "      <th></th>\n",
       "      <th></th>\n",
       "    </tr>\n",
       "  </thead>\n",
       "  <tbody>\n",
       "    <tr>\n",
       "      <td>(2017-03-25 12:00:00, 2017-06-17]</td>\n",
       "      <td>164695.0</td>\n",
       "      <td>49012.0</td>\n",
       "      <td>2302.0</td>\n",
       "      <td>49839.0</td>\n",
       "      <td>303.0</td>\n",
       "      <td>57268.0</td>\n",
       "    </tr>\n",
       "    <tr>\n",
       "      <td>(2019-07-08 12:00:00, 2019-09-30]</td>\n",
       "      <td>163894.0</td>\n",
       "      <td>56912.0</td>\n",
       "      <td>10467.0</td>\n",
       "      <td>68709.0</td>\n",
       "      <td>675.0</td>\n",
       "      <td>33102.0</td>\n",
       "    </tr>\n",
       "    <tr>\n",
       "      <td>(2018-05-17, 2018-08-08 12:00:00]</td>\n",
       "      <td>146860.0</td>\n",
       "      <td>43767.0</td>\n",
       "      <td>8610.0</td>\n",
       "      <td>56746.0</td>\n",
       "      <td>184.0</td>\n",
       "      <td>36758.0</td>\n",
       "    </tr>\n",
       "    <tr>\n",
       "      <td>(2017-06-17, 2017-09-08 12:00:00]</td>\n",
       "      <td>118729.0</td>\n",
       "      <td>45070.0</td>\n",
       "      <td>6384.0</td>\n",
       "      <td>51610.0</td>\n",
       "      <td>245.0</td>\n",
       "      <td>25846.0</td>\n",
       "    </tr>\n",
       "    <tr>\n",
       "      <td>(2019-04-16, 2019-07-08 12:00:00]</td>\n",
       "      <td>117650.0</td>\n",
       "      <td>50598.0</td>\n",
       "      <td>3628.0</td>\n",
       "      <td>44298.0</td>\n",
       "      <td>569.0</td>\n",
       "      <td>31227.0</td>\n",
       "    </tr>\n",
       "    <tr>\n",
       "      <td>(2016-12-31 23:59:59.999999999, 2017-03-25 12:00:00]</td>\n",
       "      <td>83572.0</td>\n",
       "      <td>23792.0</td>\n",
       "      <td>26140.0</td>\n",
       "      <td>29588.0</td>\n",
       "      <td>250.0</td>\n",
       "      <td>13230.0</td>\n",
       "    </tr>\n",
       "    <tr>\n",
       "      <td>(2019-01-22 12:00:00, 2019-04-16]</td>\n",
       "      <td>76522.0</td>\n",
       "      <td>37079.0</td>\n",
       "      <td>5465.0</td>\n",
       "      <td>45243.0</td>\n",
       "      <td>111.0</td>\n",
       "      <td>14906.0</td>\n",
       "    </tr>\n",
       "    <tr>\n",
       "      <td>(2017-12-01, 2018-02-22 12:00:00]</td>\n",
       "      <td>74532.0</td>\n",
       "      <td>30155.0</td>\n",
       "      <td>15384.0</td>\n",
       "      <td>23926.0</td>\n",
       "      <td>96.0</td>\n",
       "      <td>10694.0</td>\n",
       "    </tr>\n",
       "    <tr>\n",
       "      <td>(2018-10-31, 2019-01-22 12:00:00]</td>\n",
       "      <td>67513.0</td>\n",
       "      <td>26699.0</td>\n",
       "      <td>9554.0</td>\n",
       "      <td>24335.0</td>\n",
       "      <td>0.0</td>\n",
       "      <td>12445.0</td>\n",
       "    </tr>\n",
       "    <tr>\n",
       "      <td>(2018-08-08 12:00:00, 2018-10-31]</td>\n",
       "      <td>56875.0</td>\n",
       "      <td>24937.0</td>\n",
       "      <td>4585.0</td>\n",
       "      <td>26054.0</td>\n",
       "      <td>85.0</td>\n",
       "      <td>11621.0</td>\n",
       "    </tr>\n",
       "    <tr>\n",
       "      <td>(2018-02-22 12:00:00, 2018-05-17]</td>\n",
       "      <td>55118.0</td>\n",
       "      <td>28870.0</td>\n",
       "      <td>5349.0</td>\n",
       "      <td>32213.0</td>\n",
       "      <td>538.0</td>\n",
       "      <td>14229.0</td>\n",
       "    </tr>\n",
       "    <tr>\n",
       "      <td>(2017-09-08 12:00:00, 2017-12-01]</td>\n",
       "      <td>49668.0</td>\n",
       "      <td>23401.0</td>\n",
       "      <td>179.0</td>\n",
       "      <td>23429.0</td>\n",
       "      <td>114.0</td>\n",
       "      <td>14958.0</td>\n",
       "    </tr>\n",
       "  </tbody>\n",
       "</table>\n",
       "</div>"
      ],
      "text/plain": [
       "                                                    Departure delay (Minutes)  \\\n",
       "Half year                                                                       \n",
       "(2017-03-25 12:00:00, 2017-06-17]                                    164695.0   \n",
       "(2019-07-08 12:00:00, 2019-09-30]                                    163894.0   \n",
       "(2018-05-17, 2018-08-08 12:00:00]                                    146860.0   \n",
       "(2017-06-17, 2017-09-08 12:00:00]                                    118729.0   \n",
       "(2019-04-16, 2019-07-08 12:00:00]                                    117650.0   \n",
       "(2016-12-31 23:59:59.999999999, 2017-03-25 12:0...                    83572.0   \n",
       "(2019-01-22 12:00:00, 2019-04-16]                                     76522.0   \n",
       "(2017-12-01, 2018-02-22 12:00:00]                                     74532.0   \n",
       "(2018-10-31, 2019-01-22 12:00:00]                                     67513.0   \n",
       "(2018-08-08 12:00:00, 2018-10-31]                                     56875.0   \n",
       "(2018-02-22 12:00:00, 2018-05-17]                                     55118.0   \n",
       "(2017-09-08 12:00:00, 2017-12-01]                                     49668.0   \n",
       "\n",
       "                                                    Delay Carrier (Minutes)  \\\n",
       "Half year                                                                     \n",
       "(2017-03-25 12:00:00, 2017-06-17]                                   49012.0   \n",
       "(2019-07-08 12:00:00, 2019-09-30]                                   56912.0   \n",
       "(2018-05-17, 2018-08-08 12:00:00]                                   43767.0   \n",
       "(2017-06-17, 2017-09-08 12:00:00]                                   45070.0   \n",
       "(2019-04-16, 2019-07-08 12:00:00]                                   50598.0   \n",
       "(2016-12-31 23:59:59.999999999, 2017-03-25 12:0...                  23792.0   \n",
       "(2019-01-22 12:00:00, 2019-04-16]                                   37079.0   \n",
       "(2017-12-01, 2018-02-22 12:00:00]                                   30155.0   \n",
       "(2018-10-31, 2019-01-22 12:00:00]                                   26699.0   \n",
       "(2018-08-08 12:00:00, 2018-10-31]                                   24937.0   \n",
       "(2018-02-22 12:00:00, 2018-05-17]                                   28870.0   \n",
       "(2017-09-08 12:00:00, 2017-12-01]                                   23401.0   \n",
       "\n",
       "                                                    Delay Weather (Minutes)  \\\n",
       "Half year                                                                     \n",
       "(2017-03-25 12:00:00, 2017-06-17]                                    2302.0   \n",
       "(2019-07-08 12:00:00, 2019-09-30]                                   10467.0   \n",
       "(2018-05-17, 2018-08-08 12:00:00]                                    8610.0   \n",
       "(2017-06-17, 2017-09-08 12:00:00]                                    6384.0   \n",
       "(2019-04-16, 2019-07-08 12:00:00]                                    3628.0   \n",
       "(2016-12-31 23:59:59.999999999, 2017-03-25 12:0...                  26140.0   \n",
       "(2019-01-22 12:00:00, 2019-04-16]                                    5465.0   \n",
       "(2017-12-01, 2018-02-22 12:00:00]                                   15384.0   \n",
       "(2018-10-31, 2019-01-22 12:00:00]                                    9554.0   \n",
       "(2018-08-08 12:00:00, 2018-10-31]                                    4585.0   \n",
       "(2018-02-22 12:00:00, 2018-05-17]                                    5349.0   \n",
       "(2017-09-08 12:00:00, 2017-12-01]                                     179.0   \n",
       "\n",
       "                                                    Delay National Aviation System (Minutes)  \\\n",
       "Half year                                                                                      \n",
       "(2017-03-25 12:00:00, 2017-06-17]                                                    49839.0   \n",
       "(2019-07-08 12:00:00, 2019-09-30]                                                    68709.0   \n",
       "(2018-05-17, 2018-08-08 12:00:00]                                                    56746.0   \n",
       "(2017-06-17, 2017-09-08 12:00:00]                                                    51610.0   \n",
       "(2019-04-16, 2019-07-08 12:00:00]                                                    44298.0   \n",
       "(2016-12-31 23:59:59.999999999, 2017-03-25 12:0...                                   29588.0   \n",
       "(2019-01-22 12:00:00, 2019-04-16]                                                    45243.0   \n",
       "(2017-12-01, 2018-02-22 12:00:00]                                                    23926.0   \n",
       "(2018-10-31, 2019-01-22 12:00:00]                                                    24335.0   \n",
       "(2018-08-08 12:00:00, 2018-10-31]                                                    26054.0   \n",
       "(2018-02-22 12:00:00, 2018-05-17]                                                    32213.0   \n",
       "(2017-09-08 12:00:00, 2017-12-01]                                                    23429.0   \n",
       "\n",
       "                                                    Delay Security (Minutes)  \\\n",
       "Half year                                                                      \n",
       "(2017-03-25 12:00:00, 2017-06-17]                                      303.0   \n",
       "(2019-07-08 12:00:00, 2019-09-30]                                      675.0   \n",
       "(2018-05-17, 2018-08-08 12:00:00]                                      184.0   \n",
       "(2017-06-17, 2017-09-08 12:00:00]                                      245.0   \n",
       "(2019-04-16, 2019-07-08 12:00:00]                                      569.0   \n",
       "(2016-12-31 23:59:59.999999999, 2017-03-25 12:0...                     250.0   \n",
       "(2019-01-22 12:00:00, 2019-04-16]                                      111.0   \n",
       "(2017-12-01, 2018-02-22 12:00:00]                                       96.0   \n",
       "(2018-10-31, 2019-01-22 12:00:00]                                        0.0   \n",
       "(2018-08-08 12:00:00, 2018-10-31]                                       85.0   \n",
       "(2018-02-22 12:00:00, 2018-05-17]                                      538.0   \n",
       "(2017-09-08 12:00:00, 2017-12-01]                                      114.0   \n",
       "\n",
       "                                                    Delay Late Aircraft Arrival (Minutes)  \n",
       "Half year                                                                                  \n",
       "(2017-03-25 12:00:00, 2017-06-17]                                                 57268.0  \n",
       "(2019-07-08 12:00:00, 2019-09-30]                                                 33102.0  \n",
       "(2018-05-17, 2018-08-08 12:00:00]                                                 36758.0  \n",
       "(2017-06-17, 2017-09-08 12:00:00]                                                 25846.0  \n",
       "(2019-04-16, 2019-07-08 12:00:00]                                                 31227.0  \n",
       "(2016-12-31 23:59:59.999999999, 2017-03-25 12:0...                                13230.0  \n",
       "(2019-01-22 12:00:00, 2019-04-16]                                                 14906.0  \n",
       "(2017-12-01, 2018-02-22 12:00:00]                                                 10694.0  \n",
       "(2018-10-31, 2019-01-22 12:00:00]                                                 12445.0  \n",
       "(2018-08-08 12:00:00, 2018-10-31]                                                 11621.0  \n",
       "(2018-02-22 12:00:00, 2018-05-17]                                                 14229.0  \n",
       "(2017-09-08 12:00:00, 2017-12-01]                                                 14958.0  "
      ]
     },
     "execution_count": 13,
     "metadata": {},
     "output_type": "execute_result"
    }
   ],
   "source": [
    "df4.sort_values(by=['Departure delay (Minutes)'],ascending=False)"
   ]
  },
  {
   "cell_type": "code",
   "execution_count": 14,
   "metadata": {},
   "outputs": [],
   "source": [
    "y_axis=[]"
   ]
  },
  {
   "cell_type": "code",
   "execution_count": 15,
   "metadata": {},
   "outputs": [],
   "source": [
    "a=df1['Delay Carrier (Minutes)'].sum()\n",
    "b=df1['Delay Weather (Minutes)'].sum()\n",
    "c=df1['Delay National Aviation System (Minutes)'].sum()\n",
    "d=df1['Delay Security (Minutes)'].sum()\n",
    "e=df1['Delay Late Aircraft Arrival (Minutes)'].sum()\n",
    "x_axis=['Delay Carrier (Minutes)','Delay Weather (Minutes)','Delay National Aviation System (Minutes)','Delay Security (Minutes)','Delay Late Aircraft Arrival (Minutes)']\n",
    "y_axis=[a,b,c,d,e]"
   ]
  },
  {
   "cell_type": "code",
   "execution_count": 16,
   "metadata": {},
   "outputs": [
    {
     "data": {
      "image/png": "[encoded data removed]",
      "text/plain": [
       "<Figure size 1440x720 with 1 Axes>"
      ]
     },
     "metadata": {
      "needs_background": "light"
     },
     "output_type": "display_data"
    }
   ],
   "source": [
    "plt.figure(figsize=(20,10))\n",
    "plt.plot(x_axis,y_axis)\n",
    "\n",
    "plt.savefig(\"delay_reason.png\")"
   ]
  },
  {
   "cell_type": "markdown",
   "metadata": {},
   "source": [
    "Is there any relationship between delay carrier and delay weather?"
   ]
  },
  {
   "cell_type": "code",
   "execution_count": 17,
   "metadata": {},
   "outputs": [],
   "source": [
    "population1 = df1['Departure delay (Minutes)']"
   ]
  },
  {
   "cell_type": "code",
   "execution_count": 18,
   "metadata": {},
   "outputs": [],
   "source": [
    "population2 = df1['Delay Weather (Minutes)']"
   ]
  },
  {
   "cell_type": "code",
   "execution_count": 19,
   "metadata": {},
   "outputs": [
    {
     "data": {
      "text/plain": [
       "98047.0"
      ]
     },
     "execution_count": 19,
     "metadata": {},
     "output_type": "execute_result"
    }
   ],
   "source": [
    "df['Delay Weather (Minutes)'].sum()"
   ]
  },
  {
   "cell_type": "code",
   "execution_count": 20,
   "metadata": {},
   "outputs": [
    {
     "data": {
      "text/plain": [
       "Ttest_indResult(statistic=17.60930732416077, pvalue=1.119142378629864e-61)"
      ]
     },
     "execution_count": 20,
     "metadata": {},
     "output_type": "execute_result"
    }
   ],
   "source": [
    "stats.ttest_ind(population1, population2, equal_var=False)"
   ]
  },
  {
   "cell_type": "code",
   "execution_count": 21,
   "metadata": {},
   "outputs": [],
   "source": [
    "population3= df1['Delay Carrier (Minutes)']"
   ]
  },
  {
   "cell_type": "code",
   "execution_count": 22,
   "metadata": {},
   "outputs": [
    {
     "data": {
      "text/plain": [
       "440292.0"
      ]
     },
     "execution_count": 22,
     "metadata": {},
     "output_type": "execute_result"
    }
   ],
   "source": [
    "df1['Delay Carrier (Minutes)'].sum()"
   ]
  },
  {
   "cell_type": "code",
   "execution_count": 23,
   "metadata": {},
   "outputs": [
    {
     "data": {
      "text/plain": [
       "Ttest_indResult(statistic=11.785878372356672, pvalue=1.8207174499441065e-30)"
      ]
     },
     "execution_count": 23,
     "metadata": {},
     "output_type": "execute_result"
    }
   ],
   "source": [
    "stats.ttest_ind(population1, population3, equal_var=False)"
   ]
  },
  {
   "cell_type": "code",
   "execution_count": 24,
   "metadata": {},
   "outputs": [],
   "source": [
    "population4= df1['Delay National Aviation System (Minutes)']"
   ]
  },
  {
   "cell_type": "code",
   "execution_count": 25,
   "metadata": {},
   "outputs": [
    {
     "data": {
      "text/plain": [
       "475990.0"
      ]
     },
     "execution_count": 25,
     "metadata": {},
     "output_type": "execute_result"
    }
   ],
   "source": [
    "df['Delay National Aviation System (Minutes)'].sum()"
   ]
  },
  {
   "cell_type": "code",
   "execution_count": 26,
   "metadata": {},
   "outputs": [
    {
     "data": {
      "text/plain": [
       "Ttest_indResult(statistic=10.891913682690745, pvalue=1.501728387616626e-26)"
      ]
     },
     "execution_count": 26,
     "metadata": {},
     "output_type": "execute_result"
    }
   ],
   "source": [
    "stats.ttest_ind(population1, population4, equal_var=False)"
   ]
  },
  {
   "cell_type": "code",
   "execution_count": 27,
   "metadata": {},
   "outputs": [],
   "source": [
    "population5= df1['Delay Late Aircraft Arrival (Minutes)']"
   ]
  },
  {
   "cell_type": "code",
   "execution_count": 28,
   "metadata": {},
   "outputs": [
    {
     "data": {
      "text/plain": [
       "276284.0"
      ]
     },
     "execution_count": 28,
     "metadata": {},
     "output_type": "execute_result"
    }
   ],
   "source": [
    "df1['Delay Late Aircraft Arrival (Minutes)'].sum()"
   ]
  },
  {
   "cell_type": "code",
   "execution_count": 29,
   "metadata": {},
   "outputs": [
    {
     "data": {
      "text/plain": [
       "Ttest_indResult(statistic=14.650757922489378, pvalue=9.441776202940994e-45)"
      ]
     },
     "execution_count": 29,
     "metadata": {},
     "output_type": "execute_result"
    }
   ],
   "source": [
    "stats.ttest_ind(population1, population5, equal_var=False)"
   ]
  },
  {
   "cell_type": "code",
   "execution_count": 30,
   "metadata": {},
   "outputs": [
    {
     "data": {
      "text/plain": [
       "3170.0"
      ]
     },
     "execution_count": 30,
     "metadata": {},
     "output_type": "execute_result"
    }
   ],
   "source": [
    "df1['Delay Security (Minutes)'].sum()"
   ]
  },
  {
   "cell_type": "code",
   "execution_count": 31,
   "metadata": {},
   "outputs": [
    {
     "data": {
      "text/plain": [
       "F_onewayResult(statistic=73.33870564918412, pvalue=3.57211571437158e-46)"
      ]
     },
     "execution_count": 31,
     "metadata": {},
     "output_type": "execute_result"
    }
   ],
   "source": [
    "stats.f_oneway(population2,population3,population4,population5)"
   ]
  },
  {
   "cell_type": "code",
   "execution_count": 32,
   "metadata": {},
   "outputs": [
    {
     "data": {
      "text/plain": [
       "Date (MM/DD/YYYY)                           25874\n",
       "Destination Airport                         25874\n",
       "Departure delay (Minutes)                   25874\n",
       "Delay Carrier (Minutes)                     25874\n",
       "Delay Weather (Minutes)                     25874\n",
       "Delay National Aviation System (Minutes)    25874\n",
       "Delay Security (Minutes)                    25874\n",
       "Delay Late Aircraft Arrival (Minutes)       25874\n",
       "Date                                        25874\n",
       "dtype: int64"
      ]
     },
     "execution_count": 32,
     "metadata": {},
     "output_type": "execute_result"
    }
   ],
   "source": [
    "df.count()"
   ]
  },
  {
   "cell_type": "code",
   "execution_count": 33,
   "metadata": {},
   "outputs": [],
   "source": [
    "y=df['Departure delay (Minutes)']"
   ]
  },
  {
   "cell_type": "code",
   "execution_count": 34,
   "metadata": {},
   "outputs": [],
   "source": [
    "x=df['Delay Weather (Minutes)']"
   ]
  },
  {
   "cell_type": "code",
   "execution_count": 35,
   "metadata": {},
   "outputs": [],
   "source": [
    "(slope, intercept, _, _, _) = linregress(x, y)\n",
    "fit = slope * x + intercept"
   ]
  },
  {
   "cell_type": "code",
   "execution_count": 36,
   "metadata": {},
   "outputs": [
    {
     "data": {
      "image/png": "[encoded data removed]",
      "text/plain": [
       "<Figure size 432x288 with 1 Axes>"
      ]
     },
     "metadata": {
      "needs_background": "light"
     },
     "output_type": "display_data"
    }
   ],
   "source": [
    "fig, ax = plt.subplots()\n",
    "\n",
    "fig.suptitle(\"Weather delay vs Departure delay\", fontsize=16, fontweight=\"bold\")\n",
    "ax.set_xlim(0, 600)\n",
    "\n",
    "ax.set_xlabel(\"Weather Delay\")\n",
    "ax.set_ylabel(\"Departure Delay\")\n",
    "\n",
    "ax.plot(x, y, linewidth=0, marker='o')\n",
    "ax.plot(x, fit, 'b--')\n",
    "\n",
    "plt.show()"
   ]
  },
  {
   "cell_type": "code",
   "execution_count": 37,
   "metadata": {},
   "outputs": [
    {
     "data": {
      "text/plain": [
       "Ttest_indResult(statistic=-48.579830873023546, pvalue=0.0)"
      ]
     },
     "execution_count": 37,
     "metadata": {},
     "output_type": "execute_result"
    }
   ],
   "source": [
    "stats.ttest_ind(x, y, equal_var=False)"
   ]
  },
  {
   "cell_type": "code",
   "execution_count": 38,
   "metadata": {},
   "outputs": [],
   "source": [
    "x1=df['Delay Carrier (Minutes)']"
   ]
  },
  {
   "cell_type": "code",
   "execution_count": 39,
   "metadata": {},
   "outputs": [],
   "source": [
    "(slope, intercept, _, _, _) = linregress(x1, y)\n",
    "fit1 = slope * x1 + intercept"
   ]
  },
  {
   "cell_type": "code",
   "execution_count": 40,
   "metadata": {},
   "outputs": [
    {
     "data": {
      "image/png": "[encoded data removed]",
      "text/plain": [
       "<Figure size 432x288 with 1 Axes>"
      ]
     },
     "metadata": {
      "needs_background": "light"
     },
     "output_type": "display_data"
    }
   ],
   "source": [
    "fig, ax = plt.subplots()\n",
    "\n",
    "fig.suptitle(\"Carrier Delay vs Departure delay\", fontsize=16, fontweight=\"bold\")\n",
    "\n",
    "ax.set_xlim(0, 1000)\n",
    "\n",
    "ax.set_xlabel(\"Carrier Delay\")\n",
    "ax.set_ylabel(\"Departure Delay\")\n",
    "\n",
    "ax.plot(x1, y, linewidth=0, marker='o')\n",
    "ax.plot(x1, fit1, 'b--')\n",
    "\n",
    "plt.show()"
   ]
  },
  {
   "cell_type": "code",
   "execution_count": 41,
   "metadata": {},
   "outputs": [
    {
     "data": {
      "text/plain": [
       "Ttest_indResult(statistic=-30.229863784304808, pvalue=1.5412369920128566e-198)"
      ]
     },
     "execution_count": 41,
     "metadata": {},
     "output_type": "execute_result"
    }
   ],
   "source": [
    "stats.ttest_ind(x1, y, equal_var=False)"
   ]
  },
  {
   "cell_type": "code",
   "execution_count": 42,
   "metadata": {},
   "outputs": [],
   "source": [
    "x2=df['Delay National Aviation System (Minutes)']"
   ]
  },
  {
   "cell_type": "code",
   "execution_count": 43,
   "metadata": {},
   "outputs": [],
   "source": [
    "(slope, intercept, _, _, _) = linregress(x2, y)\n",
    "fit2 = slope * x2 + intercept"
   ]
  },
  {
   "cell_type": "code",
   "execution_count": 44,
   "metadata": {},
   "outputs": [
    {
     "data": {
      "image/png": "[encoded data removed]",
      "text/plain": [
       "<Figure size 432x288 with 1 Axes>"
      ]
     },
     "metadata": {
      "needs_background": "light"
     },
     "output_type": "display_data"
    }
   ],
   "source": [
    "fig, ax = plt.subplots()\n",
    "\n",
    "fig.suptitle(\"National aviation delay vs Departure delay\", fontsize=16, fontweight=\"bold\")\n",
    "\n",
    "ax.set_xlim(0, 400)\n",
    "ax.set_ylim(0, 400)\n",
    "\n",
    "ax.set_xlabel(\"National aviation Delay\")\n",
    "ax.set_ylabel(\"Departure Delay\")\n",
    "\n",
    "ax.plot(x2, y, linewidth=0, marker='o')\n",
    "ax.plot(x2, fit2, 'b--')\n",
    "\n",
    "plt.show()"
   ]
  },
  {
   "cell_type": "code",
   "execution_count": 45,
   "metadata": {},
   "outputs": [
    {
     "data": {
      "text/plain": [
       "Ttest_indResult(statistic=-29.593488374523908, pvalue=2.7838084540709896e-190)"
      ]
     },
     "execution_count": 45,
     "metadata": {},
     "output_type": "execute_result"
    }
   ],
   "source": [
    "stats.ttest_ind(x2, y, equal_var=False)"
   ]
  },
  {
   "cell_type": "code",
   "execution_count": 46,
   "metadata": {},
   "outputs": [],
   "source": [
    "x3=df['Delay Late Aircraft Arrival (Minutes)']"
   ]
  },
  {
   "cell_type": "code",
   "execution_count": 47,
   "metadata": {},
   "outputs": [],
   "source": [
    "(slope, intercept, _, _, _) = linregress(x3, y)\n",
    "fit3 = slope * x3 + intercept"
   ]
  },
  {
   "cell_type": "code",
   "execution_count": 48,
   "metadata": {},
   "outputs": [
    {
     "data": {
      "image/png": "[encoded data removed]",
      "text/plain": [
       "<Figure size 432x288 with 1 Axes>"
      ]
     },
     "metadata": {
      "needs_background": "light"
     },
     "output_type": "display_data"
    }
   ],
   "source": [
    "fig, ax = plt.subplots()\n",
    "\n",
    "fig.suptitle(\"Aircraft arrival delay vs Departure delay\", fontsize=16, fontweight=\"bold\")\n",
    "\n",
    "ax.set_xlim(0, 400)\n",
    "ax.set_ylim(0, 600)\n",
    "\n",
    "ax.set_xlabel(\"Late aircraft arrival Delay\")\n",
    "ax.set_ylabel(\"Departure Delay\")\n",
    "\n",
    "ax.plot(x3, y, linewidth=0, marker='o')\n",
    "ax.plot(x3, fit3, 'b--')\n",
    "\n",
    "plt.show()"
   ]
  },
  {
   "cell_type": "code",
   "execution_count": 49,
   "metadata": {},
   "outputs": [
    {
     "data": {
      "text/plain": [
       "Ttest_indResult(statistic=-40.38106101052028, pvalue=0.0)"
      ]
     },
     "execution_count": 49,
     "metadata": {},
     "output_type": "execute_result"
    }
   ],
   "source": [
    "stats.ttest_ind(x3, y, equal_var=False)"
   ]
  },
  {
   "cell_type": "code",
   "execution_count": 50,
   "metadata": {},
   "outputs": [],
   "source": [
    "x4=df['Delay Security (Minutes)']"
   ]
  },
  {
   "cell_type": "code",
   "execution_count": 51,
   "metadata": {},
   "outputs": [],
   "source": [
    "(slope, intercept, _, _, _) = linregress(x4, y)\n",
    "fit4 = slope * x4 + intercept"
   ]
  },
  {
   "cell_type": "code",
   "execution_count": 52,
   "metadata": {},
   "outputs": [
    {
     "data": {
      "image/png": "[encoded data removed]",
      "text/plain": [
       "<Figure size 432x288 with 1 Axes>"
      ]
     },
     "metadata": {
      "needs_background": "light"
     },
     "output_type": "display_data"
    }
   ],
   "source": [
    "fig, ax = plt.subplots()\n",
    "\n",
    "fig.suptitle(\"Security delay vs Departure delay\", fontsize=16, fontweight=\"bold\")\n",
    "\n",
    "ax.set_xlim(0, 100)\n",
    "\n",
    "ax.set_xlabel(\"Security Delay\")\n",
    "ax.set_ylabel(\"Departure Delay\")\n",
    "\n",
    "ax.plot(x4, y, linewidth=0, marker='o')\n",
    "ax.plot(x4, fit4, 'b--')\n",
    "\n",
    "plt.show()"
   ]
  },
  {
   "cell_type": "code",
   "execution_count": null,
   "metadata": {},
   "outputs": [],
   "source": []
  },
  {
   "cell_type": "code",
   "execution_count": null,
   "metadata": {},
   "outputs": [],
   "source": []
  },
  {
   "cell_type": "code",
   "execution_count": null,
   "metadata": {},
   "outputs": [],
   "source": []
  }
 ],
 "metadata": {
  "kernelspec": {
   "display_name": "Python 3",
   "language": "python",
   "name": "python3"
  },
  "language_info": {
   "codemirror_mode": {
    "name": "ipython",
    "version": 3
   },
   "file_extension": ".py",
   "mimetype": "text/x-python",
   "name": "python",
   "nbconvert_exporter": "python",
   "pygments_lexer": "ipython3",
   "version": "3.7.4"
  }
 },
 "nbformat": 4,
 "nbformat_minor": 2
}
