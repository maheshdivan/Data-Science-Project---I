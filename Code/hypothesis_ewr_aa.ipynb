{
 "cells": [
  {
   "cell_type": "code",
   "execution_count": 1,
   "metadata": {},
   "outputs": [],
   "source": [
    "import pandas as pd\n",
    "import scipy.stats as stats\n",
    "import matplotlib.pyplot as plt\n",
    "from scipy.stats import linregress"
   ]
  },
  {
   "cell_type": "code",
   "execution_count": 2,
   "metadata": {},
   "outputs": [],
   "source": [
    "df=pd.read_csv(\"EWR_AA.csv\")"
   ]
  },
  {
   "cell_type": "code",
   "execution_count": 3,
   "metadata": {},
   "outputs": [
    {
     "data": {
      "text/html": [
       "<div>\n",
       "<style scoped>\n",
       "    .dataframe tbody tr th:only-of-type {\n",
       "        vertical-align: middle;\n",
       "    }\n",
       "\n",
       "    .dataframe tbody tr th {\n",
       "        vertical-align: top;\n",
       "    }\n",
       "\n",
       "    .dataframe thead th {\n",
       "        text-align: right;\n",
       "    }\n",
       "</style>\n",
       "<table border=\"1\" class=\"dataframe\">\n",
       "  <thead>\n",
       "    <tr style=\"text-align: right;\">\n",
       "      <th></th>\n",
       "      <th>Carrier Code</th>\n",
       "      <th>Date (MM/DD/YYYY)</th>\n",
       "      <th>Destination Airport</th>\n",
       "      <th>Scheduled departure time</th>\n",
       "      <th>Actual departure time</th>\n",
       "      <th>Departure delay (Minutes)</th>\n",
       "      <th>Delay Carrier (Minutes)</th>\n",
       "      <th>Delay Weather (Minutes)</th>\n",
       "      <th>Delay National Aviation System (Minutes)</th>\n",
       "      <th>Delay Security (Minutes)</th>\n",
       "      <th>Delay Late Aircraft Arrival (Minutes)</th>\n",
       "    </tr>\n",
       "  </thead>\n",
       "  <tbody>\n",
       "    <tr>\n",
       "      <td>0</td>\n",
       "      <td>AA</td>\n",
       "      <td>01/01/2017</td>\n",
       "      <td>PHX</td>\n",
       "      <td>16:30</td>\n",
       "      <td>16:28</td>\n",
       "      <td>-2.0</td>\n",
       "      <td>0.0</td>\n",
       "      <td>0.0</td>\n",
       "      <td>0.0</td>\n",
       "      <td>0.0</td>\n",
       "      <td>0.0</td>\n",
       "    </tr>\n",
       "    <tr>\n",
       "      <td>1</td>\n",
       "      <td>AA</td>\n",
       "      <td>01/01/2017</td>\n",
       "      <td>MIA</td>\n",
       "      <td>08:00</td>\n",
       "      <td>07:55</td>\n",
       "      <td>-5.0</td>\n",
       "      <td>0.0</td>\n",
       "      <td>0.0</td>\n",
       "      <td>0.0</td>\n",
       "      <td>0.0</td>\n",
       "      <td>0.0</td>\n",
       "    </tr>\n",
       "    <tr>\n",
       "      <td>2</td>\n",
       "      <td>AA</td>\n",
       "      <td>01/01/2017</td>\n",
       "      <td>MIA</td>\n",
       "      <td>17:42</td>\n",
       "      <td>17:39</td>\n",
       "      <td>-3.0</td>\n",
       "      <td>0.0</td>\n",
       "      <td>0.0</td>\n",
       "      <td>0.0</td>\n",
       "      <td>0.0</td>\n",
       "      <td>0.0</td>\n",
       "    </tr>\n",
       "    <tr>\n",
       "      <td>3</td>\n",
       "      <td>AA</td>\n",
       "      <td>01/01/2017</td>\n",
       "      <td>PHX</td>\n",
       "      <td>13:10</td>\n",
       "      <td>13:04</td>\n",
       "      <td>-6.0</td>\n",
       "      <td>0.0</td>\n",
       "      <td>0.0</td>\n",
       "      <td>15.0</td>\n",
       "      <td>0.0</td>\n",
       "      <td>0.0</td>\n",
       "    </tr>\n",
       "    <tr>\n",
       "      <td>4</td>\n",
       "      <td>AA</td>\n",
       "      <td>01/01/2017</td>\n",
       "      <td>CLT</td>\n",
       "      <td>15:20</td>\n",
       "      <td>15:16</td>\n",
       "      <td>-4.0</td>\n",
       "      <td>0.0</td>\n",
       "      <td>0.0</td>\n",
       "      <td>0.0</td>\n",
       "      <td>0.0</td>\n",
       "      <td>0.0</td>\n",
       "    </tr>\n",
       "    <tr>\n",
       "      <td>...</td>\n",
       "      <td>...</td>\n",
       "      <td>...</td>\n",
       "      <td>...</td>\n",
       "      <td>...</td>\n",
       "      <td>...</td>\n",
       "      <td>...</td>\n",
       "      <td>...</td>\n",
       "      <td>...</td>\n",
       "      <td>...</td>\n",
       "      <td>...</td>\n",
       "      <td>...</td>\n",
       "    </tr>\n",
       "    <tr>\n",
       "      <td>20689</td>\n",
       "      <td>AA</td>\n",
       "      <td>12/31/2018</td>\n",
       "      <td>CLT</td>\n",
       "      <td>05:00</td>\n",
       "      <td>05:02</td>\n",
       "      <td>2.0</td>\n",
       "      <td>0.0</td>\n",
       "      <td>0.0</td>\n",
       "      <td>0.0</td>\n",
       "      <td>0.0</td>\n",
       "      <td>0.0</td>\n",
       "    </tr>\n",
       "    <tr>\n",
       "      <td>20690</td>\n",
       "      <td>AA</td>\n",
       "      <td>12/31/2018</td>\n",
       "      <td>PHX</td>\n",
       "      <td>09:59</td>\n",
       "      <td>09:57</td>\n",
       "      <td>-2.0</td>\n",
       "      <td>0.0</td>\n",
       "      <td>0.0</td>\n",
       "      <td>0.0</td>\n",
       "      <td>0.0</td>\n",
       "      <td>0.0</td>\n",
       "    </tr>\n",
       "    <tr>\n",
       "      <td>20691</td>\n",
       "      <td>AA</td>\n",
       "      <td>12/31/2018</td>\n",
       "      <td>ORD</td>\n",
       "      <td>07:01</td>\n",
       "      <td>06:56</td>\n",
       "      <td>-5.0</td>\n",
       "      <td>0.0</td>\n",
       "      <td>0.0</td>\n",
       "      <td>0.0</td>\n",
       "      <td>0.0</td>\n",
       "      <td>0.0</td>\n",
       "    </tr>\n",
       "    <tr>\n",
       "      <td>20692</td>\n",
       "      <td>AA</td>\n",
       "      <td>12/31/2018</td>\n",
       "      <td>CLT</td>\n",
       "      <td>13:09</td>\n",
       "      <td>13:07</td>\n",
       "      <td>-2.0</td>\n",
       "      <td>0.0</td>\n",
       "      <td>0.0</td>\n",
       "      <td>0.0</td>\n",
       "      <td>0.0</td>\n",
       "      <td>0.0</td>\n",
       "    </tr>\n",
       "    <tr>\n",
       "      <td>20693</td>\n",
       "      <td>AA</td>\n",
       "      <td>12/31/2018</td>\n",
       "      <td>DFW</td>\n",
       "      <td>06:30</td>\n",
       "      <td>06:22</td>\n",
       "      <td>-8.0</td>\n",
       "      <td>0.0</td>\n",
       "      <td>0.0</td>\n",
       "      <td>0.0</td>\n",
       "      <td>0.0</td>\n",
       "      <td>0.0</td>\n",
       "    </tr>\n",
       "  </tbody>\n",
       "</table>\n",
       "<p>20694 rows × 11 columns</p>\n",
       "</div>"
      ],
      "text/plain": [
       "      Carrier Code Date (MM/DD/YYYY) Destination Airport  \\\n",
       "0               AA        01/01/2017                 PHX   \n",
       "1               AA        01/01/2017                 MIA   \n",
       "2               AA        01/01/2017                 MIA   \n",
       "3               AA        01/01/2017                 PHX   \n",
       "4               AA        01/01/2017                 CLT   \n",
       "...            ...               ...                 ...   \n",
       "20689           AA        12/31/2018                 CLT   \n",
       "20690           AA        12/31/2018                 PHX   \n",
       "20691           AA        12/31/2018                 ORD   \n",
       "20692           AA        12/31/2018                 CLT   \n",
       "20693           AA        12/31/2018                 DFW   \n",
       "\n",
       "      Scheduled departure time Actual departure time  \\\n",
       "0                        16:30                 16:28   \n",
       "1                        08:00                 07:55   \n",
       "2                        17:42                 17:39   \n",
       "3                        13:10                 13:04   \n",
       "4                        15:20                 15:16   \n",
       "...                        ...                   ...   \n",
       "20689                    05:00                 05:02   \n",
       "20690                    09:59                 09:57   \n",
       "20691                    07:01                 06:56   \n",
       "20692                    13:09                 13:07   \n",
       "20693                    06:30                 06:22   \n",
       "\n",
       "       Departure delay (Minutes)  Delay Carrier (Minutes)  \\\n",
       "0                           -2.0                      0.0   \n",
       "1                           -5.0                      0.0   \n",
       "2                           -3.0                      0.0   \n",
       "3                           -6.0                      0.0   \n",
       "4                           -4.0                      0.0   \n",
       "...                          ...                      ...   \n",
       "20689                        2.0                      0.0   \n",
       "20690                       -2.0                      0.0   \n",
       "20691                       -5.0                      0.0   \n",
       "20692                       -2.0                      0.0   \n",
       "20693                       -8.0                      0.0   \n",
       "\n",
       "       Delay Weather (Minutes)  Delay National Aviation System (Minutes)  \\\n",
       "0                          0.0                                       0.0   \n",
       "1                          0.0                                       0.0   \n",
       "2                          0.0                                       0.0   \n",
       "3                          0.0                                      15.0   \n",
       "4                          0.0                                       0.0   \n",
       "...                        ...                                       ...   \n",
       "20689                      0.0                                       0.0   \n",
       "20690                      0.0                                       0.0   \n",
       "20691                      0.0                                       0.0   \n",
       "20692                      0.0                                       0.0   \n",
       "20693                      0.0                                       0.0   \n",
       "\n",
       "       Delay Security (Minutes)  Delay Late Aircraft Arrival (Minutes)  \n",
       "0                           0.0                                    0.0  \n",
       "1                           0.0                                    0.0  \n",
       "2                           0.0                                    0.0  \n",
       "3                           0.0                                    0.0  \n",
       "4                           0.0                                    0.0  \n",
       "...                         ...                                    ...  \n",
       "20689                       0.0                                    0.0  \n",
       "20690                       0.0                                    0.0  \n",
       "20691                       0.0                                    0.0  \n",
       "20692                       0.0                                    0.0  \n",
       "20693                       0.0                                    0.0  \n",
       "\n",
       "[20694 rows x 11 columns]"
      ]
     },
     "execution_count": 3,
     "metadata": {},
     "output_type": "execute_result"
    }
   ],
   "source": [
    "df"
   ]
  },
  {
   "cell_type": "code",
   "execution_count": 4,
   "metadata": {},
   "outputs": [],
   "source": [
    "df1=df.groupby(['Date (MM/DD/YYYY)'],as_index=False).sum()"
   ]
  },
  {
   "cell_type": "code",
   "execution_count": 5,
   "metadata": {},
   "outputs": [
    {
     "data": {
      "text/html": [
       "<div>\n",
       "<style scoped>\n",
       "    .dataframe tbody tr th:only-of-type {\n",
       "        vertical-align: middle;\n",
       "    }\n",
       "\n",
       "    .dataframe tbody tr th {\n",
       "        vertical-align: top;\n",
       "    }\n",
       "\n",
       "    .dataframe thead th {\n",
       "        text-align: right;\n",
       "    }\n",
       "</style>\n",
       "<table border=\"1\" class=\"dataframe\">\n",
       "  <thead>\n",
       "    <tr style=\"text-align: right;\">\n",
       "      <th></th>\n",
       "      <th>Date (MM/DD/YYYY)</th>\n",
       "      <th>Departure delay (Minutes)</th>\n",
       "      <th>Delay Carrier (Minutes)</th>\n",
       "      <th>Delay Weather (Minutes)</th>\n",
       "      <th>Delay National Aviation System (Minutes)</th>\n",
       "      <th>Delay Security (Minutes)</th>\n",
       "      <th>Delay Late Aircraft Arrival (Minutes)</th>\n",
       "    </tr>\n",
       "  </thead>\n",
       "  <tbody>\n",
       "    <tr>\n",
       "      <td>0</td>\n",
       "      <td>01/01/2017</td>\n",
       "      <td>312.0</td>\n",
       "      <td>252.0</td>\n",
       "      <td>0.0</td>\n",
       "      <td>15.0</td>\n",
       "      <td>0.0</td>\n",
       "      <td>0.0</td>\n",
       "    </tr>\n",
       "    <tr>\n",
       "      <td>1</td>\n",
       "      <td>01/01/2018</td>\n",
       "      <td>754.0</td>\n",
       "      <td>472.0</td>\n",
       "      <td>0.0</td>\n",
       "      <td>0.0</td>\n",
       "      <td>0.0</td>\n",
       "      <td>111.0</td>\n",
       "    </tr>\n",
       "    <tr>\n",
       "      <td>2</td>\n",
       "      <td>01/01/2019</td>\n",
       "      <td>80.0</td>\n",
       "      <td>41.0</td>\n",
       "      <td>0.0</td>\n",
       "      <td>147.0</td>\n",
       "      <td>0.0</td>\n",
       "      <td>105.0</td>\n",
       "    </tr>\n",
       "    <tr>\n",
       "      <td>3</td>\n",
       "      <td>01/02/2017</td>\n",
       "      <td>176.0</td>\n",
       "      <td>147.0</td>\n",
       "      <td>0.0</td>\n",
       "      <td>105.0</td>\n",
       "      <td>0.0</td>\n",
       "      <td>102.0</td>\n",
       "    </tr>\n",
       "    <tr>\n",
       "      <td>4</td>\n",
       "      <td>01/02/2018</td>\n",
       "      <td>718.0</td>\n",
       "      <td>2.0</td>\n",
       "      <td>0.0</td>\n",
       "      <td>21.0</td>\n",
       "      <td>0.0</td>\n",
       "      <td>617.0</td>\n",
       "    </tr>\n",
       "    <tr>\n",
       "      <td>...</td>\n",
       "      <td>...</td>\n",
       "      <td>...</td>\n",
       "      <td>...</td>\n",
       "      <td>...</td>\n",
       "      <td>...</td>\n",
       "      <td>...</td>\n",
       "      <td>...</td>\n",
       "    </tr>\n",
       "    <tr>\n",
       "      <td>95</td>\n",
       "      <td>02/01/2019</td>\n",
       "      <td>761.0</td>\n",
       "      <td>413.0</td>\n",
       "      <td>0.0</td>\n",
       "      <td>0.0</td>\n",
       "      <td>0.0</td>\n",
       "      <td>368.0</td>\n",
       "    </tr>\n",
       "    <tr>\n",
       "      <td>96</td>\n",
       "      <td>02/02/2017</td>\n",
       "      <td>-4.0</td>\n",
       "      <td>1.0</td>\n",
       "      <td>0.0</td>\n",
       "      <td>61.0</td>\n",
       "      <td>2.0</td>\n",
       "      <td>8.0</td>\n",
       "    </tr>\n",
       "    <tr>\n",
       "      <td>97</td>\n",
       "      <td>02/02/2018</td>\n",
       "      <td>201.0</td>\n",
       "      <td>90.0</td>\n",
       "      <td>0.0</td>\n",
       "      <td>112.0</td>\n",
       "      <td>0.0</td>\n",
       "      <td>168.0</td>\n",
       "    </tr>\n",
       "    <tr>\n",
       "      <td>98</td>\n",
       "      <td>02/02/2019</td>\n",
       "      <td>-65.0</td>\n",
       "      <td>0.0</td>\n",
       "      <td>0.0</td>\n",
       "      <td>0.0</td>\n",
       "      <td>0.0</td>\n",
       "      <td>0.0</td>\n",
       "    </tr>\n",
       "    <tr>\n",
       "      <td>99</td>\n",
       "      <td>02/03/2017</td>\n",
       "      <td>37.0</td>\n",
       "      <td>23.0</td>\n",
       "      <td>0.0</td>\n",
       "      <td>28.0</td>\n",
       "      <td>0.0</td>\n",
       "      <td>17.0</td>\n",
       "    </tr>\n",
       "  </tbody>\n",
       "</table>\n",
       "<p>100 rows × 7 columns</p>\n",
       "</div>"
      ],
      "text/plain": [
       "   Date (MM/DD/YYYY)  Departure delay (Minutes)  Delay Carrier (Minutes)  \\\n",
       "0         01/01/2017                      312.0                    252.0   \n",
       "1         01/01/2018                      754.0                    472.0   \n",
       "2         01/01/2019                       80.0                     41.0   \n",
       "3         01/02/2017                      176.0                    147.0   \n",
       "4         01/02/2018                      718.0                      2.0   \n",
       "..               ...                        ...                      ...   \n",
       "95        02/01/2019                      761.0                    413.0   \n",
       "96        02/02/2017                       -4.0                      1.0   \n",
       "97        02/02/2018                      201.0                     90.0   \n",
       "98        02/02/2019                      -65.0                      0.0   \n",
       "99        02/03/2017                       37.0                     23.0   \n",
       "\n",
       "    Delay Weather (Minutes)  Delay National Aviation System (Minutes)  \\\n",
       "0                       0.0                                      15.0   \n",
       "1                       0.0                                       0.0   \n",
       "2                       0.0                                     147.0   \n",
       "3                       0.0                                     105.0   \n",
       "4                       0.0                                      21.0   \n",
       "..                      ...                                       ...   \n",
       "95                      0.0                                       0.0   \n",
       "96                      0.0                                      61.0   \n",
       "97                      0.0                                     112.0   \n",
       "98                      0.0                                       0.0   \n",
       "99                      0.0                                      28.0   \n",
       "\n",
       "    Delay Security (Minutes)  Delay Late Aircraft Arrival (Minutes)  \n",
       "0                        0.0                                    0.0  \n",
       "1                        0.0                                  111.0  \n",
       "2                        0.0                                  105.0  \n",
       "3                        0.0                                  102.0  \n",
       "4                        0.0                                  617.0  \n",
       "..                       ...                                    ...  \n",
       "95                       0.0                                  368.0  \n",
       "96                       2.0                                    8.0  \n",
       "97                       0.0                                  168.0  \n",
       "98                       0.0                                    0.0  \n",
       "99                       0.0                                   17.0  \n",
       "\n",
       "[100 rows x 7 columns]"
      ]
     },
     "execution_count": 5,
     "metadata": {},
     "output_type": "execute_result"
    }
   ],
   "source": [
    "df1.head(100)"
   ]
  },
  {
   "cell_type": "code",
   "execution_count": 6,
   "metadata": {},
   "outputs": [],
   "source": [
    "df1['Date'] = pd.to_datetime(df1['Date (MM/DD/YYYY)'])"
   ]
  },
  {
   "cell_type": "code",
   "execution_count": 7,
   "metadata": {},
   "outputs": [],
   "source": [
    "df1=df1.drop(['Date (MM/DD/YYYY)'],axis=1)"
   ]
  },
  {
   "cell_type": "code",
   "execution_count": 8,
   "metadata": {},
   "outputs": [],
   "source": [
    "df2=df1.sort_values(by=['Date'],ascending=False)"
   ]
  },
  {
   "cell_type": "code",
   "execution_count": 9,
   "metadata": {},
   "outputs": [
    {
     "data": {
      "text/html": [
       "<div>\n",
       "<style scoped>\n",
       "    .dataframe tbody tr th:only-of-type {\n",
       "        vertical-align: middle;\n",
       "    }\n",
       "\n",
       "    .dataframe tbody tr th {\n",
       "        vertical-align: top;\n",
       "    }\n",
       "\n",
       "    .dataframe thead th {\n",
       "        text-align: right;\n",
       "    }\n",
       "</style>\n",
       "<table border=\"1\" class=\"dataframe\">\n",
       "  <thead>\n",
       "    <tr style=\"text-align: right;\">\n",
       "      <th></th>\n",
       "      <th>Departure delay (Minutes)</th>\n",
       "      <th>Delay Carrier (Minutes)</th>\n",
       "      <th>Delay Weather (Minutes)</th>\n",
       "      <th>Delay National Aviation System (Minutes)</th>\n",
       "      <th>Delay Security (Minutes)</th>\n",
       "      <th>Delay Late Aircraft Arrival (Minutes)</th>\n",
       "      <th>Date</th>\n",
       "    </tr>\n",
       "  </thead>\n",
       "  <tbody>\n",
       "    <tr>\n",
       "      <td>818</td>\n",
       "      <td>126.0</td>\n",
       "      <td>142.0</td>\n",
       "      <td>0.0</td>\n",
       "      <td>35.0</td>\n",
       "      <td>0.0</td>\n",
       "      <td>18.0</td>\n",
       "      <td>2019-09-30</td>\n",
       "    </tr>\n",
       "    <tr>\n",
       "      <td>815</td>\n",
       "      <td>-62.0</td>\n",
       "      <td>0.0</td>\n",
       "      <td>0.0</td>\n",
       "      <td>112.0</td>\n",
       "      <td>0.0</td>\n",
       "      <td>10.0</td>\n",
       "      <td>2019-09-29</td>\n",
       "    </tr>\n",
       "    <tr>\n",
       "      <td>812</td>\n",
       "      <td>17.0</td>\n",
       "      <td>34.0</td>\n",
       "      <td>0.0</td>\n",
       "      <td>2.0</td>\n",
       "      <td>0.0</td>\n",
       "      <td>19.0</td>\n",
       "      <td>2019-09-28</td>\n",
       "    </tr>\n",
       "    <tr>\n",
       "      <td>809</td>\n",
       "      <td>152.0</td>\n",
       "      <td>0.0</td>\n",
       "      <td>0.0</td>\n",
       "      <td>203.0</td>\n",
       "      <td>0.0</td>\n",
       "      <td>55.0</td>\n",
       "      <td>2019-09-27</td>\n",
       "    </tr>\n",
       "    <tr>\n",
       "      <td>806</td>\n",
       "      <td>493.0</td>\n",
       "      <td>405.0</td>\n",
       "      <td>0.0</td>\n",
       "      <td>69.0</td>\n",
       "      <td>0.0</td>\n",
       "      <td>35.0</td>\n",
       "      <td>2019-09-26</td>\n",
       "    </tr>\n",
       "    <tr>\n",
       "      <td>...</td>\n",
       "      <td>...</td>\n",
       "      <td>...</td>\n",
       "      <td>...</td>\n",
       "      <td>...</td>\n",
       "      <td>...</td>\n",
       "      <td>...</td>\n",
       "      <td>...</td>\n",
       "    </tr>\n",
       "    <tr>\n",
       "      <td>12</td>\n",
       "      <td>172.0</td>\n",
       "      <td>65.0</td>\n",
       "      <td>0.0</td>\n",
       "      <td>90.0</td>\n",
       "      <td>0.0</td>\n",
       "      <td>57.0</td>\n",
       "      <td>2017-01-05</td>\n",
       "    </tr>\n",
       "    <tr>\n",
       "      <td>9</td>\n",
       "      <td>320.0</td>\n",
       "      <td>146.0</td>\n",
       "      <td>0.0</td>\n",
       "      <td>28.0</td>\n",
       "      <td>0.0</td>\n",
       "      <td>165.0</td>\n",
       "      <td>2017-01-04</td>\n",
       "    </tr>\n",
       "    <tr>\n",
       "      <td>6</td>\n",
       "      <td>408.0</td>\n",
       "      <td>116.0</td>\n",
       "      <td>1.0</td>\n",
       "      <td>30.0</td>\n",
       "      <td>0.0</td>\n",
       "      <td>224.0</td>\n",
       "      <td>2017-01-03</td>\n",
       "    </tr>\n",
       "    <tr>\n",
       "      <td>3</td>\n",
       "      <td>176.0</td>\n",
       "      <td>147.0</td>\n",
       "      <td>0.0</td>\n",
       "      <td>105.0</td>\n",
       "      <td>0.0</td>\n",
       "      <td>102.0</td>\n",
       "      <td>2017-01-02</td>\n",
       "    </tr>\n",
       "    <tr>\n",
       "      <td>0</td>\n",
       "      <td>312.0</td>\n",
       "      <td>252.0</td>\n",
       "      <td>0.0</td>\n",
       "      <td>15.0</td>\n",
       "      <td>0.0</td>\n",
       "      <td>0.0</td>\n",
       "      <td>2017-01-01</td>\n",
       "    </tr>\n",
       "  </tbody>\n",
       "</table>\n",
       "<p>1003 rows × 7 columns</p>\n",
       "</div>"
      ],
      "text/plain": [
       "     Departure delay (Minutes)  Delay Carrier (Minutes)  \\\n",
       "818                      126.0                    142.0   \n",
       "815                      -62.0                      0.0   \n",
       "812                       17.0                     34.0   \n",
       "809                      152.0                      0.0   \n",
       "806                      493.0                    405.0   \n",
       "..                         ...                      ...   \n",
       "12                       172.0                     65.0   \n",
       "9                        320.0                    146.0   \n",
       "6                        408.0                    116.0   \n",
       "3                        176.0                    147.0   \n",
       "0                        312.0                    252.0   \n",
       "\n",
       "     Delay Weather (Minutes)  Delay National Aviation System (Minutes)  \\\n",
       "818                      0.0                                      35.0   \n",
       "815                      0.0                                     112.0   \n",
       "812                      0.0                                       2.0   \n",
       "809                      0.0                                     203.0   \n",
       "806                      0.0                                      69.0   \n",
       "..                       ...                                       ...   \n",
       "12                       0.0                                      90.0   \n",
       "9                        0.0                                      28.0   \n",
       "6                        1.0                                      30.0   \n",
       "3                        0.0                                     105.0   \n",
       "0                        0.0                                      15.0   \n",
       "\n",
       "     Delay Security (Minutes)  Delay Late Aircraft Arrival (Minutes)  \\\n",
       "818                       0.0                                   18.0   \n",
       "815                       0.0                                   10.0   \n",
       "812                       0.0                                   19.0   \n",
       "809                       0.0                                   55.0   \n",
       "806                       0.0                                   35.0   \n",
       "..                        ...                                    ...   \n",
       "12                        0.0                                   57.0   \n",
       "9                         0.0                                  165.0   \n",
       "6                         0.0                                  224.0   \n",
       "3                         0.0                                  102.0   \n",
       "0                         0.0                                    0.0   \n",
       "\n",
       "          Date  \n",
       "818 2019-09-30  \n",
       "815 2019-09-29  \n",
       "812 2019-09-28  \n",
       "809 2019-09-27  \n",
       "806 2019-09-26  \n",
       "..         ...  \n",
       "12  2017-01-05  \n",
       "9   2017-01-04  \n",
       "6   2017-01-03  \n",
       "3   2017-01-02  \n",
       "0   2017-01-01  \n",
       "\n",
       "[1003 rows x 7 columns]"
      ]
     },
     "execution_count": 9,
     "metadata": {},
     "output_type": "execute_result"
    }
   ],
   "source": [
    "df2"
   ]
  },
  {
   "cell_type": "code",
   "execution_count": 10,
   "metadata": {},
   "outputs": [],
   "source": [
    "df2['Half year']=pd.qcut(df2['Date'],q=12)"
   ]
  },
  {
   "cell_type": "code",
   "execution_count": 11,
   "metadata": {},
   "outputs": [],
   "source": [
    "df3=df2.groupby('Half year')"
   ]
  },
  {
   "cell_type": "code",
   "execution_count": 12,
   "metadata": {},
   "outputs": [],
   "source": [
    "df4=df3[['Departure delay (Minutes)','Delay Carrier (Minutes)','Delay Weather (Minutes)','Delay National Aviation System (Minutes)','Delay Security (Minutes)','Delay Late Aircraft Arrival (Minutes)']].sum()"
   ]
  },
  {
   "cell_type": "code",
   "execution_count": 13,
   "metadata": {},
   "outputs": [
    {
     "data": {
      "text/html": [
       "<div>\n",
       "<style scoped>\n",
       "    .dataframe tbody tr th:only-of-type {\n",
       "        vertical-align: middle;\n",
       "    }\n",
       "\n",
       "    .dataframe tbody tr th {\n",
       "        vertical-align: top;\n",
       "    }\n",
       "\n",
       "    .dataframe thead th {\n",
       "        text-align: right;\n",
       "    }\n",
       "</style>\n",
       "<table border=\"1\" class=\"dataframe\">\n",
       "  <thead>\n",
       "    <tr style=\"text-align: right;\">\n",
       "      <th></th>\n",
       "      <th>Departure delay (Minutes)</th>\n",
       "      <th>Delay Carrier (Minutes)</th>\n",
       "      <th>Delay Weather (Minutes)</th>\n",
       "      <th>Delay National Aviation System (Minutes)</th>\n",
       "      <th>Delay Security (Minutes)</th>\n",
       "      <th>Delay Late Aircraft Arrival (Minutes)</th>\n",
       "    </tr>\n",
       "    <tr>\n",
       "      <th>Half year</th>\n",
       "      <th></th>\n",
       "      <th></th>\n",
       "      <th></th>\n",
       "      <th></th>\n",
       "      <th></th>\n",
       "      <th></th>\n",
       "    </tr>\n",
       "  </thead>\n",
       "  <tbody>\n",
       "    <tr>\n",
       "      <td>(2018-05-17, 2018-08-08 12:00:00]</td>\n",
       "      <td>28005.0</td>\n",
       "      <td>6031.0</td>\n",
       "      <td>1439.0</td>\n",
       "      <td>6684.0</td>\n",
       "      <td>8.0</td>\n",
       "      <td>17601.0</td>\n",
       "    </tr>\n",
       "    <tr>\n",
       "      <td>(2019-07-08 12:00:00, 2019-09-30]</td>\n",
       "      <td>27536.0</td>\n",
       "      <td>5768.0</td>\n",
       "      <td>1607.0</td>\n",
       "      <td>9355.0</td>\n",
       "      <td>90.0</td>\n",
       "      <td>17492.0</td>\n",
       "    </tr>\n",
       "    <tr>\n",
       "      <td>(2019-04-16, 2019-07-08 12:00:00]</td>\n",
       "      <td>26296.0</td>\n",
       "      <td>3960.0</td>\n",
       "      <td>2476.0</td>\n",
       "      <td>9340.0</td>\n",
       "      <td>0.0</td>\n",
       "      <td>18361.0</td>\n",
       "    </tr>\n",
       "    <tr>\n",
       "      <td>(2017-06-17, 2017-09-08 12:00:00]</td>\n",
       "      <td>20634.0</td>\n",
       "      <td>4958.0</td>\n",
       "      <td>1891.0</td>\n",
       "      <td>8587.0</td>\n",
       "      <td>46.0</td>\n",
       "      <td>11861.0</td>\n",
       "    </tr>\n",
       "    <tr>\n",
       "      <td>(2017-03-25 12:00:00, 2017-06-17]</td>\n",
       "      <td>20216.0</td>\n",
       "      <td>4829.0</td>\n",
       "      <td>153.0</td>\n",
       "      <td>6761.0</td>\n",
       "      <td>11.0</td>\n",
       "      <td>14327.0</td>\n",
       "    </tr>\n",
       "    <tr>\n",
       "      <td>(2018-02-22 12:00:00, 2018-05-17]</td>\n",
       "      <td>17333.0</td>\n",
       "      <td>4816.0</td>\n",
       "      <td>1698.0</td>\n",
       "      <td>4425.0</td>\n",
       "      <td>0.0</td>\n",
       "      <td>10630.0</td>\n",
       "    </tr>\n",
       "    <tr>\n",
       "      <td>(2016-12-31 23:59:59.999999999, 2017-03-25 12:00:00]</td>\n",
       "      <td>16594.0</td>\n",
       "      <td>5728.0</td>\n",
       "      <td>879.0</td>\n",
       "      <td>3432.0</td>\n",
       "      <td>2.0</td>\n",
       "      <td>8766.0</td>\n",
       "    </tr>\n",
       "    <tr>\n",
       "      <td>(2019-01-22 12:00:00, 2019-04-16]</td>\n",
       "      <td>14766.0</td>\n",
       "      <td>6313.0</td>\n",
       "      <td>913.0</td>\n",
       "      <td>6611.0</td>\n",
       "      <td>41.0</td>\n",
       "      <td>9032.0</td>\n",
       "    </tr>\n",
       "    <tr>\n",
       "      <td>(2018-08-08 12:00:00, 2018-10-31]</td>\n",
       "      <td>12833.0</td>\n",
       "      <td>3549.0</td>\n",
       "      <td>1319.0</td>\n",
       "      <td>5796.0</td>\n",
       "      <td>0.0</td>\n",
       "      <td>9994.0</td>\n",
       "    </tr>\n",
       "    <tr>\n",
       "      <td>(2017-12-01, 2018-02-22 12:00:00]</td>\n",
       "      <td>12352.0</td>\n",
       "      <td>3220.0</td>\n",
       "      <td>207.0</td>\n",
       "      <td>4216.0</td>\n",
       "      <td>8.0</td>\n",
       "      <td>8560.0</td>\n",
       "    </tr>\n",
       "    <tr>\n",
       "      <td>(2018-10-31, 2019-01-22 12:00:00]</td>\n",
       "      <td>10495.0</td>\n",
       "      <td>3817.0</td>\n",
       "      <td>852.0</td>\n",
       "      <td>3950.0</td>\n",
       "      <td>25.0</td>\n",
       "      <td>7756.0</td>\n",
       "    </tr>\n",
       "    <tr>\n",
       "      <td>(2017-09-08 12:00:00, 2017-12-01]</td>\n",
       "      <td>5782.0</td>\n",
       "      <td>1685.0</td>\n",
       "      <td>59.0</td>\n",
       "      <td>3056.0</td>\n",
       "      <td>102.0</td>\n",
       "      <td>6290.0</td>\n",
       "    </tr>\n",
       "  </tbody>\n",
       "</table>\n",
       "</div>"
      ],
      "text/plain": [
       "                                                    Departure delay (Minutes)  \\\n",
       "Half year                                                                       \n",
       "(2018-05-17, 2018-08-08 12:00:00]                                     28005.0   \n",
       "(2019-07-08 12:00:00, 2019-09-30]                                     27536.0   \n",
       "(2019-04-16, 2019-07-08 12:00:00]                                     26296.0   \n",
       "(2017-06-17, 2017-09-08 12:00:00]                                     20634.0   \n",
       "(2017-03-25 12:00:00, 2017-06-17]                                     20216.0   \n",
       "(2018-02-22 12:00:00, 2018-05-17]                                     17333.0   \n",
       "(2016-12-31 23:59:59.999999999, 2017-03-25 12:0...                    16594.0   \n",
       "(2019-01-22 12:00:00, 2019-04-16]                                     14766.0   \n",
       "(2018-08-08 12:00:00, 2018-10-31]                                     12833.0   \n",
       "(2017-12-01, 2018-02-22 12:00:00]                                     12352.0   \n",
       "(2018-10-31, 2019-01-22 12:00:00]                                     10495.0   \n",
       "(2017-09-08 12:00:00, 2017-12-01]                                      5782.0   \n",
       "\n",
       "                                                    Delay Carrier (Minutes)  \\\n",
       "Half year                                                                     \n",
       "(2018-05-17, 2018-08-08 12:00:00]                                    6031.0   \n",
       "(2019-07-08 12:00:00, 2019-09-30]                                    5768.0   \n",
       "(2019-04-16, 2019-07-08 12:00:00]                                    3960.0   \n",
       "(2017-06-17, 2017-09-08 12:00:00]                                    4958.0   \n",
       "(2017-03-25 12:00:00, 2017-06-17]                                    4829.0   \n",
       "(2018-02-22 12:00:00, 2018-05-17]                                    4816.0   \n",
       "(2016-12-31 23:59:59.999999999, 2017-03-25 12:0...                   5728.0   \n",
       "(2019-01-22 12:00:00, 2019-04-16]                                    6313.0   \n",
       "(2018-08-08 12:00:00, 2018-10-31]                                    3549.0   \n",
       "(2017-12-01, 2018-02-22 12:00:00]                                    3220.0   \n",
       "(2018-10-31, 2019-01-22 12:00:00]                                    3817.0   \n",
       "(2017-09-08 12:00:00, 2017-12-01]                                    1685.0   \n",
       "\n",
       "                                                    Delay Weather (Minutes)  \\\n",
       "Half year                                                                     \n",
       "(2018-05-17, 2018-08-08 12:00:00]                                    1439.0   \n",
       "(2019-07-08 12:00:00, 2019-09-30]                                    1607.0   \n",
       "(2019-04-16, 2019-07-08 12:00:00]                                    2476.0   \n",
       "(2017-06-17, 2017-09-08 12:00:00]                                    1891.0   \n",
       "(2017-03-25 12:00:00, 2017-06-17]                                     153.0   \n",
       "(2018-02-22 12:00:00, 2018-05-17]                                    1698.0   \n",
       "(2016-12-31 23:59:59.999999999, 2017-03-25 12:0...                    879.0   \n",
       "(2019-01-22 12:00:00, 2019-04-16]                                     913.0   \n",
       "(2018-08-08 12:00:00, 2018-10-31]                                    1319.0   \n",
       "(2017-12-01, 2018-02-22 12:00:00]                                     207.0   \n",
       "(2018-10-31, 2019-01-22 12:00:00]                                     852.0   \n",
       "(2017-09-08 12:00:00, 2017-12-01]                                      59.0   \n",
       "\n",
       "                                                    Delay National Aviation System (Minutes)  \\\n",
       "Half year                                                                                      \n",
       "(2018-05-17, 2018-08-08 12:00:00]                                                     6684.0   \n",
       "(2019-07-08 12:00:00, 2019-09-30]                                                     9355.0   \n",
       "(2019-04-16, 2019-07-08 12:00:00]                                                     9340.0   \n",
       "(2017-06-17, 2017-09-08 12:00:00]                                                     8587.0   \n",
       "(2017-03-25 12:00:00, 2017-06-17]                                                     6761.0   \n",
       "(2018-02-22 12:00:00, 2018-05-17]                                                     4425.0   \n",
       "(2016-12-31 23:59:59.999999999, 2017-03-25 12:0...                                    3432.0   \n",
       "(2019-01-22 12:00:00, 2019-04-16]                                                     6611.0   \n",
       "(2018-08-08 12:00:00, 2018-10-31]                                                     5796.0   \n",
       "(2017-12-01, 2018-02-22 12:00:00]                                                     4216.0   \n",
       "(2018-10-31, 2019-01-22 12:00:00]                                                     3950.0   \n",
       "(2017-09-08 12:00:00, 2017-12-01]                                                     3056.0   \n",
       "\n",
       "                                                    Delay Security (Minutes)  \\\n",
       "Half year                                                                      \n",
       "(2018-05-17, 2018-08-08 12:00:00]                                        8.0   \n",
       "(2019-07-08 12:00:00, 2019-09-30]                                       90.0   \n",
       "(2019-04-16, 2019-07-08 12:00:00]                                        0.0   \n",
       "(2017-06-17, 2017-09-08 12:00:00]                                       46.0   \n",
       "(2017-03-25 12:00:00, 2017-06-17]                                       11.0   \n",
       "(2018-02-22 12:00:00, 2018-05-17]                                        0.0   \n",
       "(2016-12-31 23:59:59.999999999, 2017-03-25 12:0...                       2.0   \n",
       "(2019-01-22 12:00:00, 2019-04-16]                                       41.0   \n",
       "(2018-08-08 12:00:00, 2018-10-31]                                        0.0   \n",
       "(2017-12-01, 2018-02-22 12:00:00]                                        8.0   \n",
       "(2018-10-31, 2019-01-22 12:00:00]                                       25.0   \n",
       "(2017-09-08 12:00:00, 2017-12-01]                                      102.0   \n",
       "\n",
       "                                                    Delay Late Aircraft Arrival (Minutes)  \n",
       "Half year                                                                                  \n",
       "(2018-05-17, 2018-08-08 12:00:00]                                                 17601.0  \n",
       "(2019-07-08 12:00:00, 2019-09-30]                                                 17492.0  \n",
       "(2019-04-16, 2019-07-08 12:00:00]                                                 18361.0  \n",
       "(2017-06-17, 2017-09-08 12:00:00]                                                 11861.0  \n",
       "(2017-03-25 12:00:00, 2017-06-17]                                                 14327.0  \n",
       "(2018-02-22 12:00:00, 2018-05-17]                                                 10630.0  \n",
       "(2016-12-31 23:59:59.999999999, 2017-03-25 12:0...                                 8766.0  \n",
       "(2019-01-22 12:00:00, 2019-04-16]                                                  9032.0  \n",
       "(2018-08-08 12:00:00, 2018-10-31]                                                  9994.0  \n",
       "(2017-12-01, 2018-02-22 12:00:00]                                                  8560.0  \n",
       "(2018-10-31, 2019-01-22 12:00:00]                                                  7756.0  \n",
       "(2017-09-08 12:00:00, 2017-12-01]                                                  6290.0  "
      ]
     },
     "execution_count": 13,
     "metadata": {},
     "output_type": "execute_result"
    }
   ],
   "source": [
    "df4.sort_values(by=['Departure delay (Minutes)'],ascending=False)"
   ]
  },
  {
   "cell_type": "code",
   "execution_count": 14,
   "metadata": {},
   "outputs": [],
   "source": [
    "y_axis=[]"
   ]
  },
  {
   "cell_type": "code",
   "execution_count": 15,
   "metadata": {},
   "outputs": [],
   "source": [
    "a=df1['Delay Carrier (Minutes)'].sum()\n",
    "b=df1['Delay Weather (Minutes)'].sum()\n",
    "c=df1['Delay National Aviation System (Minutes)'].sum()\n",
    "d=df1['Delay Security (Minutes)'].sum()\n",
    "e=df1['Delay Late Aircraft Arrival (Minutes)'].sum()\n",
    "x_axis=['Delay Carrier (Minutes)','Delay Weather (Minutes)','Delay National Aviation System (Minutes)','Delay Security (Minutes)','Delay Late Aircraft Arrival (Minutes)']\n",
    "y_axis=[a,b,c,d,e]"
   ]
  },
  {
   "cell_type": "code",
   "execution_count": 16,
   "metadata": {},
   "outputs": [
    {
     "data": {
      "image/png": "[encoded data removed]",
      "text/plain": [
       "<Figure size 1440x720 with 1 Axes>"
      ]
     },
     "metadata": {
      "needs_background": "light"
     },
     "output_type": "display_data"
    }
   ],
   "source": [
    "plt.figure(figsize=(20,10))\n",
    "plt.plot(x_axis,y_axis)\n",
    "\n",
    "plt.savefig(\"delay_reason.png\")"
   ]
  },
  {
   "cell_type": "markdown",
   "metadata": {},
   "source": [
    "Is there any relationship between delay carrier and delay weather?"
   ]
  },
  {
   "cell_type": "code",
   "execution_count": 17,
   "metadata": {},
   "outputs": [],
   "source": [
    "population1 = df1['Departure delay (Minutes)']"
   ]
  },
  {
   "cell_type": "code",
   "execution_count": 18,
   "metadata": {},
   "outputs": [],
   "source": [
    "population2 = df1['Delay Weather (Minutes)']"
   ]
  },
  {
   "cell_type": "code",
   "execution_count": 19,
   "metadata": {},
   "outputs": [
    {
     "data": {
      "text/plain": [
       "13493.0"
      ]
     },
     "execution_count": 19,
     "metadata": {},
     "output_type": "execute_result"
    }
   ],
   "source": [
    "df['Delay Weather (Minutes)'].sum()"
   ]
  },
  {
   "cell_type": "code",
   "execution_count": 20,
   "metadata": {},
   "outputs": [
    {
     "data": {
      "text/plain": [
       "Ttest_indResult(statistic=18.99610252180021, pvalue=8.608817966532434e-70)"
      ]
     },
     "execution_count": 20,
     "metadata": {},
     "output_type": "execute_result"
    }
   ],
   "source": [
    "stats.ttest_ind(population1, population2, equal_var=False)"
   ]
  },
  {
   "cell_type": "code",
   "execution_count": 21,
   "metadata": {},
   "outputs": [],
   "source": [
    "population3= df1['Delay Carrier (Minutes)']"
   ]
  },
  {
   "cell_type": "code",
   "execution_count": 22,
   "metadata": {},
   "outputs": [
    {
     "data": {
      "text/plain": [
       "54674.0"
      ]
     },
     "execution_count": 22,
     "metadata": {},
     "output_type": "execute_result"
    }
   ],
   "source": [
    "df1['Delay Carrier (Minutes)'].sum()"
   ]
  },
  {
   "cell_type": "code",
   "execution_count": 23,
   "metadata": {},
   "outputs": [
    {
     "data": {
      "text/plain": [
       "Ttest_indResult(statistic=14.692010009284934, pvalue=4.466037487937843e-45)"
      ]
     },
     "execution_count": 23,
     "metadata": {},
     "output_type": "execute_result"
    }
   ],
   "source": [
    "stats.ttest_ind(population1, population3, equal_var=False)"
   ]
  },
  {
   "cell_type": "code",
   "execution_count": 24,
   "metadata": {},
   "outputs": [],
   "source": [
    "population4= df1['Delay National Aviation System (Minutes)']"
   ]
  },
  {
   "cell_type": "code",
   "execution_count": 25,
   "metadata": {},
   "outputs": [
    {
     "data": {
      "text/plain": [
       "72213.0"
      ]
     },
     "execution_count": 25,
     "metadata": {},
     "output_type": "execute_result"
    }
   ],
   "source": [
    "df['Delay National Aviation System (Minutes)'].sum()"
   ]
  },
  {
   "cell_type": "code",
   "execution_count": 26,
   "metadata": {},
   "outputs": [
    {
     "data": {
      "text/plain": [
       "Ttest_indResult(statistic=13.010062859806368, pvalue=2.4489747572877326e-36)"
      ]
     },
     "execution_count": 26,
     "metadata": {},
     "output_type": "execute_result"
    }
   ],
   "source": [
    "stats.ttest_ind(population1, population4, equal_var=False)"
   ]
  },
  {
   "cell_type": "code",
   "execution_count": 27,
   "metadata": {},
   "outputs": [],
   "source": [
    "population5= df1['Delay Late Aircraft Arrival (Minutes)']"
   ]
  },
  {
   "cell_type": "code",
   "execution_count": 28,
   "metadata": {},
   "outputs": [
    {
     "data": {
      "text/plain": [
       "140670.0"
      ]
     },
     "execution_count": 28,
     "metadata": {},
     "output_type": "execute_result"
    }
   ],
   "source": [
    "df1['Delay Late Aircraft Arrival (Minutes)'].sum()"
   ]
  },
  {
   "cell_type": "code",
   "execution_count": 29,
   "metadata": {},
   "outputs": [
    {
     "data": {
      "text/plain": [
       "Ttest_indResult(statistic=5.9677594097942555, pvalue=2.926767283997928e-09)"
      ]
     },
     "execution_count": 29,
     "metadata": {},
     "output_type": "execute_result"
    }
   ],
   "source": [
    "stats.ttest_ind(population1, population5, equal_var=False)"
   ]
  },
  {
   "cell_type": "code",
   "execution_count": 30,
   "metadata": {},
   "outputs": [
    {
     "data": {
      "text/plain": [
       "333.0"
      ]
     },
     "execution_count": 30,
     "metadata": {},
     "output_type": "execute_result"
    }
   ],
   "source": [
    "df1['Delay Security (Minutes)'].sum()"
   ]
  },
  {
   "cell_type": "code",
   "execution_count": 31,
   "metadata": {},
   "outputs": [
    {
     "data": {
      "text/plain": [
       "F_onewayResult(statistic=163.49374771823963, pvalue=5.574304295313044e-100)"
      ]
     },
     "execution_count": 31,
     "metadata": {},
     "output_type": "execute_result"
    }
   ],
   "source": [
    "stats.f_oneway(population2,population3,population4,population5)"
   ]
  },
  {
   "cell_type": "code",
   "execution_count": 84,
   "metadata": {},
   "outputs": [
    {
     "data": {
      "text/plain": [
       "Carrier Code                                20694\n",
       "Date (MM/DD/YYYY)                           20694\n",
       "Destination Airport                         20694\n",
       "Scheduled departure time                    20694\n",
       "Actual departure time                       20694\n",
       "Departure delay (Minutes)                   20694\n",
       "Delay Carrier (Minutes)                     20694\n",
       "Delay Weather (Minutes)                     20694\n",
       "Delay National Aviation System (Minutes)    20694\n",
       "Delay Security (Minutes)                    20694\n",
       "Delay Late Aircraft Arrival (Minutes)       20694\n",
       "dtype: int64"
      ]
     },
     "execution_count": 84,
     "metadata": {},
     "output_type": "execute_result"
    }
   ],
   "source": [
    "df.count()"
   ]
  },
  {
   "cell_type": "code",
   "execution_count": 53,
   "metadata": {},
   "outputs": [],
   "source": [
    "df_1 = df[df['Departure delay (Minutes)'] >0]"
   ]
  },
  {
   "cell_type": "code",
   "execution_count": 83,
   "metadata": {},
   "outputs": [
    {
     "data": {
      "text/html": [
       "<div>\n",
       "<style scoped>\n",
       "    .dataframe tbody tr th:only-of-type {\n",
       "        vertical-align: middle;\n",
       "    }\n",
       "\n",
       "    .dataframe tbody tr th {\n",
       "        vertical-align: top;\n",
       "    }\n",
       "\n",
       "    .dataframe thead th {\n",
       "        text-align: right;\n",
       "    }\n",
       "</style>\n",
       "<table border=\"1\" class=\"dataframe\">\n",
       "  <thead>\n",
       "    <tr style=\"text-align: right;\">\n",
       "      <th></th>\n",
       "      <th>Carrier Code</th>\n",
       "      <th>Date (MM/DD/YYYY)</th>\n",
       "      <th>Destination Airport</th>\n",
       "      <th>Scheduled departure time</th>\n",
       "      <th>Actual departure time</th>\n",
       "      <th>Departure delay (Minutes)</th>\n",
       "      <th>Delay Carrier (Minutes)</th>\n",
       "      <th>Delay Weather (Minutes)</th>\n",
       "      <th>Delay National Aviation System (Minutes)</th>\n",
       "      <th>Delay Security (Minutes)</th>\n",
       "      <th>Delay Late Aircraft Arrival (Minutes)</th>\n",
       "    </tr>\n",
       "  </thead>\n",
       "  <tbody>\n",
       "    <tr>\n",
       "      <td>5</td>\n",
       "      <td>AA</td>\n",
       "      <td>01/01/2017</td>\n",
       "      <td>DFW</td>\n",
       "      <td>09:15</td>\n",
       "      <td>10:25</td>\n",
       "      <td>70.0</td>\n",
       "      <td>47.0</td>\n",
       "      <td>0.0</td>\n",
       "      <td>0.0</td>\n",
       "      <td>0.0</td>\n",
       "      <td>0.0</td>\n",
       "    </tr>\n",
       "    <tr>\n",
       "      <td>6</td>\n",
       "      <td>AA</td>\n",
       "      <td>01/01/2017</td>\n",
       "      <td>CLT</td>\n",
       "      <td>11:25</td>\n",
       "      <td>12:40</td>\n",
       "      <td>75.0</td>\n",
       "      <td>56.0</td>\n",
       "      <td>0.0</td>\n",
       "      <td>0.0</td>\n",
       "      <td>0.0</td>\n",
       "      <td>0.0</td>\n",
       "    </tr>\n",
       "    <tr>\n",
       "      <td>7</td>\n",
       "      <td>AA</td>\n",
       "      <td>01/01/2017</td>\n",
       "      <td>CLT</td>\n",
       "      <td>17:11</td>\n",
       "      <td>17:31</td>\n",
       "      <td>20.0</td>\n",
       "      <td>0.0</td>\n",
       "      <td>0.0</td>\n",
       "      <td>0.0</td>\n",
       "      <td>0.0</td>\n",
       "      <td>0.0</td>\n",
       "    </tr>\n",
       "    <tr>\n",
       "      <td>13</td>\n",
       "      <td>AA</td>\n",
       "      <td>01/01/2017</td>\n",
       "      <td>ORD</td>\n",
       "      <td>17:20</td>\n",
       "      <td>17:38</td>\n",
       "      <td>18.0</td>\n",
       "      <td>0.0</td>\n",
       "      <td>0.0</td>\n",
       "      <td>0.0</td>\n",
       "      <td>0.0</td>\n",
       "      <td>0.0</td>\n",
       "    </tr>\n",
       "    <tr>\n",
       "      <td>15</td>\n",
       "      <td>AA</td>\n",
       "      <td>01/01/2017</td>\n",
       "      <td>CLT</td>\n",
       "      <td>10:05</td>\n",
       "      <td>10:49</td>\n",
       "      <td>44.0</td>\n",
       "      <td>33.0</td>\n",
       "      <td>0.0</td>\n",
       "      <td>0.0</td>\n",
       "      <td>0.0</td>\n",
       "      <td>0.0</td>\n",
       "    </tr>\n",
       "    <tr>\n",
       "      <td>...</td>\n",
       "      <td>...</td>\n",
       "      <td>...</td>\n",
       "      <td>...</td>\n",
       "      <td>...</td>\n",
       "      <td>...</td>\n",
       "      <td>...</td>\n",
       "      <td>...</td>\n",
       "      <td>...</td>\n",
       "      <td>...</td>\n",
       "      <td>...</td>\n",
       "      <td>...</td>\n",
       "    </tr>\n",
       "    <tr>\n",
       "      <td>20662</td>\n",
       "      <td>AA</td>\n",
       "      <td>12/31/2017</td>\n",
       "      <td>PHX</td>\n",
       "      <td>16:20</td>\n",
       "      <td>17:48</td>\n",
       "      <td>88.0</td>\n",
       "      <td>8.0</td>\n",
       "      <td>0.0</td>\n",
       "      <td>0.0</td>\n",
       "      <td>0.0</td>\n",
       "      <td>64.0</td>\n",
       "    </tr>\n",
       "    <tr>\n",
       "      <td>20663</td>\n",
       "      <td>AA</td>\n",
       "      <td>12/31/2017</td>\n",
       "      <td>DFW</td>\n",
       "      <td>12:40</td>\n",
       "      <td>12:41</td>\n",
       "      <td>1.0</td>\n",
       "      <td>0.0</td>\n",
       "      <td>0.0</td>\n",
       "      <td>0.0</td>\n",
       "      <td>0.0</td>\n",
       "      <td>0.0</td>\n",
       "    </tr>\n",
       "    <tr>\n",
       "      <td>20666</td>\n",
       "      <td>AA</td>\n",
       "      <td>12/31/2017</td>\n",
       "      <td>CLT</td>\n",
       "      <td>17:03</td>\n",
       "      <td>18:16</td>\n",
       "      <td>73.0</td>\n",
       "      <td>0.0</td>\n",
       "      <td>0.0</td>\n",
       "      <td>62.0</td>\n",
       "      <td>0.0</td>\n",
       "      <td>0.0</td>\n",
       "    </tr>\n",
       "    <tr>\n",
       "      <td>20681</td>\n",
       "      <td>AA</td>\n",
       "      <td>12/31/2018</td>\n",
       "      <td>DFW</td>\n",
       "      <td>05:01</td>\n",
       "      <td>05:05</td>\n",
       "      <td>4.0</td>\n",
       "      <td>0.0</td>\n",
       "      <td>0.0</td>\n",
       "      <td>0.0</td>\n",
       "      <td>0.0</td>\n",
       "      <td>0.0</td>\n",
       "    </tr>\n",
       "    <tr>\n",
       "      <td>20689</td>\n",
       "      <td>AA</td>\n",
       "      <td>12/31/2018</td>\n",
       "      <td>CLT</td>\n",
       "      <td>05:00</td>\n",
       "      <td>05:02</td>\n",
       "      <td>2.0</td>\n",
       "      <td>0.0</td>\n",
       "      <td>0.0</td>\n",
       "      <td>0.0</td>\n",
       "      <td>0.0</td>\n",
       "      <td>0.0</td>\n",
       "    </tr>\n",
       "  </tbody>\n",
       "</table>\n",
       "<p>5924 rows × 11 columns</p>\n",
       "</div>"
      ],
      "text/plain": [
       "      Carrier Code Date (MM/DD/YYYY) Destination Airport  \\\n",
       "5               AA        01/01/2017                 DFW   \n",
       "6               AA        01/01/2017                 CLT   \n",
       "7               AA        01/01/2017                 CLT   \n",
       "13              AA        01/01/2017                 ORD   \n",
       "15              AA        01/01/2017                 CLT   \n",
       "...            ...               ...                 ...   \n",
       "20662           AA        12/31/2017                 PHX   \n",
       "20663           AA        12/31/2017                 DFW   \n",
       "20666           AA        12/31/2017                 CLT   \n",
       "20681           AA        12/31/2018                 DFW   \n",
       "20689           AA        12/31/2018                 CLT   \n",
       "\n",
       "      Scheduled departure time Actual departure time  \\\n",
       "5                        09:15                 10:25   \n",
       "6                        11:25                 12:40   \n",
       "7                        17:11                 17:31   \n",
       "13                       17:20                 17:38   \n",
       "15                       10:05                 10:49   \n",
       "...                        ...                   ...   \n",
       "20662                    16:20                 17:48   \n",
       "20663                    12:40                 12:41   \n",
       "20666                    17:03                 18:16   \n",
       "20681                    05:01                 05:05   \n",
       "20689                    05:00                 05:02   \n",
       "\n",
       "       Departure delay (Minutes)  Delay Carrier (Minutes)  \\\n",
       "5                           70.0                     47.0   \n",
       "6                           75.0                     56.0   \n",
       "7                           20.0                      0.0   \n",
       "13                          18.0                      0.0   \n",
       "15                          44.0                     33.0   \n",
       "...                          ...                      ...   \n",
       "20662                       88.0                      8.0   \n",
       "20663                        1.0                      0.0   \n",
       "20666                       73.0                      0.0   \n",
       "20681                        4.0                      0.0   \n",
       "20689                        2.0                      0.0   \n",
       "\n",
       "       Delay Weather (Minutes)  Delay National Aviation System (Minutes)  \\\n",
       "5                          0.0                                       0.0   \n",
       "6                          0.0                                       0.0   \n",
       "7                          0.0                                       0.0   \n",
       "13                         0.0                                       0.0   \n",
       "15                         0.0                                       0.0   \n",
       "...                        ...                                       ...   \n",
       "20662                      0.0                                       0.0   \n",
       "20663                      0.0                                       0.0   \n",
       "20666                      0.0                                      62.0   \n",
       "20681                      0.0                                       0.0   \n",
       "20689                      0.0                                       0.0   \n",
       "\n",
       "       Delay Security (Minutes)  Delay Late Aircraft Arrival (Minutes)  \n",
       "5                           0.0                                    0.0  \n",
       "6                           0.0                                    0.0  \n",
       "7                           0.0                                    0.0  \n",
       "13                          0.0                                    0.0  \n",
       "15                          0.0                                    0.0  \n",
       "...                         ...                                    ...  \n",
       "20662                       0.0                                   64.0  \n",
       "20663                       0.0                                    0.0  \n",
       "20666                       0.0                                    0.0  \n",
       "20681                       0.0                                    0.0  \n",
       "20689                       0.0                                    0.0  \n",
       "\n",
       "[5924 rows x 11 columns]"
      ]
     },
     "execution_count": 83,
     "metadata": {},
     "output_type": "execute_result"
    }
   ],
   "source": [
    "df_1"
   ]
  },
  {
   "cell_type": "code",
   "execution_count": 62,
   "metadata": {},
   "outputs": [
    {
     "data": {
      "text/plain": [
       "Carrier Code                                5924\n",
       "Date (MM/DD/YYYY)                           5924\n",
       "Destination Airport                         5924\n",
       "Scheduled departure time                    5924\n",
       "Actual departure time                       5924\n",
       "Departure delay (Minutes)                   5924\n",
       "Delay Carrier (Minutes)                     5924\n",
       "Delay Weather (Minutes)                     5924\n",
       "Delay National Aviation System (Minutes)    5924\n",
       "Delay Security (Minutes)                    5924\n",
       "Delay Late Aircraft Arrival (Minutes)       5924\n",
       "dtype: int64"
      ]
     },
     "execution_count": 62,
     "metadata": {},
     "output_type": "execute_result"
    }
   ],
   "source": [
    "df_1.count()"
   ]
  },
  {
   "cell_type": "code",
   "execution_count": 63,
   "metadata": {},
   "outputs": [],
   "source": [
    "y=df_1['Departure delay (Minutes)']"
   ]
  },
  {
   "cell_type": "code",
   "execution_count": 64,
   "metadata": {},
   "outputs": [],
   "source": [
    "x=df_1['Delay Weather (Minutes)']"
   ]
  },
  {
   "cell_type": "code",
   "execution_count": 65,
   "metadata": {},
   "outputs": [],
   "source": [
    "(slope, intercept, _, _, _) = linregress(x, y)\n",
    "fit = slope * x + intercept"
   ]
  },
  {
   "cell_type": "code",
   "execution_count": 66,
   "metadata": {},
   "outputs": [
    {
     "data": {
      "image/png": "[encoded data removed]",
      "text/plain": [
       "<Figure size 432x288 with 1 Axes>"
      ]
     },
     "metadata": {
      "needs_background": "light"
     },
     "output_type": "display_data"
    }
   ],
   "source": [
    "fig, ax = plt.subplots()\n",
    "\n",
    "fig.suptitle(\"Weather delay vs Departure delay\", fontsize=16, fontweight=\"bold\")\n",
    "ax.set_xlim(0, 600)\n",
    "\n",
    "ax.set_xlabel(\"Weather Delay\")\n",
    "ax.set_ylabel(\"Departure Delay\")\n",
    "\n",
    "ax.plot(x, y, linewidth=0, marker='o')\n",
    "ax.plot(x, fit, 'b--')\n",
    "\n",
    "plt.show()"
   ]
  },
  {
   "cell_type": "code",
   "execution_count": 67,
   "metadata": {},
   "outputs": [
    {
     "data": {
      "text/plain": [
       "Ttest_indResult(statistic=-46.13945768203582, pvalue=0.0)"
      ]
     },
     "execution_count": 67,
     "metadata": {},
     "output_type": "execute_result"
    }
   ],
   "source": [
    "stats.ttest_ind(x, y, equal_var=False)"
   ]
  },
  {
   "cell_type": "code",
   "execution_count": 68,
   "metadata": {},
   "outputs": [],
   "source": [
    "x1=df_1['Delay Carrier (Minutes)']"
   ]
  },
  {
   "cell_type": "code",
   "execution_count": 69,
   "metadata": {},
   "outputs": [],
   "source": [
    "(slope, intercept, _, _, _) = linregress(x1, y)\n",
    "fit1 = slope * x1 + intercept"
   ]
  },
  {
   "cell_type": "code",
   "execution_count": 70,
   "metadata": {},
   "outputs": [
    {
     "data": {
      "image/png": "[encoded data removed]",
      "text/plain": [
       "<Figure size 432x288 with 1 Axes>"
      ]
     },
     "metadata": {
      "needs_background": "light"
     },
     "output_type": "display_data"
    }
   ],
   "source": [
    "fig, ax = plt.subplots()\n",
    "\n",
    "fig.suptitle(\"Carrier Delay vs Departure delay\", fontsize=16, fontweight=\"bold\")\n",
    "\n",
    "ax.set_xlim(0, 1000)\n",
    "\n",
    "ax.set_xlabel(\"Carrier Delay\")\n",
    "ax.set_ylabel(\"Departure Delay\")\n",
    "\n",
    "ax.plot(x1, y, linewidth=0, marker='o')\n",
    "ax.plot(x1, fit1, 'b--')\n",
    "\n",
    "plt.show()"
   ]
  },
  {
   "cell_type": "code",
   "execution_count": 71,
   "metadata": {},
   "outputs": [
    {
     "data": {
      "text/plain": [
       "Ttest_indResult(statistic=-35.55966998155197, pvalue=2.014487685602765e-259)"
      ]
     },
     "execution_count": 71,
     "metadata": {},
     "output_type": "execute_result"
    }
   ],
   "source": [
    "stats.ttest_ind(x1, y, equal_var=False)"
   ]
  },
  {
   "cell_type": "code",
   "execution_count": 72,
   "metadata": {},
   "outputs": [],
   "source": [
    "x2=df_1['Delay National Aviation System (Minutes)']"
   ]
  },
  {
   "cell_type": "code",
   "execution_count": 73,
   "metadata": {},
   "outputs": [],
   "source": [
    "(slope, intercept, _, _, _) = linregress(x2, y)\n",
    "fit2 = slope * x2 + intercept"
   ]
  },
  {
   "cell_type": "code",
   "execution_count": 74,
   "metadata": {},
   "outputs": [
    {
     "data": {
      "image/png": "[encoded data removed]",
      "text/plain": [
       "<Figure size 432x288 with 1 Axes>"
      ]
     },
     "metadata": {
      "needs_background": "light"
     },
     "output_type": "display_data"
    }
   ],
   "source": [
    "fig, ax = plt.subplots()\n",
    "\n",
    "fig.suptitle(\"National aviation delay vs Departure delay\", fontsize=16, fontweight=\"bold\")\n",
    "\n",
    "ax.set_xlim(0, 400)\n",
    "ax.set_ylim(0, 400)\n",
    "\n",
    "ax.set_xlabel(\"National aviation Delay\")\n",
    "ax.set_ylabel(\"Departure Delay\")\n",
    "\n",
    "ax.plot(x2, y, linewidth=0, marker='o')\n",
    "ax.plot(x2, fit2, 'b--')\n",
    "\n",
    "plt.show()"
   ]
  },
  {
   "cell_type": "code",
   "execution_count": 75,
   "metadata": {},
   "outputs": [
    {
     "data": {
      "text/plain": [
       "Ttest_indResult(statistic=-39.08892782215759, pvalue=5.418400767040148e-304)"
      ]
     },
     "execution_count": 75,
     "metadata": {},
     "output_type": "execute_result"
    }
   ],
   "source": [
    "stats.ttest_ind(x2, y, equal_var=False)"
   ]
  },
  {
   "cell_type": "code",
   "execution_count": 76,
   "metadata": {},
   "outputs": [],
   "source": [
    "x3=df_1['Delay Late Aircraft Arrival (Minutes)']"
   ]
  },
  {
   "cell_type": "code",
   "execution_count": 77,
   "metadata": {},
   "outputs": [],
   "source": [
    "(slope, intercept, _, _, _) = linregress(x3, y)\n",
    "fit3 = slope * x3 + intercept"
   ]
  },
  {
   "cell_type": "code",
   "execution_count": 78,
   "metadata": {},
   "outputs": [
    {
     "data": {
      "image/png": "[encoded data removed]",
      "text/plain": [
       "<Figure size 432x288 with 1 Axes>"
      ]
     },
     "metadata": {
      "needs_background": "light"
     },
     "output_type": "display_data"
    }
   ],
   "source": [
    "fig, ax = plt.subplots()\n",
    "\n",
    "fig.suptitle(\"Aircraft arrival delay vs Departure delay\", fontsize=16, fontweight=\"bold\")\n",
    "\n",
    "ax.set_xlim(0, 400)\n",
    "ax.set_ylim(0, 600)\n",
    "\n",
    "ax.set_xlabel(\"Late aircraft arrival Delay\")\n",
    "ax.set_ylabel(\"Departure Delay\")\n",
    "\n",
    "ax.plot(x3, y, linewidth=0, marker='o')\n",
    "ax.plot(x3, fit3, 'b--')\n",
    "\n",
    "plt.show()"
   ]
  },
  {
   "cell_type": "code",
   "execution_count": 79,
   "metadata": {},
   "outputs": [
    {
     "data": {
      "text/plain": [
       "Ttest_indResult(statistic=-20.379154236982604, pvalue=1.2673478775553315e-90)"
      ]
     },
     "execution_count": 79,
     "metadata": {},
     "output_type": "execute_result"
    }
   ],
   "source": [
    "stats.ttest_ind(x3, y, equal_var=False)"
   ]
  },
  {
   "cell_type": "code",
   "execution_count": 80,
   "metadata": {},
   "outputs": [],
   "source": [
    "x4=df_1['Delay Security (Minutes)']"
   ]
  },
  {
   "cell_type": "code",
   "execution_count": 81,
   "metadata": {},
   "outputs": [],
   "source": [
    "(slope, intercept, _, _, _) = linregress(x4, y)\n",
    "fit4 = slope * x4 + intercept"
   ]
  },
  {
   "cell_type": "code",
   "execution_count": 82,
   "metadata": {},
   "outputs": [
    {
     "data": {
      "image/png": "[encoded data removed]",
      "text/plain": [
       "<Figure size 432x288 with 1 Axes>"
      ]
     },
     "metadata": {
      "needs_background": "light"
     },
     "output_type": "display_data"
    }
   ],
   "source": [
    "fig, ax = plt.subplots()\n",
    "\n",
    "fig.suptitle(\"Security delay vs Departure delay\", fontsize=16, fontweight=\"bold\")\n",
    "\n",
    "ax.set_xlim(0, 100)\n",
    "\n",
    "ax.set_xlabel(\"Security Delay\")\n",
    "ax.set_ylabel(\"Departure Delay\")\n",
    "\n",
    "ax.plot(x4, y, linewidth=0, marker='o')\n",
    "ax.plot(x4, fit4, 'b--')\n",
    "\n",
    "plt.show()"
   ]
  },
  {
   "cell_type": "code",
   "execution_count": null,
   "metadata": {},
   "outputs": [],
   "source": []
  },
  {
   "cell_type": "code",
   "execution_count": null,
   "metadata": {},
   "outputs": [],
   "source": []
  },
  {
   "cell_type": "code",
   "execution_count": null,
   "metadata": {},
   "outputs": [],
   "source": []
  }
 ],
 "metadata": {
  "kernelspec": {
   "display_name": "Python 3",
   "language": "python",
   "name": "python3"
  },
  "language_info": {
   "codemirror_mode": {
    "name": "ipython",
    "version": 3
   },
   "file_extension": ".py",
   "mimetype": "text/x-python",
   "name": "python",
   "nbconvert_exporter": "python",
   "pygments_lexer": "ipython3",
   "version": "3.7.4"
  }
 },
 "nbformat": 4,
 "nbformat_minor": 2
}
