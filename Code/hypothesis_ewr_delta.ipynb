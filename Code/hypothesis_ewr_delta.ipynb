{
 "cells": [
  {
   "cell_type": "code",
   "execution_count": 1,
   "metadata": {},
   "outputs": [],
   "source": [
    "import pandas as pd\n",
    "import scipy.stats as stats\n",
    "import matplotlib.pyplot as plt\n",
    "from scipy.stats import linregress"
   ]
  },
  {
   "cell_type": "code",
   "execution_count": 2,
   "metadata": {},
   "outputs": [],
   "source": [
    "df=pd.read_csv(\"EWR_DA_delay_des_reason.csv\")"
   ]
  },
  {
   "cell_type": "code",
   "execution_count": 3,
   "metadata": {},
   "outputs": [
    {
     "data": {
      "text/html": [
       "<div>\n",
       "<style scoped>\n",
       "    .dataframe tbody tr th:only-of-type {\n",
       "        vertical-align: middle;\n",
       "    }\n",
       "\n",
       "    .dataframe tbody tr th {\n",
       "        vertical-align: top;\n",
       "    }\n",
       "\n",
       "    .dataframe thead th {\n",
       "        text-align: right;\n",
       "    }\n",
       "</style>\n",
       "<table border=\"1\" class=\"dataframe\">\n",
       "  <thead>\n",
       "    <tr style=\"text-align: right;\">\n",
       "      <th></th>\n",
       "      <th>Date (MM/DD/YYYY)</th>\n",
       "      <th>Destination Airport</th>\n",
       "      <th>Departure delay (Minutes)</th>\n",
       "      <th>Delay Carrier (Minutes)</th>\n",
       "      <th>Delay Weather (Minutes)</th>\n",
       "      <th>Delay National Aviation System (Minutes)</th>\n",
       "      <th>Delay Security (Minutes)</th>\n",
       "      <th>Delay Late Aircraft Arrival (Minutes)</th>\n",
       "      <th>Date</th>\n",
       "    </tr>\n",
       "  </thead>\n",
       "  <tbody>\n",
       "    <tr>\n",
       "      <td>0</td>\n",
       "      <td>01/01/2017</td>\n",
       "      <td>ATL</td>\n",
       "      <td>-20.0</td>\n",
       "      <td>0.0</td>\n",
       "      <td>0.0</td>\n",
       "      <td>0.0</td>\n",
       "      <td>0.0</td>\n",
       "      <td>0.0</td>\n",
       "      <td>2017-01-01</td>\n",
       "    </tr>\n",
       "    <tr>\n",
       "      <td>1</td>\n",
       "      <td>01/01/2017</td>\n",
       "      <td>DTW</td>\n",
       "      <td>-5.0</td>\n",
       "      <td>0.0</td>\n",
       "      <td>0.0</td>\n",
       "      <td>0.0</td>\n",
       "      <td>0.0</td>\n",
       "      <td>0.0</td>\n",
       "      <td>2017-01-01</td>\n",
       "    </tr>\n",
       "    <tr>\n",
       "      <td>2</td>\n",
       "      <td>01/01/2017</td>\n",
       "      <td>MSP</td>\n",
       "      <td>-7.0</td>\n",
       "      <td>0.0</td>\n",
       "      <td>0.0</td>\n",
       "      <td>0.0</td>\n",
       "      <td>0.0</td>\n",
       "      <td>0.0</td>\n",
       "      <td>2017-01-01</td>\n",
       "    </tr>\n",
       "    <tr>\n",
       "      <td>3</td>\n",
       "      <td>01/01/2017</td>\n",
       "      <td>SLC</td>\n",
       "      <td>-7.0</td>\n",
       "      <td>0.0</td>\n",
       "      <td>0.0</td>\n",
       "      <td>0.0</td>\n",
       "      <td>0.0</td>\n",
       "      <td>0.0</td>\n",
       "      <td>2017-01-01</td>\n",
       "    </tr>\n",
       "    <tr>\n",
       "      <td>4</td>\n",
       "      <td>01/01/2018</td>\n",
       "      <td>ATL</td>\n",
       "      <td>293.0</td>\n",
       "      <td>220.0</td>\n",
       "      <td>12.0</td>\n",
       "      <td>29.0</td>\n",
       "      <td>0.0</td>\n",
       "      <td>43.0</td>\n",
       "      <td>2018-01-01</td>\n",
       "    </tr>\n",
       "    <tr>\n",
       "      <td>...</td>\n",
       "      <td>...</td>\n",
       "      <td>...</td>\n",
       "      <td>...</td>\n",
       "      <td>...</td>\n",
       "      <td>...</td>\n",
       "      <td>...</td>\n",
       "      <td>...</td>\n",
       "      <td>...</td>\n",
       "      <td>...</td>\n",
       "    </tr>\n",
       "    <tr>\n",
       "      <td>3801</td>\n",
       "      <td>12/31/2017</td>\n",
       "      <td>SLC</td>\n",
       "      <td>-5.0</td>\n",
       "      <td>0.0</td>\n",
       "      <td>0.0</td>\n",
       "      <td>0.0</td>\n",
       "      <td>0.0</td>\n",
       "      <td>0.0</td>\n",
       "      <td>2017-12-31</td>\n",
       "    </tr>\n",
       "    <tr>\n",
       "      <td>3802</td>\n",
       "      <td>12/31/2018</td>\n",
       "      <td>ATL</td>\n",
       "      <td>-9.0</td>\n",
       "      <td>0.0</td>\n",
       "      <td>0.0</td>\n",
       "      <td>18.0</td>\n",
       "      <td>0.0</td>\n",
       "      <td>0.0</td>\n",
       "      <td>2018-12-31</td>\n",
       "    </tr>\n",
       "    <tr>\n",
       "      <td>3803</td>\n",
       "      <td>12/31/2018</td>\n",
       "      <td>DTW</td>\n",
       "      <td>-8.0</td>\n",
       "      <td>0.0</td>\n",
       "      <td>0.0</td>\n",
       "      <td>0.0</td>\n",
       "      <td>0.0</td>\n",
       "      <td>0.0</td>\n",
       "      <td>2018-12-31</td>\n",
       "    </tr>\n",
       "    <tr>\n",
       "      <td>3804</td>\n",
       "      <td>12/31/2018</td>\n",
       "      <td>MSP</td>\n",
       "      <td>-3.0</td>\n",
       "      <td>0.0</td>\n",
       "      <td>0.0</td>\n",
       "      <td>0.0</td>\n",
       "      <td>0.0</td>\n",
       "      <td>0.0</td>\n",
       "      <td>2018-12-31</td>\n",
       "    </tr>\n",
       "    <tr>\n",
       "      <td>3805</td>\n",
       "      <td>12/31/2018</td>\n",
       "      <td>SLC</td>\n",
       "      <td>-8.0</td>\n",
       "      <td>0.0</td>\n",
       "      <td>0.0</td>\n",
       "      <td>0.0</td>\n",
       "      <td>0.0</td>\n",
       "      <td>0.0</td>\n",
       "      <td>2018-12-31</td>\n",
       "    </tr>\n",
       "  </tbody>\n",
       "</table>\n",
       "<p>3806 rows × 9 columns</p>\n",
       "</div>"
      ],
      "text/plain": [
       "     Date (MM/DD/YYYY) Destination Airport  Departure delay (Minutes)  \\\n",
       "0           01/01/2017                 ATL                      -20.0   \n",
       "1           01/01/2017                 DTW                       -5.0   \n",
       "2           01/01/2017                 MSP                       -7.0   \n",
       "3           01/01/2017                 SLC                       -7.0   \n",
       "4           01/01/2018                 ATL                      293.0   \n",
       "...                ...                 ...                        ...   \n",
       "3801        12/31/2017                 SLC                       -5.0   \n",
       "3802        12/31/2018                 ATL                       -9.0   \n",
       "3803        12/31/2018                 DTW                       -8.0   \n",
       "3804        12/31/2018                 MSP                       -3.0   \n",
       "3805        12/31/2018                 SLC                       -8.0   \n",
       "\n",
       "      Delay Carrier (Minutes)  Delay Weather (Minutes)  \\\n",
       "0                         0.0                      0.0   \n",
       "1                         0.0                      0.0   \n",
       "2                         0.0                      0.0   \n",
       "3                         0.0                      0.0   \n",
       "4                       220.0                     12.0   \n",
       "...                       ...                      ...   \n",
       "3801                      0.0                      0.0   \n",
       "3802                      0.0                      0.0   \n",
       "3803                      0.0                      0.0   \n",
       "3804                      0.0                      0.0   \n",
       "3805                      0.0                      0.0   \n",
       "\n",
       "      Delay National Aviation System (Minutes)  Delay Security (Minutes)  \\\n",
       "0                                          0.0                       0.0   \n",
       "1                                          0.0                       0.0   \n",
       "2                                          0.0                       0.0   \n",
       "3                                          0.0                       0.0   \n",
       "4                                         29.0                       0.0   \n",
       "...                                        ...                       ...   \n",
       "3801                                       0.0                       0.0   \n",
       "3802                                      18.0                       0.0   \n",
       "3803                                       0.0                       0.0   \n",
       "3804                                       0.0                       0.0   \n",
       "3805                                       0.0                       0.0   \n",
       "\n",
       "      Delay Late Aircraft Arrival (Minutes)        Date  \n",
       "0                                       0.0  2017-01-01  \n",
       "1                                       0.0  2017-01-01  \n",
       "2                                       0.0  2017-01-01  \n",
       "3                                       0.0  2017-01-01  \n",
       "4                                      43.0  2018-01-01  \n",
       "...                                     ...         ...  \n",
       "3801                                    0.0  2017-12-31  \n",
       "3802                                    0.0  2018-12-31  \n",
       "3803                                    0.0  2018-12-31  \n",
       "3804                                    0.0  2018-12-31  \n",
       "3805                                    0.0  2018-12-31  \n",
       "\n",
       "[3806 rows x 9 columns]"
      ]
     },
     "execution_count": 3,
     "metadata": {},
     "output_type": "execute_result"
    }
   ],
   "source": [
    "df"
   ]
  },
  {
   "cell_type": "code",
   "execution_count": 4,
   "metadata": {},
   "outputs": [],
   "source": [
    "df1=df.groupby(['Date (MM/DD/YYYY)'],as_index=False).sum()"
   ]
  },
  {
   "cell_type": "code",
   "execution_count": 5,
   "metadata": {},
   "outputs": [
    {
     "data": {
      "text/html": [
       "<div>\n",
       "<style scoped>\n",
       "    .dataframe tbody tr th:only-of-type {\n",
       "        vertical-align: middle;\n",
       "    }\n",
       "\n",
       "    .dataframe tbody tr th {\n",
       "        vertical-align: top;\n",
       "    }\n",
       "\n",
       "    .dataframe thead th {\n",
       "        text-align: right;\n",
       "    }\n",
       "</style>\n",
       "<table border=\"1\" class=\"dataframe\">\n",
       "  <thead>\n",
       "    <tr style=\"text-align: right;\">\n",
       "      <th></th>\n",
       "      <th>Date (MM/DD/YYYY)</th>\n",
       "      <th>Departure delay (Minutes)</th>\n",
       "      <th>Delay Carrier (Minutes)</th>\n",
       "      <th>Delay Weather (Minutes)</th>\n",
       "      <th>Delay National Aviation System (Minutes)</th>\n",
       "      <th>Delay Security (Minutes)</th>\n",
       "      <th>Delay Late Aircraft Arrival (Minutes)</th>\n",
       "    </tr>\n",
       "  </thead>\n",
       "  <tbody>\n",
       "    <tr>\n",
       "      <td>0</td>\n",
       "      <td>01/01/2017</td>\n",
       "      <td>-39.0</td>\n",
       "      <td>0.0</td>\n",
       "      <td>0.0</td>\n",
       "      <td>0.0</td>\n",
       "      <td>0.0</td>\n",
       "      <td>0.0</td>\n",
       "    </tr>\n",
       "    <tr>\n",
       "      <td>1</td>\n",
       "      <td>01/01/2018</td>\n",
       "      <td>456.0</td>\n",
       "      <td>354.0</td>\n",
       "      <td>12.0</td>\n",
       "      <td>29.0</td>\n",
       "      <td>0.0</td>\n",
       "      <td>43.0</td>\n",
       "    </tr>\n",
       "    <tr>\n",
       "      <td>2</td>\n",
       "      <td>01/01/2019</td>\n",
       "      <td>-43.0</td>\n",
       "      <td>0.0</td>\n",
       "      <td>0.0</td>\n",
       "      <td>0.0</td>\n",
       "      <td>0.0</td>\n",
       "      <td>0.0</td>\n",
       "    </tr>\n",
       "    <tr>\n",
       "      <td>3</td>\n",
       "      <td>01/02/2017</td>\n",
       "      <td>163.0</td>\n",
       "      <td>8.0</td>\n",
       "      <td>0.0</td>\n",
       "      <td>85.0</td>\n",
       "      <td>0.0</td>\n",
       "      <td>78.0</td>\n",
       "    </tr>\n",
       "    <tr>\n",
       "      <td>4</td>\n",
       "      <td>01/02/2018</td>\n",
       "      <td>75.0</td>\n",
       "      <td>27.0</td>\n",
       "      <td>0.0</td>\n",
       "      <td>0.0</td>\n",
       "      <td>0.0</td>\n",
       "      <td>0.0</td>\n",
       "    </tr>\n",
       "    <tr>\n",
       "      <td>...</td>\n",
       "      <td>...</td>\n",
       "      <td>...</td>\n",
       "      <td>...</td>\n",
       "      <td>...</td>\n",
       "      <td>...</td>\n",
       "      <td>...</td>\n",
       "      <td>...</td>\n",
       "    </tr>\n",
       "    <tr>\n",
       "      <td>95</td>\n",
       "      <td>02/01/2019</td>\n",
       "      <td>168.0</td>\n",
       "      <td>2.0</td>\n",
       "      <td>0.0</td>\n",
       "      <td>0.0</td>\n",
       "      <td>0.0</td>\n",
       "      <td>197.0</td>\n",
       "    </tr>\n",
       "    <tr>\n",
       "      <td>96</td>\n",
       "      <td>02/02/2017</td>\n",
       "      <td>-47.0</td>\n",
       "      <td>0.0</td>\n",
       "      <td>0.0</td>\n",
       "      <td>32.0</td>\n",
       "      <td>0.0</td>\n",
       "      <td>0.0</td>\n",
       "    </tr>\n",
       "    <tr>\n",
       "      <td>97</td>\n",
       "      <td>02/02/2018</td>\n",
       "      <td>350.0</td>\n",
       "      <td>61.0</td>\n",
       "      <td>0.0</td>\n",
       "      <td>81.0</td>\n",
       "      <td>0.0</td>\n",
       "      <td>304.0</td>\n",
       "    </tr>\n",
       "    <tr>\n",
       "      <td>98</td>\n",
       "      <td>02/02/2019</td>\n",
       "      <td>-14.0</td>\n",
       "      <td>0.0</td>\n",
       "      <td>0.0</td>\n",
       "      <td>0.0</td>\n",
       "      <td>0.0</td>\n",
       "      <td>0.0</td>\n",
       "    </tr>\n",
       "    <tr>\n",
       "      <td>99</td>\n",
       "      <td>02/03/2017</td>\n",
       "      <td>-42.0</td>\n",
       "      <td>0.0</td>\n",
       "      <td>0.0</td>\n",
       "      <td>0.0</td>\n",
       "      <td>0.0</td>\n",
       "      <td>0.0</td>\n",
       "    </tr>\n",
       "  </tbody>\n",
       "</table>\n",
       "<p>100 rows × 7 columns</p>\n",
       "</div>"
      ],
      "text/plain": [
       "   Date (MM/DD/YYYY)  Departure delay (Minutes)  Delay Carrier (Minutes)  \\\n",
       "0         01/01/2017                      -39.0                      0.0   \n",
       "1         01/01/2018                      456.0                    354.0   \n",
       "2         01/01/2019                      -43.0                      0.0   \n",
       "3         01/02/2017                      163.0                      8.0   \n",
       "4         01/02/2018                       75.0                     27.0   \n",
       "..               ...                        ...                      ...   \n",
       "95        02/01/2019                      168.0                      2.0   \n",
       "96        02/02/2017                      -47.0                      0.0   \n",
       "97        02/02/2018                      350.0                     61.0   \n",
       "98        02/02/2019                      -14.0                      0.0   \n",
       "99        02/03/2017                      -42.0                      0.0   \n",
       "\n",
       "    Delay Weather (Minutes)  Delay National Aviation System (Minutes)  \\\n",
       "0                       0.0                                       0.0   \n",
       "1                      12.0                                      29.0   \n",
       "2                       0.0                                       0.0   \n",
       "3                       0.0                                      85.0   \n",
       "4                       0.0                                       0.0   \n",
       "..                      ...                                       ...   \n",
       "95                      0.0                                       0.0   \n",
       "96                      0.0                                      32.0   \n",
       "97                      0.0                                      81.0   \n",
       "98                      0.0                                       0.0   \n",
       "99                      0.0                                       0.0   \n",
       "\n",
       "    Delay Security (Minutes)  Delay Late Aircraft Arrival (Minutes)  \n",
       "0                        0.0                                    0.0  \n",
       "1                        0.0                                   43.0  \n",
       "2                        0.0                                    0.0  \n",
       "3                        0.0                                   78.0  \n",
       "4                        0.0                                    0.0  \n",
       "..                       ...                                    ...  \n",
       "95                       0.0                                  197.0  \n",
       "96                       0.0                                    0.0  \n",
       "97                       0.0                                  304.0  \n",
       "98                       0.0                                    0.0  \n",
       "99                       0.0                                    0.0  \n",
       "\n",
       "[100 rows x 7 columns]"
      ]
     },
     "execution_count": 5,
     "metadata": {},
     "output_type": "execute_result"
    }
   ],
   "source": [
    "df1.head(100)"
   ]
  },
  {
   "cell_type": "code",
   "execution_count": 6,
   "metadata": {},
   "outputs": [],
   "source": [
    "df1['Date'] = pd.to_datetime(df1['Date (MM/DD/YYYY)'])"
   ]
  },
  {
   "cell_type": "code",
   "execution_count": 7,
   "metadata": {},
   "outputs": [],
   "source": [
    "df1=df1.drop(['Date (MM/DD/YYYY)'],axis=1)"
   ]
  },
  {
   "cell_type": "code",
   "execution_count": 8,
   "metadata": {},
   "outputs": [],
   "source": [
    "df2=df1.sort_values(by=['Date'],ascending=False)"
   ]
  },
  {
   "cell_type": "code",
   "execution_count": 9,
   "metadata": {},
   "outputs": [
    {
     "data": {
      "text/html": [
       "<div>\n",
       "<style scoped>\n",
       "    .dataframe tbody tr th:only-of-type {\n",
       "        vertical-align: middle;\n",
       "    }\n",
       "\n",
       "    .dataframe tbody tr th {\n",
       "        vertical-align: top;\n",
       "    }\n",
       "\n",
       "    .dataframe thead th {\n",
       "        text-align: right;\n",
       "    }\n",
       "</style>\n",
       "<table border=\"1\" class=\"dataframe\">\n",
       "  <thead>\n",
       "    <tr style=\"text-align: right;\">\n",
       "      <th></th>\n",
       "      <th>Departure delay (Minutes)</th>\n",
       "      <th>Delay Carrier (Minutes)</th>\n",
       "      <th>Delay Weather (Minutes)</th>\n",
       "      <th>Delay National Aviation System (Minutes)</th>\n",
       "      <th>Delay Security (Minutes)</th>\n",
       "      <th>Delay Late Aircraft Arrival (Minutes)</th>\n",
       "      <th>Date</th>\n",
       "    </tr>\n",
       "  </thead>\n",
       "  <tbody>\n",
       "    <tr>\n",
       "      <td>818</td>\n",
       "      <td>40.0</td>\n",
       "      <td>38.0</td>\n",
       "      <td>0.0</td>\n",
       "      <td>23.0</td>\n",
       "      <td>0.0</td>\n",
       "      <td>15.0</td>\n",
       "      <td>2019-09-30</td>\n",
       "    </tr>\n",
       "    <tr>\n",
       "      <td>815</td>\n",
       "      <td>711.0</td>\n",
       "      <td>678.0</td>\n",
       "      <td>0.0</td>\n",
       "      <td>44.0</td>\n",
       "      <td>0.0</td>\n",
       "      <td>11.0</td>\n",
       "      <td>2019-09-29</td>\n",
       "    </tr>\n",
       "    <tr>\n",
       "      <td>812</td>\n",
       "      <td>-6.0</td>\n",
       "      <td>11.0</td>\n",
       "      <td>0.0</td>\n",
       "      <td>58.0</td>\n",
       "      <td>0.0</td>\n",
       "      <td>12.0</td>\n",
       "      <td>2019-09-28</td>\n",
       "    </tr>\n",
       "    <tr>\n",
       "      <td>809</td>\n",
       "      <td>-43.0</td>\n",
       "      <td>13.0</td>\n",
       "      <td>0.0</td>\n",
       "      <td>0.0</td>\n",
       "      <td>0.0</td>\n",
       "      <td>3.0</td>\n",
       "      <td>2019-09-27</td>\n",
       "    </tr>\n",
       "    <tr>\n",
       "      <td>806</td>\n",
       "      <td>294.0</td>\n",
       "      <td>50.0</td>\n",
       "      <td>0.0</td>\n",
       "      <td>80.0</td>\n",
       "      <td>0.0</td>\n",
       "      <td>205.0</td>\n",
       "      <td>2019-09-26</td>\n",
       "    </tr>\n",
       "    <tr>\n",
       "      <td>...</td>\n",
       "      <td>...</td>\n",
       "      <td>...</td>\n",
       "      <td>...</td>\n",
       "      <td>...</td>\n",
       "      <td>...</td>\n",
       "      <td>...</td>\n",
       "      <td>...</td>\n",
       "    </tr>\n",
       "    <tr>\n",
       "      <td>12</td>\n",
       "      <td>110.0</td>\n",
       "      <td>12.0</td>\n",
       "      <td>0.0</td>\n",
       "      <td>0.0</td>\n",
       "      <td>0.0</td>\n",
       "      <td>97.0</td>\n",
       "      <td>2017-01-05</td>\n",
       "    </tr>\n",
       "    <tr>\n",
       "      <td>9</td>\n",
       "      <td>150.0</td>\n",
       "      <td>3.0</td>\n",
       "      <td>0.0</td>\n",
       "      <td>0.0</td>\n",
       "      <td>0.0</td>\n",
       "      <td>121.0</td>\n",
       "      <td>2017-01-04</td>\n",
       "    </tr>\n",
       "    <tr>\n",
       "      <td>6</td>\n",
       "      <td>84.0</td>\n",
       "      <td>10.0</td>\n",
       "      <td>4.0</td>\n",
       "      <td>0.0</td>\n",
       "      <td>0.0</td>\n",
       "      <td>59.0</td>\n",
       "      <td>2017-01-03</td>\n",
       "    </tr>\n",
       "    <tr>\n",
       "      <td>3</td>\n",
       "      <td>163.0</td>\n",
       "      <td>8.0</td>\n",
       "      <td>0.0</td>\n",
       "      <td>85.0</td>\n",
       "      <td>0.0</td>\n",
       "      <td>78.0</td>\n",
       "      <td>2017-01-02</td>\n",
       "    </tr>\n",
       "    <tr>\n",
       "      <td>0</td>\n",
       "      <td>-39.0</td>\n",
       "      <td>0.0</td>\n",
       "      <td>0.0</td>\n",
       "      <td>0.0</td>\n",
       "      <td>0.0</td>\n",
       "      <td>0.0</td>\n",
       "      <td>2017-01-01</td>\n",
       "    </tr>\n",
       "  </tbody>\n",
       "</table>\n",
       "<p>1003 rows × 7 columns</p>\n",
       "</div>"
      ],
      "text/plain": [
       "     Departure delay (Minutes)  Delay Carrier (Minutes)  \\\n",
       "818                       40.0                     38.0   \n",
       "815                      711.0                    678.0   \n",
       "812                       -6.0                     11.0   \n",
       "809                      -43.0                     13.0   \n",
       "806                      294.0                     50.0   \n",
       "..                         ...                      ...   \n",
       "12                       110.0                     12.0   \n",
       "9                        150.0                      3.0   \n",
       "6                         84.0                     10.0   \n",
       "3                        163.0                      8.0   \n",
       "0                        -39.0                      0.0   \n",
       "\n",
       "     Delay Weather (Minutes)  Delay National Aviation System (Minutes)  \\\n",
       "818                      0.0                                      23.0   \n",
       "815                      0.0                                      44.0   \n",
       "812                      0.0                                      58.0   \n",
       "809                      0.0                                       0.0   \n",
       "806                      0.0                                      80.0   \n",
       "..                       ...                                       ...   \n",
       "12                       0.0                                       0.0   \n",
       "9                        0.0                                       0.0   \n",
       "6                        4.0                                       0.0   \n",
       "3                        0.0                                      85.0   \n",
       "0                        0.0                                       0.0   \n",
       "\n",
       "     Delay Security (Minutes)  Delay Late Aircraft Arrival (Minutes)  \\\n",
       "818                       0.0                                   15.0   \n",
       "815                       0.0                                   11.0   \n",
       "812                       0.0                                   12.0   \n",
       "809                       0.0                                    3.0   \n",
       "806                       0.0                                  205.0   \n",
       "..                        ...                                    ...   \n",
       "12                        0.0                                   97.0   \n",
       "9                         0.0                                  121.0   \n",
       "6                         0.0                                   59.0   \n",
       "3                         0.0                                   78.0   \n",
       "0                         0.0                                    0.0   \n",
       "\n",
       "          Date  \n",
       "818 2019-09-30  \n",
       "815 2019-09-29  \n",
       "812 2019-09-28  \n",
       "809 2019-09-27  \n",
       "806 2019-09-26  \n",
       "..         ...  \n",
       "12  2017-01-05  \n",
       "9   2017-01-04  \n",
       "6   2017-01-03  \n",
       "3   2017-01-02  \n",
       "0   2017-01-01  \n",
       "\n",
       "[1003 rows x 7 columns]"
      ]
     },
     "execution_count": 9,
     "metadata": {},
     "output_type": "execute_result"
    }
   ],
   "source": [
    "df2"
   ]
  },
  {
   "cell_type": "code",
   "execution_count": 10,
   "metadata": {},
   "outputs": [],
   "source": [
    "df2['Half year']=pd.qcut(df2['Date'],q=12)"
   ]
  },
  {
   "cell_type": "code",
   "execution_count": 11,
   "metadata": {},
   "outputs": [],
   "source": [
    "df3=df2.groupby('Half year')"
   ]
  },
  {
   "cell_type": "code",
   "execution_count": 12,
   "metadata": {},
   "outputs": [],
   "source": [
    "df4=df3[['Departure delay (Minutes)','Delay Carrier (Minutes)','Delay Weather (Minutes)','Delay National Aviation System (Minutes)','Delay Security (Minutes)','Delay Late Aircraft Arrival (Minutes)']].sum()"
   ]
  },
  {
   "cell_type": "code",
   "execution_count": 13,
   "metadata": {},
   "outputs": [
    {
     "data": {
      "text/html": [
       "<div>\n",
       "<style scoped>\n",
       "    .dataframe tbody tr th:only-of-type {\n",
       "        vertical-align: middle;\n",
       "    }\n",
       "\n",
       "    .dataframe tbody tr th {\n",
       "        vertical-align: top;\n",
       "    }\n",
       "\n",
       "    .dataframe thead th {\n",
       "        text-align: right;\n",
       "    }\n",
       "</style>\n",
       "<table border=\"1\" class=\"dataframe\">\n",
       "  <thead>\n",
       "    <tr style=\"text-align: right;\">\n",
       "      <th></th>\n",
       "      <th>Departure delay (Minutes)</th>\n",
       "      <th>Delay Carrier (Minutes)</th>\n",
       "      <th>Delay Weather (Minutes)</th>\n",
       "      <th>Delay National Aviation System (Minutes)</th>\n",
       "      <th>Delay Security (Minutes)</th>\n",
       "      <th>Delay Late Aircraft Arrival (Minutes)</th>\n",
       "    </tr>\n",
       "    <tr>\n",
       "      <th>Half year</th>\n",
       "      <th></th>\n",
       "      <th></th>\n",
       "      <th></th>\n",
       "      <th></th>\n",
       "      <th></th>\n",
       "      <th></th>\n",
       "    </tr>\n",
       "  </thead>\n",
       "  <tbody>\n",
       "    <tr>\n",
       "      <td>(2018-05-17, 2018-08-08 12:00:00]</td>\n",
       "      <td>38890.0</td>\n",
       "      <td>12890.0</td>\n",
       "      <td>1745.0</td>\n",
       "      <td>5739.0</td>\n",
       "      <td>0.0</td>\n",
       "      <td>19631.0</td>\n",
       "    </tr>\n",
       "    <tr>\n",
       "      <td>(2019-07-08 12:00:00, 2019-09-30]</td>\n",
       "      <td>35980.0</td>\n",
       "      <td>12978.0</td>\n",
       "      <td>1895.0</td>\n",
       "      <td>4434.0</td>\n",
       "      <td>0.0</td>\n",
       "      <td>18927.0</td>\n",
       "    </tr>\n",
       "    <tr>\n",
       "      <td>(2019-04-16, 2019-07-08 12:00:00]</td>\n",
       "      <td>33934.0</td>\n",
       "      <td>12498.0</td>\n",
       "      <td>1787.0</td>\n",
       "      <td>4765.0</td>\n",
       "      <td>0.0</td>\n",
       "      <td>17686.0</td>\n",
       "    </tr>\n",
       "    <tr>\n",
       "      <td>(2017-03-25 12:00:00, 2017-06-17]</td>\n",
       "      <td>26734.0</td>\n",
       "      <td>9482.0</td>\n",
       "      <td>199.0</td>\n",
       "      <td>4193.0</td>\n",
       "      <td>0.0</td>\n",
       "      <td>14813.0</td>\n",
       "    </tr>\n",
       "    <tr>\n",
       "      <td>(2017-06-17, 2017-09-08 12:00:00]</td>\n",
       "      <td>20013.0</td>\n",
       "      <td>5501.0</td>\n",
       "      <td>650.0</td>\n",
       "      <td>3571.0</td>\n",
       "      <td>72.0</td>\n",
       "      <td>13185.0</td>\n",
       "    </tr>\n",
       "    <tr>\n",
       "      <td>(2019-01-22 12:00:00, 2019-04-16]</td>\n",
       "      <td>17450.0</td>\n",
       "      <td>5006.0</td>\n",
       "      <td>1761.0</td>\n",
       "      <td>3856.0</td>\n",
       "      <td>0.0</td>\n",
       "      <td>9948.0</td>\n",
       "    </tr>\n",
       "    <tr>\n",
       "      <td>(2018-08-08 12:00:00, 2018-10-31]</td>\n",
       "      <td>17274.0</td>\n",
       "      <td>6347.0</td>\n",
       "      <td>66.0</td>\n",
       "      <td>3046.0</td>\n",
       "      <td>0.0</td>\n",
       "      <td>10860.0</td>\n",
       "    </tr>\n",
       "    <tr>\n",
       "      <td>(2018-02-22 12:00:00, 2018-05-17]</td>\n",
       "      <td>14214.0</td>\n",
       "      <td>4446.0</td>\n",
       "      <td>595.0</td>\n",
       "      <td>2412.0</td>\n",
       "      <td>0.0</td>\n",
       "      <td>8653.0</td>\n",
       "    </tr>\n",
       "    <tr>\n",
       "      <td>(2018-10-31, 2019-01-22 12:00:00]</td>\n",
       "      <td>13309.0</td>\n",
       "      <td>3979.0</td>\n",
       "      <td>427.0</td>\n",
       "      <td>1795.0</td>\n",
       "      <td>50.0</td>\n",
       "      <td>8941.0</td>\n",
       "    </tr>\n",
       "    <tr>\n",
       "      <td>(2017-12-01, 2018-02-22 12:00:00]</td>\n",
       "      <td>12985.0</td>\n",
       "      <td>4192.0</td>\n",
       "      <td>303.0</td>\n",
       "      <td>2674.0</td>\n",
       "      <td>0.0</td>\n",
       "      <td>6068.0</td>\n",
       "    </tr>\n",
       "    <tr>\n",
       "      <td>(2017-09-08 12:00:00, 2017-12-01]</td>\n",
       "      <td>10730.0</td>\n",
       "      <td>3908.0</td>\n",
       "      <td>252.0</td>\n",
       "      <td>1059.0</td>\n",
       "      <td>0.0</td>\n",
       "      <td>6856.0</td>\n",
       "    </tr>\n",
       "    <tr>\n",
       "      <td>(2016-12-31 23:59:59.999999999, 2017-03-25 12:00:00]</td>\n",
       "      <td>8554.0</td>\n",
       "      <td>2774.0</td>\n",
       "      <td>572.0</td>\n",
       "      <td>1490.0</td>\n",
       "      <td>0.0</td>\n",
       "      <td>4841.0</td>\n",
       "    </tr>\n",
       "  </tbody>\n",
       "</table>\n",
       "</div>"
      ],
      "text/plain": [
       "                                                    Departure delay (Minutes)  \\\n",
       "Half year                                                                       \n",
       "(2018-05-17, 2018-08-08 12:00:00]                                     38890.0   \n",
       "(2019-07-08 12:00:00, 2019-09-30]                                     35980.0   \n",
       "(2019-04-16, 2019-07-08 12:00:00]                                     33934.0   \n",
       "(2017-03-25 12:00:00, 2017-06-17]                                     26734.0   \n",
       "(2017-06-17, 2017-09-08 12:00:00]                                     20013.0   \n",
       "(2019-01-22 12:00:00, 2019-04-16]                                     17450.0   \n",
       "(2018-08-08 12:00:00, 2018-10-31]                                     17274.0   \n",
       "(2018-02-22 12:00:00, 2018-05-17]                                     14214.0   \n",
       "(2018-10-31, 2019-01-22 12:00:00]                                     13309.0   \n",
       "(2017-12-01, 2018-02-22 12:00:00]                                     12985.0   \n",
       "(2017-09-08 12:00:00, 2017-12-01]                                     10730.0   \n",
       "(2016-12-31 23:59:59.999999999, 2017-03-25 12:0...                     8554.0   \n",
       "\n",
       "                                                    Delay Carrier (Minutes)  \\\n",
       "Half year                                                                     \n",
       "(2018-05-17, 2018-08-08 12:00:00]                                   12890.0   \n",
       "(2019-07-08 12:00:00, 2019-09-30]                                   12978.0   \n",
       "(2019-04-16, 2019-07-08 12:00:00]                                   12498.0   \n",
       "(2017-03-25 12:00:00, 2017-06-17]                                    9482.0   \n",
       "(2017-06-17, 2017-09-08 12:00:00]                                    5501.0   \n",
       "(2019-01-22 12:00:00, 2019-04-16]                                    5006.0   \n",
       "(2018-08-08 12:00:00, 2018-10-31]                                    6347.0   \n",
       "(2018-02-22 12:00:00, 2018-05-17]                                    4446.0   \n",
       "(2018-10-31, 2019-01-22 12:00:00]                                    3979.0   \n",
       "(2017-12-01, 2018-02-22 12:00:00]                                    4192.0   \n",
       "(2017-09-08 12:00:00, 2017-12-01]                                    3908.0   \n",
       "(2016-12-31 23:59:59.999999999, 2017-03-25 12:0...                   2774.0   \n",
       "\n",
       "                                                    Delay Weather (Minutes)  \\\n",
       "Half year                                                                     \n",
       "(2018-05-17, 2018-08-08 12:00:00]                                    1745.0   \n",
       "(2019-07-08 12:00:00, 2019-09-30]                                    1895.0   \n",
       "(2019-04-16, 2019-07-08 12:00:00]                                    1787.0   \n",
       "(2017-03-25 12:00:00, 2017-06-17]                                     199.0   \n",
       "(2017-06-17, 2017-09-08 12:00:00]                                     650.0   \n",
       "(2019-01-22 12:00:00, 2019-04-16]                                    1761.0   \n",
       "(2018-08-08 12:00:00, 2018-10-31]                                      66.0   \n",
       "(2018-02-22 12:00:00, 2018-05-17]                                     595.0   \n",
       "(2018-10-31, 2019-01-22 12:00:00]                                     427.0   \n",
       "(2017-12-01, 2018-02-22 12:00:00]                                     303.0   \n",
       "(2017-09-08 12:00:00, 2017-12-01]                                     252.0   \n",
       "(2016-12-31 23:59:59.999999999, 2017-03-25 12:0...                    572.0   \n",
       "\n",
       "                                                    Delay National Aviation System (Minutes)  \\\n",
       "Half year                                                                                      \n",
       "(2018-05-17, 2018-08-08 12:00:00]                                                     5739.0   \n",
       "(2019-07-08 12:00:00, 2019-09-30]                                                     4434.0   \n",
       "(2019-04-16, 2019-07-08 12:00:00]                                                     4765.0   \n",
       "(2017-03-25 12:00:00, 2017-06-17]                                                     4193.0   \n",
       "(2017-06-17, 2017-09-08 12:00:00]                                                     3571.0   \n",
       "(2019-01-22 12:00:00, 2019-04-16]                                                     3856.0   \n",
       "(2018-08-08 12:00:00, 2018-10-31]                                                     3046.0   \n",
       "(2018-02-22 12:00:00, 2018-05-17]                                                     2412.0   \n",
       "(2018-10-31, 2019-01-22 12:00:00]                                                     1795.0   \n",
       "(2017-12-01, 2018-02-22 12:00:00]                                                     2674.0   \n",
       "(2017-09-08 12:00:00, 2017-12-01]                                                     1059.0   \n",
       "(2016-12-31 23:59:59.999999999, 2017-03-25 12:0...                                    1490.0   \n",
       "\n",
       "                                                    Delay Security (Minutes)  \\\n",
       "Half year                                                                      \n",
       "(2018-05-17, 2018-08-08 12:00:00]                                        0.0   \n",
       "(2019-07-08 12:00:00, 2019-09-30]                                        0.0   \n",
       "(2019-04-16, 2019-07-08 12:00:00]                                        0.0   \n",
       "(2017-03-25 12:00:00, 2017-06-17]                                        0.0   \n",
       "(2017-06-17, 2017-09-08 12:00:00]                                       72.0   \n",
       "(2019-01-22 12:00:00, 2019-04-16]                                        0.0   \n",
       "(2018-08-08 12:00:00, 2018-10-31]                                        0.0   \n",
       "(2018-02-22 12:00:00, 2018-05-17]                                        0.0   \n",
       "(2018-10-31, 2019-01-22 12:00:00]                                       50.0   \n",
       "(2017-12-01, 2018-02-22 12:00:00]                                        0.0   \n",
       "(2017-09-08 12:00:00, 2017-12-01]                                        0.0   \n",
       "(2016-12-31 23:59:59.999999999, 2017-03-25 12:0...                       0.0   \n",
       "\n",
       "                                                    Delay Late Aircraft Arrival (Minutes)  \n",
       "Half year                                                                                  \n",
       "(2018-05-17, 2018-08-08 12:00:00]                                                 19631.0  \n",
       "(2019-07-08 12:00:00, 2019-09-30]                                                 18927.0  \n",
       "(2019-04-16, 2019-07-08 12:00:00]                                                 17686.0  \n",
       "(2017-03-25 12:00:00, 2017-06-17]                                                 14813.0  \n",
       "(2017-06-17, 2017-09-08 12:00:00]                                                 13185.0  \n",
       "(2019-01-22 12:00:00, 2019-04-16]                                                  9948.0  \n",
       "(2018-08-08 12:00:00, 2018-10-31]                                                 10860.0  \n",
       "(2018-02-22 12:00:00, 2018-05-17]                                                  8653.0  \n",
       "(2018-10-31, 2019-01-22 12:00:00]                                                  8941.0  \n",
       "(2017-12-01, 2018-02-22 12:00:00]                                                  6068.0  \n",
       "(2017-09-08 12:00:00, 2017-12-01]                                                  6856.0  \n",
       "(2016-12-31 23:59:59.999999999, 2017-03-25 12:0...                                 4841.0  "
      ]
     },
     "execution_count": 13,
     "metadata": {},
     "output_type": "execute_result"
    }
   ],
   "source": [
    "df4.sort_values(by=['Departure delay (Minutes)'],ascending=False)"
   ]
  },
  {
   "cell_type": "code",
   "execution_count": 14,
   "metadata": {},
   "outputs": [],
   "source": [
    "y_axis=[]"
   ]
  },
  {
   "cell_type": "code",
   "execution_count": 15,
   "metadata": {},
   "outputs": [],
   "source": [
    "a=df1['Delay Carrier (Minutes)'].sum()\n",
    "b=df1['Delay Weather (Minutes)'].sum()\n",
    "c=df1['Delay National Aviation System (Minutes)'].sum()\n",
    "d=df1['Delay Security (Minutes)'].sum()\n",
    "e=df1['Delay Late Aircraft Arrival (Minutes)'].sum()\n",
    "x_axis=['Delay Carrier (Minutes)','Delay Weather (Minutes)','Delay National Aviation System (Minutes)','Delay Security (Minutes)','Delay Late Aircraft Arrival (Minutes)']\n",
    "y_axis=[a,b,c,d,e]"
   ]
  },
  {
   "cell_type": "code",
   "execution_count": 16,
   "metadata": {},
   "outputs": [
    {
     "data": {
      "image/png": "[encoded data removed]",
      "text/plain": [
       "<Figure size 1440x720 with 1 Axes>"
      ]
     },
     "metadata": {
      "needs_background": "light"
     },
     "output_type": "display_data"
    }
   ],
   "source": [
    "plt.figure(figsize=(20,10))\n",
    "plt.plot(x_axis,y_axis)\n",
    "\n",
    "plt.savefig(\"delay_reason.png\")"
   ]
  },
  {
   "cell_type": "markdown",
   "metadata": {},
   "source": [
    "Is there any relationship between delay carrier and delay weather?"
   ]
  },
  {
   "cell_type": "code",
   "execution_count": 17,
   "metadata": {},
   "outputs": [],
   "source": [
    "population1 = df1['Departure delay (Minutes)']"
   ]
  },
  {
   "cell_type": "code",
   "execution_count": 18,
   "metadata": {},
   "outputs": [],
   "source": [
    "population2 = df1['Delay Weather (Minutes)']"
   ]
  },
  {
   "cell_type": "code",
   "execution_count": 19,
   "metadata": {},
   "outputs": [
    {
     "data": {
      "text/plain": [
       "10252.0"
      ]
     },
     "execution_count": 19,
     "metadata": {},
     "output_type": "execute_result"
    }
   ],
   "source": [
    "df['Delay Weather (Minutes)'].sum()"
   ]
  },
  {
   "cell_type": "code",
   "execution_count": 20,
   "metadata": {},
   "outputs": [
    {
     "data": {
      "text/plain": [
       "Ttest_indResult(statistic=17.316716730088125, pvalue=2.8944424067354603e-59)"
      ]
     },
     "execution_count": 20,
     "metadata": {},
     "output_type": "execute_result"
    }
   ],
   "source": [
    "stats.ttest_ind(population1, population2, equal_var=False)"
   ]
  },
  {
   "cell_type": "code",
   "execution_count": 21,
   "metadata": {},
   "outputs": [],
   "source": [
    "population3= df1['Delay Carrier (Minutes)']"
   ]
  },
  {
   "cell_type": "code",
   "execution_count": 22,
   "metadata": {},
   "outputs": [
    {
     "data": {
      "text/plain": [
       "84001.0"
      ]
     },
     "execution_count": 22,
     "metadata": {},
     "output_type": "execute_result"
    }
   ],
   "source": [
    "df1['Delay Carrier (Minutes)'].sum()"
   ]
  },
  {
   "cell_type": "code",
   "execution_count": 23,
   "metadata": {},
   "outputs": [
    {
     "data": {
      "text/plain": [
       "Ttest_indResult(statistic=11.071284396946853, pvalue=2.3345775000268155e-27)"
      ]
     },
     "execution_count": 23,
     "metadata": {},
     "output_type": "execute_result"
    }
   ],
   "source": [
    "stats.ttest_ind(population1, population3, equal_var=False)"
   ]
  },
  {
   "cell_type": "code",
   "execution_count": 24,
   "metadata": {},
   "outputs": [],
   "source": [
    "population4= df1['Delay National Aviation System (Minutes)']"
   ]
  },
  {
   "cell_type": "code",
   "execution_count": 25,
   "metadata": {},
   "outputs": [
    {
     "data": {
      "text/plain": [
       "39034.0"
      ]
     },
     "execution_count": 25,
     "metadata": {},
     "output_type": "execute_result"
    }
   ],
   "source": [
    "df['Delay National Aviation System (Minutes)'].sum()"
   ]
  },
  {
   "cell_type": "code",
   "execution_count": 26,
   "metadata": {},
   "outputs": [
    {
     "data": {
      "text/plain": [
       "Ttest_indResult(statistic=15.05082068567221, pvalue=1.1075022751492194e-46)"
      ]
     },
     "execution_count": 26,
     "metadata": {},
     "output_type": "execute_result"
    }
   ],
   "source": [
    "stats.ttest_ind(population1, population4, equal_var=False)"
   ]
  },
  {
   "cell_type": "code",
   "execution_count": 27,
   "metadata": {},
   "outputs": [],
   "source": [
    "population5= df1['Delay Late Aircraft Arrival (Minutes)']"
   ]
  },
  {
   "cell_type": "code",
   "execution_count": 28,
   "metadata": {},
   "outputs": [
    {
     "data": {
      "text/plain": [
       "140409.0"
      ]
     },
     "execution_count": 28,
     "metadata": {},
     "output_type": "execute_result"
    }
   ],
   "source": [
    "df1['Delay Late Aircraft Arrival (Minutes)'].sum()"
   ]
  },
  {
   "cell_type": "code",
   "execution_count": 29,
   "metadata": {},
   "outputs": [
    {
     "data": {
      "text/plain": [
       "Ttest_indResult(statistic=6.816003941926154, pvalue=1.3039773600156771e-11)"
      ]
     },
     "execution_count": 29,
     "metadata": {},
     "output_type": "execute_result"
    }
   ],
   "source": [
    "stats.ttest_ind(population1, population5, equal_var=False)"
   ]
  },
  {
   "cell_type": "code",
   "execution_count": 30,
   "metadata": {},
   "outputs": [
    {
     "data": {
      "text/plain": [
       "122.0"
      ]
     },
     "execution_count": 30,
     "metadata": {},
     "output_type": "execute_result"
    }
   ],
   "source": [
    "df1['Delay Security (Minutes)'].sum()"
   ]
  },
  {
   "cell_type": "code",
   "execution_count": 31,
   "metadata": {},
   "outputs": [
    {
     "data": {
      "text/plain": [
       "F_onewayResult(statistic=106.01108320657224, pvalue=4.798505776533143e-66)"
      ]
     },
     "execution_count": 31,
     "metadata": {},
     "output_type": "execute_result"
    }
   ],
   "source": [
    "stats.f_oneway(population2,population3,population4,population5)"
   ]
  },
  {
   "cell_type": "code",
   "execution_count": 32,
   "metadata": {},
   "outputs": [
    {
     "data": {
      "text/plain": [
       "Date (MM/DD/YYYY)                           3806\n",
       "Destination Airport                         3806\n",
       "Departure delay (Minutes)                   3806\n",
       "Delay Carrier (Minutes)                     3806\n",
       "Delay Weather (Minutes)                     3806\n",
       "Delay National Aviation System (Minutes)    3806\n",
       "Delay Security (Minutes)                    3806\n",
       "Delay Late Aircraft Arrival (Minutes)       3806\n",
       "Date                                        3806\n",
       "dtype: int64"
      ]
     },
     "execution_count": 32,
     "metadata": {},
     "output_type": "execute_result"
    }
   ],
   "source": [
    "df.count()"
   ]
  },
  {
   "cell_type": "code",
   "execution_count": 33,
   "metadata": {},
   "outputs": [],
   "source": [
    "y=df['Departure delay (Minutes)']"
   ]
  },
  {
   "cell_type": "code",
   "execution_count": 34,
   "metadata": {},
   "outputs": [],
   "source": [
    "x=df['Delay Weather (Minutes)']"
   ]
  },
  {
   "cell_type": "code",
   "execution_count": 35,
   "metadata": {},
   "outputs": [],
   "source": [
    "(slope, intercept, _, _, _) = linregress(x, y)\n",
    "fit = slope * x + intercept"
   ]
  },
  {
   "cell_type": "code",
   "execution_count": 36,
   "metadata": {},
   "outputs": [
    {
     "data": {
      "image/png": "[encoded data removed]",
      "text/plain": [
       "<Figure size 432x288 with 1 Axes>"
      ]
     },
     "metadata": {
      "needs_background": "light"
     },
     "output_type": "display_data"
    }
   ],
   "source": [
    "fig, ax = plt.subplots()\n",
    "\n",
    "fig.suptitle(\"Weather delay vs Departure delay\", fontsize=16, fontweight=\"bold\")\n",
    "ax.set_xlim(0, 600)\n",
    "\n",
    "ax.set_xlabel(\"Weather Delay\")\n",
    "ax.set_ylabel(\"Departure Delay\")\n",
    "\n",
    "ax.plot(x, y, linewidth=0, marker='o')\n",
    "ax.plot(x, fit, 'b--')\n",
    "\n",
    "plt.show()"
   ]
  },
  {
   "cell_type": "code",
   "execution_count": 37,
   "metadata": {},
   "outputs": [
    {
     "data": {
      "text/plain": [
       "Ttest_indResult(statistic=-19.337375525264942, pvalue=1.0699003274504953e-79)"
      ]
     },
     "execution_count": 37,
     "metadata": {},
     "output_type": "execute_result"
    }
   ],
   "source": [
    "stats.ttest_ind(x, y, equal_var=False)"
   ]
  },
  {
   "cell_type": "code",
   "execution_count": 38,
   "metadata": {},
   "outputs": [],
   "source": [
    "x1=df['Delay Carrier (Minutes)']"
   ]
  },
  {
   "cell_type": "code",
   "execution_count": 39,
   "metadata": {},
   "outputs": [],
   "source": [
    "(slope, intercept, _, _, _) = linregress(x1, y)\n",
    "fit1 = slope * x1 + intercept"
   ]
  },
  {
   "cell_type": "code",
   "execution_count": 40,
   "metadata": {},
   "outputs": [
    {
     "data": {
      "image/png": "[encoded data removed]",
      "text/plain": [
       "<Figure size 432x288 with 1 Axes>"
      ]
     },
     "metadata": {
      "needs_background": "light"
     },
     "output_type": "display_data"
    }
   ],
   "source": [
    "fig, ax = plt.subplots()\n",
    "\n",
    "fig.suptitle(\"Carrier Delay vs Departure delay\", fontsize=16, fontweight=\"bold\")\n",
    "\n",
    "ax.set_xlim(0, 1000)\n",
    "\n",
    "ax.set_xlabel(\"Carrier Delay\")\n",
    "ax.set_ylabel(\"Departure Delay\")\n",
    "\n",
    "ax.plot(x1, y, linewidth=0, marker='o')\n",
    "ax.plot(x1, fit1, 'b--')\n",
    "\n",
    "plt.show()"
   ]
  },
  {
   "cell_type": "code",
   "execution_count": 41,
   "metadata": {},
   "outputs": [
    {
     "data": {
      "text/plain": [
       "Ttest_indResult(statistic=-12.092631285741495, pvalue=2.9808677385759905e-33)"
      ]
     },
     "execution_count": 41,
     "metadata": {},
     "output_type": "execute_result"
    }
   ],
   "source": [
    "stats.ttest_ind(x1, y, equal_var=False)"
   ]
  },
  {
   "cell_type": "code",
   "execution_count": 42,
   "metadata": {},
   "outputs": [],
   "source": [
    "x2=df['Delay National Aviation System (Minutes)']"
   ]
  },
  {
   "cell_type": "code",
   "execution_count": 43,
   "metadata": {},
   "outputs": [],
   "source": [
    "(slope, intercept, _, _, _) = linregress(x2, y)\n",
    "fit2 = slope * x2 + intercept"
   ]
  },
  {
   "cell_type": "code",
   "execution_count": 44,
   "metadata": {},
   "outputs": [
    {
     "data": {
      "image/png": "[encoded data removed]",
      "text/plain": [
       "<Figure size 432x288 with 1 Axes>"
      ]
     },
     "metadata": {
      "needs_background": "light"
     },
     "output_type": "display_data"
    }
   ],
   "source": [
    "fig, ax = plt.subplots()\n",
    "\n",
    "fig.suptitle(\"National aviation delay vs Departure delay\", fontsize=16, fontweight=\"bold\")\n",
    "\n",
    "ax.set_xlim(0, 400)\n",
    "ax.set_ylim(0, 400)\n",
    "\n",
    "ax.set_xlabel(\"National aviation Delay\")\n",
    "ax.set_ylabel(\"Departure Delay\")\n",
    "\n",
    "ax.plot(x2, y, linewidth=0, marker='o')\n",
    "ax.plot(x2, fit2, 'b--')\n",
    "\n",
    "plt.show()"
   ]
  },
  {
   "cell_type": "code",
   "execution_count": 45,
   "metadata": {},
   "outputs": [
    {
     "data": {
      "text/plain": [
       "Ttest_indResult(statistic=-16.792469582949114, pvalue=2.7015472793207546e-61)"
      ]
     },
     "execution_count": 45,
     "metadata": {},
     "output_type": "execute_result"
    }
   ],
   "source": [
    "stats.ttest_ind(x2, y, equal_var=False)"
   ]
  },
  {
   "cell_type": "code",
   "execution_count": 46,
   "metadata": {},
   "outputs": [],
   "source": [
    "x3=df['Delay Late Aircraft Arrival (Minutes)']"
   ]
  },
  {
   "cell_type": "code",
   "execution_count": 47,
   "metadata": {},
   "outputs": [],
   "source": [
    "(slope, intercept, _, _, _) = linregress(x3, y)\n",
    "fit3 = slope * x3 + intercept"
   ]
  },
  {
   "cell_type": "code",
   "execution_count": 48,
   "metadata": {},
   "outputs": [
    {
     "data": {
      "image/png": "[encoded data removed]",
      "text/plain": [
       "<Figure size 432x288 with 1 Axes>"
      ]
     },
     "metadata": {
      "needs_background": "light"
     },
     "output_type": "display_data"
    }
   ],
   "source": [
    "fig, ax = plt.subplots()\n",
    "\n",
    "fig.suptitle(\"Aircraft arrival delay vs Departure delay\", fontsize=16, fontweight=\"bold\")\n",
    "\n",
    "ax.set_xlim(0, 400)\n",
    "ax.set_ylim(0, 600)\n",
    "\n",
    "ax.set_xlabel(\"Late aircraft arrival Delay\")\n",
    "ax.set_ylabel(\"Departure Delay\")\n",
    "\n",
    "ax.plot(x3, y, linewidth=0, marker='o')\n",
    "ax.plot(x3, fit3, 'b--')\n",
    "\n",
    "plt.show()"
   ]
  },
  {
   "cell_type": "code",
   "execution_count": 49,
   "metadata": {},
   "outputs": [
    {
     "data": {
      "text/plain": [
       "Ttest_indResult(statistic=-7.740452888797885, pvalue=1.1523037413376842e-14)"
      ]
     },
     "execution_count": 49,
     "metadata": {},
     "output_type": "execute_result"
    }
   ],
   "source": [
    "stats.ttest_ind(x3, y, equal_var=False)"
   ]
  },
  {
   "cell_type": "code",
   "execution_count": 50,
   "metadata": {},
   "outputs": [],
   "source": [
    "x4=df['Delay Security (Minutes)']"
   ]
  },
  {
   "cell_type": "code",
   "execution_count": 51,
   "metadata": {},
   "outputs": [],
   "source": [
    "(slope, intercept, _, _, _) = linregress(x4, y)\n",
    "fit4 = slope * x4 + intercept"
   ]
  },
  {
   "cell_type": "code",
   "execution_count": 52,
   "metadata": {},
   "outputs": [
    {
     "data": {
      "image/png": "[encoded data removed]",
      "text/plain": [
       "<Figure size 432x288 with 1 Axes>"
      ]
     },
     "metadata": {
      "needs_background": "light"
     },
     "output_type": "display_data"
    }
   ],
   "source": [
    "fig, ax = plt.subplots()\n",
    "\n",
    "fig.suptitle(\"Security delay vs Departure delay\", fontsize=16, fontweight=\"bold\")\n",
    "\n",
    "ax.set_xlim(0, 100)\n",
    "\n",
    "ax.set_xlabel(\"Security Delay\")\n",
    "ax.set_ylabel(\"Departure Delay\")\n",
    "\n",
    "ax.plot(x4, y, linewidth=0, marker='o')\n",
    "ax.plot(x4, fit4, 'b--')\n",
    "\n",
    "plt.show()"
   ]
  },
  {
   "cell_type": "code",
   "execution_count": null,
   "metadata": {},
   "outputs": [],
   "source": []
  },
  {
   "cell_type": "code",
   "execution_count": null,
   "metadata": {},
   "outputs": [],
   "source": []
  },
  {
   "cell_type": "code",
   "execution_count": null,
   "metadata": {},
   "outputs": [],
   "source": []
  }
 ],
 "metadata": {
  "kernelspec": {
   "display_name": "Python 3",
   "language": "python",
   "name": "python3"
  },
  "language_info": {
   "codemirror_mode": {
    "name": "ipython",
    "version": 3
   },
   "file_extension": ".py",
   "mimetype": "text/x-python",
   "name": "python",
   "nbconvert_exporter": "python",
   "pygments_lexer": "ipython3",
   "version": "3.7.4"
  }
 },
 "nbformat": 4,
 "nbformat_minor": 2
}
